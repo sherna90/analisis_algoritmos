{
  "nbformat": 4,
  "nbformat_minor": 0,
  "metadata": {
    "colab": {
      "name": "tsp_or_tools.ipynb",
      "provenance": [],
      "authorship_tag": "ABX9TyNqWp0Dwko45ZrqmR96m80I",
      "include_colab_link": true
    },
    "kernelspec": {
      "name": "python3",
      "display_name": "Python 3"
    },
    "language_info": {
      "name": "python"
    }
  },
  "cells": [
    {
      "cell_type": "markdown",
      "metadata": {
        "id": "view-in-github",
        "colab_type": "text"
      },
      "source": [
        "<a href=\"https://colab.research.google.com/github/sherna90/analisis_algoritmos/blob/master/6.-tsp_or_tools.ipynb\" target=\"_parent\"><img src=\"https://colab.research.google.com/assets/colab-badge.svg\" alt=\"Open In Colab\"/></a>"
      ]
    },
    {
      "cell_type": "code",
      "source": [
        "!pip install ssl\n",
        "!pip install haversine\n",
        "!pip install ortools"
      ],
      "metadata": {
        "colab": {
          "base_uri": "https://localhost:8080/"
        },
        "id": "EwqKp8qjqClh",
        "outputId": "c5ab0872-f375-483a-a6dc-46f562d06a77"
      },
      "execution_count": 1,
      "outputs": [
        {
          "output_type": "stream",
          "name": "stdout",
          "text": [
            "Looking in indexes: https://pypi.org/simple, https://us-python.pkg.dev/colab-wheels/public/simple/\n",
            "Collecting ssl\n",
            "  Downloading ssl-1.16.tar.gz (33 kB)\n",
            "  \u001b[1;31merror\u001b[0m: \u001b[1msubprocess-exited-with-error\u001b[0m\n",
            "  \n",
            "  \u001b[31m×\u001b[0m \u001b[32mpython setup.py egg_info\u001b[0m did not run successfully.\n",
            "  \u001b[31m│\u001b[0m exit code: \u001b[1;36m1\u001b[0m\n",
            "  \u001b[31m╰─>\u001b[0m See above for output.\n",
            "  \n",
            "  \u001b[1;35mnote\u001b[0m: This error originates from a subprocess, and is likely not a problem with pip.\n",
            "  Preparing metadata (setup.py) ... \u001b[?25l\u001b[?25herror\n",
            "\u001b[1;31merror\u001b[0m: \u001b[1mmetadata-generation-failed\u001b[0m\n",
            "\n",
            "\u001b[31m×\u001b[0m Encountered error while generating package metadata.\n",
            "\u001b[31m╰─>\u001b[0m See above for output.\n",
            "\n",
            "\u001b[1;35mnote\u001b[0m: This is an issue with the package mentioned above, not pip.\n",
            "\u001b[1;36mhint\u001b[0m: See above for details.\n",
            "Looking in indexes: https://pypi.org/simple, https://us-python.pkg.dev/colab-wheels/public/simple/\n",
            "Collecting haversine\n",
            "  Downloading haversine-2.8.0-py2.py3-none-any.whl (7.7 kB)\n",
            "Installing collected packages: haversine\n",
            "Successfully installed haversine-2.8.0\n",
            "Looking in indexes: https://pypi.org/simple, https://us-python.pkg.dev/colab-wheels/public/simple/\n",
            "Collecting ortools\n",
            "  Downloading ortools-9.6.2534-cp310-cp310-manylinux_2_17_x86_64.manylinux2014_x86_64.whl (16.4 MB)\n",
            "\u001b[2K     \u001b[90m━━━━━━━━━━━━━━━━━━━━━━━━━━━━━━━━━━━━━━━━\u001b[0m \u001b[32m16.4/16.4 MB\u001b[0m \u001b[31m69.4 MB/s\u001b[0m eta \u001b[36m0:00:00\u001b[0m\n",
            "\u001b[?25hRequirement already satisfied: absl-py>=0.13 in /usr/local/lib/python3.10/dist-packages (from ortools) (1.4.0)\n",
            "Requirement already satisfied: numpy>=1.13.3 in /usr/local/lib/python3.10/dist-packages (from ortools) (1.22.4)\n",
            "Collecting protobuf>=4.21.12 (from ortools)\n",
            "  Downloading protobuf-4.23.3-cp37-abi3-manylinux2014_x86_64.whl (304 kB)\n",
            "\u001b[2K     \u001b[90m━━━━━━━━━━━━━━━━━━━━━━━━━━━━━━━━━━━━━━\u001b[0m \u001b[32m304.5/304.5 kB\u001b[0m \u001b[31m21.7 MB/s\u001b[0m eta \u001b[36m0:00:00\u001b[0m\n",
            "\u001b[?25hRequirement already satisfied: scipy>=1.10.0 in /usr/local/lib/python3.10/dist-packages (from ortools) (1.10.1)\n",
            "Installing collected packages: protobuf, ortools\n",
            "  Attempting uninstall: protobuf\n",
            "    Found existing installation: protobuf 3.20.3\n",
            "    Uninstalling protobuf-3.20.3:\n",
            "      Successfully uninstalled protobuf-3.20.3\n",
            "Successfully installed ortools-9.6.2534 protobuf-4.23.3\n"
          ]
        }
      ]
    },
    {
      "cell_type": "code",
      "source": [
        "import ssl\n",
        "\n",
        "ssl._create_default_https_context = ssl._create_unverified_context"
      ],
      "metadata": {
        "id": "7l_BsbiZqaxi"
      },
      "execution_count": 2,
      "outputs": []
    },
    {
      "cell_type": "code",
      "execution_count": 3,
      "metadata": {
        "id": "mDg9-mbdoGW-"
      },
      "outputs": [],
      "source": [
        "import pandas as pd"
      ]
    },
    {
      "cell_type": "code",
      "source": [
        "distance=1\n",
        "url='https://puntoslimpios.mma.gob.cl/api/points/geo?lat=-35.4232444&lng=-71.6484804&distance={}'.format(distance)"
      ],
      "metadata": {
        "id": "CfzIyWRioJRz"
      },
      "execution_count": 4,
      "outputs": []
    },
    {
      "cell_type": "code",
      "source": [
        "df=pd.read_json(url)"
      ],
      "metadata": {
        "id": "XQaiAoBfoghT"
      },
      "execution_count": 5,
      "outputs": []
    },
    {
      "cell_type": "code",
      "source": [
        "df"
      ],
      "metadata": {
        "colab": {
          "base_uri": "https://localhost:8080/",
          "height": 1000
        },
        "id": "7m7VJ-5ppzzd",
        "outputId": "3137067d-9fe9-427f-f902-76c39d95f796"
      },
      "execution_count": 6,
      "outputs": [
        {
          "output_type": "execute_result",
          "data": {
            "text/plain": [
              "    distance        lat status        lng                           owner  \\\n",
              "0   0.415525 -35.425537   open -71.644859                        CRISTORO   \n",
              "1   0.435133 -35.425625   open -71.644669                        CRISTORO   \n",
              "2   0.563316 -35.419284   open -71.652357               Claudia Mocárquer   \n",
              "3   0.655458 -35.425101   open -71.655346             Ciro Vergara Blanco   \n",
              "4   0.671793 -35.425675   open -71.655268                  guillermo toro   \n",
              "5   0.692395 -35.427981   open -71.643520             Ciro Vergara Blanco   \n",
              "6   0.701577 -35.418307   open -71.643660                  guillermo toro   \n",
              "7   0.859046 -35.427758   open -71.640786                  guillermo toro   \n",
              "8   0.880842 -35.415556   open -71.646137  Ilustre Municipalidad de Talca   \n",
              "9   0.888974 -35.430895   open -71.651328               Claudia Mocárquer   \n",
              "10  0.916116 -35.426510   open -71.639198                        CRISTORO   \n",
              "11  0.954394 -35.431423   open -71.645285                  guillermo toro   \n",
              "\n",
              "   type address_type                         manager address_number  \\\n",
              "0    pv                                     CRISTORO                  \n",
              "1    pv                                     CRISTORO                  \n",
              "2    pv        Calle                    Reciclaplast           1774   \n",
              "3    pv       Pasaje     Reciclaje Plasticos Vergara                  \n",
              "4    pv                             cristaleria toro                  \n",
              "5    pv                  Reciclaje Plasticos Vergara                  \n",
              "6    pv                             cristaleria toro                  \n",
              "7    pv                             cristaleria toro                  \n",
              "8    pl        Calle  Ilustre Municipalidad de Talca           1957   \n",
              "9    pv                                 Reciclaplast                  \n",
              "10   pv                                     CRISTORO                  \n",
              "11   pv                             cristaleria toro                  \n",
              "\n",
              "         address_name                                            region  \\\n",
              "0             2 Norte  {'id': 7, 'abbreviation': 'ma', 'name': 'Maule'}   \n",
              "1             2 Norte  {'id': 7, 'abbreviation': 'ma', 'name': 'Maule'}   \n",
              "2       9 1/2 Oriente  {'id': 7, 'abbreviation': 'ma', 'name': 'Maule'}   \n",
              "3           8 Oriente  {'id': 7, 'abbreviation': 'ma', 'name': 'Maule'}   \n",
              "4           8 Oriente  {'id': 7, 'abbreviation': 'ma', 'name': 'Maule'}   \n",
              "5             1 Norte  {'id': 7, 'abbreviation': 'ma', 'name': 'Maule'}   \n",
              "6          14 Oriente  {'id': 7, 'abbreviation': 'ma', 'name': 'Maule'}   \n",
              "7          18 Oriente  {'id': 7, 'abbreviation': 'ma', 'name': 'Maule'}   \n",
              "8   Trece 1/2 Oriente  {'id': 7, 'abbreviation': 'ma', 'name': 'Maule'}   \n",
              "9              12 Sur  {'id': 7, 'abbreviation': 'ma', 'name': 'Maule'}   \n",
              "10         18 Oriente  {'id': 7, 'abbreviation': 'ma', 'name': 'Maule'}   \n",
              "11         15 Oriente  {'id': 7, 'abbreviation': 'ma', 'name': 'Maule'}   \n",
              "\n",
              "                         commune  \\\n",
              "0   {'id': 116, 'name': 'Talca'}   \n",
              "1   {'id': 116, 'name': 'Talca'}   \n",
              "2   {'id': 116, 'name': 'Talca'}   \n",
              "3   {'id': 116, 'name': 'Talca'}   \n",
              "4   {'id': 116, 'name': 'Talca'}   \n",
              "5   {'id': 116, 'name': 'Talca'}   \n",
              "6   {'id': 116, 'name': 'Talca'}   \n",
              "7   {'id': 116, 'name': 'Talca'}   \n",
              "8   {'id': 116, 'name': 'Talca'}   \n",
              "9   {'id': 116, 'name': 'Talca'}   \n",
              "10  {'id': 116, 'name': 'Talca'}   \n",
              "11  {'id': 116, 'name': 'Talca'}   \n",
              "\n",
              "                                            materials  \n",
              "0                                             [glass]  \n",
              "1                                             [glass]  \n",
              "2                                           [plastic]  \n",
              "3                                           [plastic]  \n",
              "4                                             [glass]  \n",
              "5                                           [plastic]  \n",
              "6                                             [glass]  \n",
              "7                                             [glass]  \n",
              "8   [glass, paper, paperboard, cardboard_drink, pl...  \n",
              "9                                           [plastic]  \n",
              "10                                            [glass]  \n",
              "11                                            [glass]  "
            ],
            "text/html": [
              "\n",
              "  <div id=\"df-5651123d-3ba4-4099-92e0-71167695cc0e\">\n",
              "    <div class=\"colab-df-container\">\n",
              "      <div>\n",
              "<style scoped>\n",
              "    .dataframe tbody tr th:only-of-type {\n",
              "        vertical-align: middle;\n",
              "    }\n",
              "\n",
              "    .dataframe tbody tr th {\n",
              "        vertical-align: top;\n",
              "    }\n",
              "\n",
              "    .dataframe thead th {\n",
              "        text-align: right;\n",
              "    }\n",
              "</style>\n",
              "<table border=\"1\" class=\"dataframe\">\n",
              "  <thead>\n",
              "    <tr style=\"text-align: right;\">\n",
              "      <th></th>\n",
              "      <th>distance</th>\n",
              "      <th>lat</th>\n",
              "      <th>status</th>\n",
              "      <th>lng</th>\n",
              "      <th>owner</th>\n",
              "      <th>type</th>\n",
              "      <th>address_type</th>\n",
              "      <th>manager</th>\n",
              "      <th>address_number</th>\n",
              "      <th>address_name</th>\n",
              "      <th>region</th>\n",
              "      <th>commune</th>\n",
              "      <th>materials</th>\n",
              "    </tr>\n",
              "  </thead>\n",
              "  <tbody>\n",
              "    <tr>\n",
              "      <th>0</th>\n",
              "      <td>0.415525</td>\n",
              "      <td>-35.425537</td>\n",
              "      <td>open</td>\n",
              "      <td>-71.644859</td>\n",
              "      <td>CRISTORO</td>\n",
              "      <td>pv</td>\n",
              "      <td></td>\n",
              "      <td>CRISTORO</td>\n",
              "      <td></td>\n",
              "      <td>2 Norte</td>\n",
              "      <td>{'id': 7, 'abbreviation': 'ma', 'name': 'Maule'}</td>\n",
              "      <td>{'id': 116, 'name': 'Talca'}</td>\n",
              "      <td>[glass]</td>\n",
              "    </tr>\n",
              "    <tr>\n",
              "      <th>1</th>\n",
              "      <td>0.435133</td>\n",
              "      <td>-35.425625</td>\n",
              "      <td>open</td>\n",
              "      <td>-71.644669</td>\n",
              "      <td>CRISTORO</td>\n",
              "      <td>pv</td>\n",
              "      <td></td>\n",
              "      <td>CRISTORO</td>\n",
              "      <td></td>\n",
              "      <td>2 Norte</td>\n",
              "      <td>{'id': 7, 'abbreviation': 'ma', 'name': 'Maule'}</td>\n",
              "      <td>{'id': 116, 'name': 'Talca'}</td>\n",
              "      <td>[glass]</td>\n",
              "    </tr>\n",
              "    <tr>\n",
              "      <th>2</th>\n",
              "      <td>0.563316</td>\n",
              "      <td>-35.419284</td>\n",
              "      <td>open</td>\n",
              "      <td>-71.652357</td>\n",
              "      <td>Claudia Mocárquer</td>\n",
              "      <td>pv</td>\n",
              "      <td>Calle</td>\n",
              "      <td>Reciclaplast</td>\n",
              "      <td>1774</td>\n",
              "      <td>9 1/2 Oriente</td>\n",
              "      <td>{'id': 7, 'abbreviation': 'ma', 'name': 'Maule'}</td>\n",
              "      <td>{'id': 116, 'name': 'Talca'}</td>\n",
              "      <td>[plastic]</td>\n",
              "    </tr>\n",
              "    <tr>\n",
              "      <th>3</th>\n",
              "      <td>0.655458</td>\n",
              "      <td>-35.425101</td>\n",
              "      <td>open</td>\n",
              "      <td>-71.655346</td>\n",
              "      <td>Ciro Vergara Blanco</td>\n",
              "      <td>pv</td>\n",
              "      <td>Pasaje</td>\n",
              "      <td>Reciclaje Plasticos Vergara</td>\n",
              "      <td></td>\n",
              "      <td>8 Oriente</td>\n",
              "      <td>{'id': 7, 'abbreviation': 'ma', 'name': 'Maule'}</td>\n",
              "      <td>{'id': 116, 'name': 'Talca'}</td>\n",
              "      <td>[plastic]</td>\n",
              "    </tr>\n",
              "    <tr>\n",
              "      <th>4</th>\n",
              "      <td>0.671793</td>\n",
              "      <td>-35.425675</td>\n",
              "      <td>open</td>\n",
              "      <td>-71.655268</td>\n",
              "      <td>guillermo toro</td>\n",
              "      <td>pv</td>\n",
              "      <td></td>\n",
              "      <td>cristaleria toro</td>\n",
              "      <td></td>\n",
              "      <td>8 Oriente</td>\n",
              "      <td>{'id': 7, 'abbreviation': 'ma', 'name': 'Maule'}</td>\n",
              "      <td>{'id': 116, 'name': 'Talca'}</td>\n",
              "      <td>[glass]</td>\n",
              "    </tr>\n",
              "    <tr>\n",
              "      <th>5</th>\n",
              "      <td>0.692395</td>\n",
              "      <td>-35.427981</td>\n",
              "      <td>open</td>\n",
              "      <td>-71.643520</td>\n",
              "      <td>Ciro Vergara Blanco</td>\n",
              "      <td>pv</td>\n",
              "      <td></td>\n",
              "      <td>Reciclaje Plasticos Vergara</td>\n",
              "      <td></td>\n",
              "      <td>1 Norte</td>\n",
              "      <td>{'id': 7, 'abbreviation': 'ma', 'name': 'Maule'}</td>\n",
              "      <td>{'id': 116, 'name': 'Talca'}</td>\n",
              "      <td>[plastic]</td>\n",
              "    </tr>\n",
              "    <tr>\n",
              "      <th>6</th>\n",
              "      <td>0.701577</td>\n",
              "      <td>-35.418307</td>\n",
              "      <td>open</td>\n",
              "      <td>-71.643660</td>\n",
              "      <td>guillermo toro</td>\n",
              "      <td>pv</td>\n",
              "      <td></td>\n",
              "      <td>cristaleria toro</td>\n",
              "      <td></td>\n",
              "      <td>14 Oriente</td>\n",
              "      <td>{'id': 7, 'abbreviation': 'ma', 'name': 'Maule'}</td>\n",
              "      <td>{'id': 116, 'name': 'Talca'}</td>\n",
              "      <td>[glass]</td>\n",
              "    </tr>\n",
              "    <tr>\n",
              "      <th>7</th>\n",
              "      <td>0.859046</td>\n",
              "      <td>-35.427758</td>\n",
              "      <td>open</td>\n",
              "      <td>-71.640786</td>\n",
              "      <td>guillermo toro</td>\n",
              "      <td>pv</td>\n",
              "      <td></td>\n",
              "      <td>cristaleria toro</td>\n",
              "      <td></td>\n",
              "      <td>18 Oriente</td>\n",
              "      <td>{'id': 7, 'abbreviation': 'ma', 'name': 'Maule'}</td>\n",
              "      <td>{'id': 116, 'name': 'Talca'}</td>\n",
              "      <td>[glass]</td>\n",
              "    </tr>\n",
              "    <tr>\n",
              "      <th>8</th>\n",
              "      <td>0.880842</td>\n",
              "      <td>-35.415556</td>\n",
              "      <td>open</td>\n",
              "      <td>-71.646137</td>\n",
              "      <td>Ilustre Municipalidad de Talca</td>\n",
              "      <td>pl</td>\n",
              "      <td>Calle</td>\n",
              "      <td>Ilustre Municipalidad de Talca</td>\n",
              "      <td>1957</td>\n",
              "      <td>Trece 1/2 Oriente</td>\n",
              "      <td>{'id': 7, 'abbreviation': 'ma', 'name': 'Maule'}</td>\n",
              "      <td>{'id': 116, 'name': 'Talca'}</td>\n",
              "      <td>[glass, paper, paperboard, cardboard_drink, pl...</td>\n",
              "    </tr>\n",
              "    <tr>\n",
              "      <th>9</th>\n",
              "      <td>0.888974</td>\n",
              "      <td>-35.430895</td>\n",
              "      <td>open</td>\n",
              "      <td>-71.651328</td>\n",
              "      <td>Claudia Mocárquer</td>\n",
              "      <td>pv</td>\n",
              "      <td></td>\n",
              "      <td>Reciclaplast</td>\n",
              "      <td></td>\n",
              "      <td>12 Sur</td>\n",
              "      <td>{'id': 7, 'abbreviation': 'ma', 'name': 'Maule'}</td>\n",
              "      <td>{'id': 116, 'name': 'Talca'}</td>\n",
              "      <td>[plastic]</td>\n",
              "    </tr>\n",
              "    <tr>\n",
              "      <th>10</th>\n",
              "      <td>0.916116</td>\n",
              "      <td>-35.426510</td>\n",
              "      <td>open</td>\n",
              "      <td>-71.639198</td>\n",
              "      <td>CRISTORO</td>\n",
              "      <td>pv</td>\n",
              "      <td></td>\n",
              "      <td>CRISTORO</td>\n",
              "      <td></td>\n",
              "      <td>18 Oriente</td>\n",
              "      <td>{'id': 7, 'abbreviation': 'ma', 'name': 'Maule'}</td>\n",
              "      <td>{'id': 116, 'name': 'Talca'}</td>\n",
              "      <td>[glass]</td>\n",
              "    </tr>\n",
              "    <tr>\n",
              "      <th>11</th>\n",
              "      <td>0.954394</td>\n",
              "      <td>-35.431423</td>\n",
              "      <td>open</td>\n",
              "      <td>-71.645285</td>\n",
              "      <td>guillermo toro</td>\n",
              "      <td>pv</td>\n",
              "      <td></td>\n",
              "      <td>cristaleria toro</td>\n",
              "      <td></td>\n",
              "      <td>15 Oriente</td>\n",
              "      <td>{'id': 7, 'abbreviation': 'ma', 'name': 'Maule'}</td>\n",
              "      <td>{'id': 116, 'name': 'Talca'}</td>\n",
              "      <td>[glass]</td>\n",
              "    </tr>\n",
              "  </tbody>\n",
              "</table>\n",
              "</div>\n",
              "      <button class=\"colab-df-convert\" onclick=\"convertToInteractive('df-5651123d-3ba4-4099-92e0-71167695cc0e')\"\n",
              "              title=\"Convert this dataframe to an interactive table.\"\n",
              "              style=\"display:none;\">\n",
              "        \n",
              "  <svg xmlns=\"http://www.w3.org/2000/svg\" height=\"24px\"viewBox=\"0 0 24 24\"\n",
              "       width=\"24px\">\n",
              "    <path d=\"M0 0h24v24H0V0z\" fill=\"none\"/>\n",
              "    <path d=\"M18.56 5.44l.94 2.06.94-2.06 2.06-.94-2.06-.94-.94-2.06-.94 2.06-2.06.94zm-11 1L8.5 8.5l.94-2.06 2.06-.94-2.06-.94L8.5 2.5l-.94 2.06-2.06.94zm10 10l.94 2.06.94-2.06 2.06-.94-2.06-.94-.94-2.06-.94 2.06-2.06.94z\"/><path d=\"M17.41 7.96l-1.37-1.37c-.4-.4-.92-.59-1.43-.59-.52 0-1.04.2-1.43.59L10.3 9.45l-7.72 7.72c-.78.78-.78 2.05 0 2.83L4 21.41c.39.39.9.59 1.41.59.51 0 1.02-.2 1.41-.59l7.78-7.78 2.81-2.81c.8-.78.8-2.07 0-2.86zM5.41 20L4 18.59l7.72-7.72 1.47 1.35L5.41 20z\"/>\n",
              "  </svg>\n",
              "      </button>\n",
              "      \n",
              "  <style>\n",
              "    .colab-df-container {\n",
              "      display:flex;\n",
              "      flex-wrap:wrap;\n",
              "      gap: 12px;\n",
              "    }\n",
              "\n",
              "    .colab-df-convert {\n",
              "      background-color: #E8F0FE;\n",
              "      border: none;\n",
              "      border-radius: 50%;\n",
              "      cursor: pointer;\n",
              "      display: none;\n",
              "      fill: #1967D2;\n",
              "      height: 32px;\n",
              "      padding: 0 0 0 0;\n",
              "      width: 32px;\n",
              "    }\n",
              "\n",
              "    .colab-df-convert:hover {\n",
              "      background-color: #E2EBFA;\n",
              "      box-shadow: 0px 1px 2px rgba(60, 64, 67, 0.3), 0px 1px 3px 1px rgba(60, 64, 67, 0.15);\n",
              "      fill: #174EA6;\n",
              "    }\n",
              "\n",
              "    [theme=dark] .colab-df-convert {\n",
              "      background-color: #3B4455;\n",
              "      fill: #D2E3FC;\n",
              "    }\n",
              "\n",
              "    [theme=dark] .colab-df-convert:hover {\n",
              "      background-color: #434B5C;\n",
              "      box-shadow: 0px 1px 3px 1px rgba(0, 0, 0, 0.15);\n",
              "      filter: drop-shadow(0px 1px 2px rgba(0, 0, 0, 0.3));\n",
              "      fill: #FFFFFF;\n",
              "    }\n",
              "  </style>\n",
              "\n",
              "      <script>\n",
              "        const buttonEl =\n",
              "          document.querySelector('#df-5651123d-3ba4-4099-92e0-71167695cc0e button.colab-df-convert');\n",
              "        buttonEl.style.display =\n",
              "          google.colab.kernel.accessAllowed ? 'block' : 'none';\n",
              "\n",
              "        async function convertToInteractive(key) {\n",
              "          const element = document.querySelector('#df-5651123d-3ba4-4099-92e0-71167695cc0e');\n",
              "          const dataTable =\n",
              "            await google.colab.kernel.invokeFunction('convertToInteractive',\n",
              "                                                     [key], {});\n",
              "          if (!dataTable) return;\n",
              "\n",
              "          const docLinkHtml = 'Like what you see? Visit the ' +\n",
              "            '<a target=\"_blank\" href=https://colab.research.google.com/notebooks/data_table.ipynb>data table notebook</a>'\n",
              "            + ' to learn more about interactive tables.';\n",
              "          element.innerHTML = '';\n",
              "          dataTable['output_type'] = 'display_data';\n",
              "          await google.colab.output.renderOutput(dataTable, element);\n",
              "          const docLink = document.createElement('div');\n",
              "          docLink.innerHTML = docLinkHtml;\n",
              "          element.appendChild(docLink);\n",
              "        }\n",
              "      </script>\n",
              "    </div>\n",
              "  </div>\n",
              "  "
            ]
          },
          "metadata": {},
          "execution_count": 6
        }
      ]
    },
    {
      "cell_type": "code",
      "source": [
        "coords=list()\n",
        "for c in zip(df['lat'],df['lng']):\n",
        "  coords.append(c)"
      ],
      "metadata": {
        "id": "e_Yty5YArL0S"
      },
      "execution_count": 7,
      "outputs": []
    },
    {
      "cell_type": "code",
      "source": [
        "import haversine as hs\n",
        "\n",
        "def create_data_model(coords):\n",
        "    \"\"\"Stores the data for the problem.\"\"\"\n",
        "    data = {}\n",
        "    dist_mat=[[0 for _ in  range(len(coords))] for _ in  range(len(coords))]\n",
        "    locations={i:c for i,c in enumerate(coords)}\n",
        "    for u in range(len(coords)):\n",
        "      for v in range(len(coords)):\n",
        "        dist_mat[u][v]=int(hs.haversine(locations[u],locations[v],unit='m'))\n",
        "    data['distance_matrix'] = dist_mat\n",
        "    data['num_vehicles'] = 1\n",
        "    data['depot'] = 0\n",
        "    return data,locations"
      ],
      "metadata": {
        "id": "eJZn69hIsMqR"
      },
      "execution_count": 8,
      "outputs": []
    },
    {
      "cell_type": "code",
      "source": [
        "def print_solution(manager, routing, solution):\n",
        "    \"\"\"Prints solution on console.\"\"\"\n",
        "    print('Objective: {} meters'.format(solution.ObjectiveValue()))\n",
        "    index = routing.Start(0)\n",
        "    plan_output = 'Route for vehicle 0:\\n'\n",
        "    route_distance = 0\n",
        "    route=[index]\n",
        "    while not routing.IsEnd(index):\n",
        "        plan_output += ' {} ->'.format(manager.IndexToNode(index))\n",
        "        previous_index = index\n",
        "        index = solution.Value(routing.NextVar(index))\n",
        "        route_distance += routing.GetArcCostForVehicle(previous_index, index, 0)\n",
        "        route.append(index)\n",
        "    plan_output += ' {}\\n'.format(manager.IndexToNode(index))\n",
        "    print(plan_output)\n",
        "    plan_output += 'Route distance: {}meters\\n'.format(route_distance)\n",
        "    return route,route_distance\n"
      ],
      "metadata": {
        "id": "3FVu3EBdurDK"
      },
      "execution_count": 9,
      "outputs": []
    },
    {
      "cell_type": "code",
      "source": [
        "\"\"\"Simple Travelling Salesperson Problem (TSP) between cities.\"\"\"\n",
        "\n",
        "from ortools.constraint_solver import routing_enums_pb2\n",
        "from ortools.constraint_solver import pywrapcp\n",
        "\n",
        "data,locations = create_data_model(coords)\n",
        "\n",
        "# Create the routing index manager.\n",
        "manager = pywrapcp.RoutingIndexManager(len(data['distance_matrix']),\n",
        "                                           data['num_vehicles'], data['depot'])\n",
        "\n",
        "# Create Routing Model.\n",
        "routing = pywrapcp.RoutingModel(manager)\n",
        "\n",
        "\n",
        "def distance_callback(from_index, to_index):\n",
        "  \"\"\"Returns the distance between the two nodes.\"\"\"\n",
        "  # Convert from routing variable Index to distance matrix NodeIndex.\n",
        "  from_node = manager.IndexToNode(from_index)\n",
        "  to_node = manager.IndexToNode(to_index)\n",
        "  return data['distance_matrix'][from_node][to_node]\n",
        "\n",
        "transit_callback_index = routing.RegisterTransitCallback(distance_callback)\n",
        "\n",
        "# Define cost of each arc.\n",
        "routing.SetArcCostEvaluatorOfAllVehicles(transit_callback_index)\n",
        "\n",
        "# Setting first solution heuristic.\n",
        "\n",
        "search_parameters = pywrapcp.DefaultRoutingSearchParameters()\n",
        "search_parameters.local_search_metaheuristic = (\n",
        "    routing_enums_pb2.LocalSearchMetaheuristic.SIMULATED_ANNEALING)\n",
        "search_parameters.time_limit.seconds = 30\n",
        "search_parameters.log_search = True\n",
        "# Solve the problem.\n",
        "solution = routing.SolveWithParameters(search_parameters)\n",
        "print(\"Solver status: \", routing.status())\n",
        "# Print solution on console.\n",
        "if solution:\n",
        "  route,route_value=print_solution(manager, routing, solution)"
      ],
      "metadata": {
        "colab": {
          "base_uri": "https://localhost:8080/"
        },
        "id": "iKzfONMZuvii",
        "outputId": "daf1c17c-297b-49e4-b496-9e6e7b75d0e4"
      },
      "execution_count": 10,
      "outputs": [
        {
          "output_type": "stream",
          "name": "stdout",
          "text": [
            "Solver status:  1\n",
            "Objective: 5270 meters\n",
            "Route for vehicle 0:\n",
            " 0 -> 1 -> 10 -> 7 -> 5 -> 11 -> 9 -> 4 -> 3 -> 2 -> 8 -> 6 -> 0\n",
            "\n"
          ]
        }
      ]
    },
    {
      "cell_type": "code",
      "source": [
        "import numpy as np\n",
        "\n",
        "def make_cycle(current):\n",
        "    value=0\n",
        "    for c1,c2 in zip(current[:-1],current[1:]):\n",
        "      value+=hs.haversine(tuple(c1),tuple(c2),unit='m')\n",
        "    value+=hs.haversine(current[-1],current[0],unit='m')\n",
        "    return value\n",
        "\n",
        "current=np.random.permutation(coords).tolist()\n",
        "current_value=make_cycle(current)\n",
        "print('random cycle : {0:.2f} meters'.format(current_value))"
      ],
      "metadata": {
        "colab": {
          "base_uri": "https://localhost:8080/"
        },
        "id": "VJVD5A0Gx_oc",
        "outputId": "5a26154c-68da-4d8a-b0e3-8a2e1ee5ec58"
      },
      "execution_count": 18,
      "outputs": [
        {
          "output_type": "stream",
          "name": "stdout",
          "text": [
            "random cycle : 11584.39 meters\n"
          ]
        }
      ]
    },
    {
      "cell_type": "code",
      "source": [
        "n=np.math.factorial(len(coords))\n",
        "print(f'{n:_}')"
      ],
      "metadata": {
        "id": "JDAEqh1OTbkv",
        "outputId": "90a61c50-19d7-4967-921c-70d33c5c075d",
        "colab": {
          "base_uri": "https://localhost:8080/"
        }
      },
      "execution_count": 27,
      "outputs": [
        {
          "output_type": "stream",
          "name": "stdout",
          "text": [
            "479_001_600\n"
          ]
        }
      ]
    },
    {
      "cell_type": "code",
      "source": [
        "optimal_route=[coords[i] for i in route[:-1]]\n",
        "optimal_route.append(optimal_route[0])\n",
        "current_value=make_cycle(optimal_route)\n",
        "print('optimal cycle : {:.2f} meters'.format(current_value))"
      ],
      "metadata": {
        "colab": {
          "base_uri": "https://localhost:8080/"
        },
        "id": "y75tmWKw1mS5",
        "outputId": "d7c52543-0fe1-469b-dcb3-6b62ebb9df60"
      },
      "execution_count": 29,
      "outputs": [
        {
          "output_type": "stream",
          "name": "stdout",
          "text": [
            "optimal cycle : 5276.66 meters\n"
          ]
        }
      ]
    },
    {
      "cell_type": "code",
      "source": [
        "def make_population(coords,n_samples):\n",
        "    samples,values=list(),list()\n",
        "    for _ in range(n_samples):\n",
        "        current=np.random.permutation(coords).tolist()\n",
        "        value=make_cycle(current)\n",
        "        samples.append(current)\n",
        "        values.append(value)\n",
        "    return samples,values"
      ],
      "metadata": {
        "id": "6m731RUcHmvJ"
      },
      "execution_count": 30,
      "outputs": []
    },
    {
      "cell_type": "code",
      "source": [
        "samples,values=make_population(coords,5000)"
      ],
      "metadata": {
        "id": "V2W-YmLHHsVI"
      },
      "execution_count": 31,
      "outputs": []
    },
    {
      "cell_type": "code",
      "source": [
        "import matplotlib.pyplot as plt\n",
        "\n",
        "plt.hist(values)"
      ],
      "metadata": {
        "id": "y025ZzzbOGnt",
        "outputId": "77ada2b8-24be-4047-e451-a1ff32fb9162",
        "colab": {
          "base_uri": "https://localhost:8080/",
          "height": 536
        }
      },
      "execution_count": 33,
      "outputs": [
        {
          "output_type": "execute_result",
          "data": {
            "text/plain": [
              "(array([1.000e+00, 2.000e+01, 1.140e+02, 3.510e+02, 8.310e+02, 1.260e+03,\n",
              "        1.279e+03, 8.160e+02, 2.840e+02, 4.400e+01]),\n",
              " array([ 6487.78420155,  7313.54790047,  8139.31159939,  8965.07529831,\n",
              "         9790.83899723, 10616.60269615, 11442.36639507, 12268.13009399,\n",
              "        13093.89379291, 13919.65749184, 14745.42119076]),\n",
              " <BarContainer object of 10 artists>)"
            ]
          },
          "metadata": {},
          "execution_count": 33
        },
        {
          "output_type": "display_data",
          "data": {
            "text/plain": [
              "<Figure size 640x480 with 1 Axes>"
            ],
            "image/png": "[encoded data removed]"
          },
          "metadata": {}
        }
      ]
    },
    {
      "cell_type": "code",
      "source": [
        "import math\n",
        "\n",
        "class temperature_scheduling:\n",
        "\n",
        "    def __init__(self,initial_temperature,min_temperature,gamma):\n",
        "        self.initial_temperature=initial_temperature\n",
        "        self.min_temperature=min_temperature\n",
        "        self.temperature=initial_temperature\n",
        "        self.gamma=gamma\n",
        "\n",
        "    def exponential_decay(self):\n",
        "        self.temperature=self.gamma*self.temperature\n",
        "        return max(self.temperature,self.min_temperature)\n",
        "\n",
        "    def fast_decay(self,k):\n",
        "        self.temperature=self.initial_temperature/k\n",
        "        return max(self.temperature,self.min_temperature)\n",
        "\n",
        "    def logarithmic_decay(self,k):\n",
        "        self.temperature=self.initial_temperature*math.log(2)/math.log(k)\n",
        "        return max(self.temperature,self.min_temperature)"
      ],
      "metadata": {
        "id": "4pqBtEi1O2r6"
      },
      "execution_count": 34,
      "outputs": []
    },
    {
      "cell_type": "code",
      "source": [
        "import pandas as pd\n",
        "epochs=int(200)\n",
        "\n",
        "decays={'exponential':[],'fast':[],'logarithmic':[]}\n",
        "delta=1.2*(max(values)-min(values))\n",
        "t1=temperature_scheduling(delta,delta/10,0.9)\n",
        "t2=temperature_scheduling(delta,delta/10,0.9)\n",
        "t3=temperature_scheduling(delta,delta/10,0.9)\n",
        "for k in range(2,epochs):\n",
        "    decays['exponential'].append(t1.exponential_decay())\n",
        "    decays['fast'].append(t2.fast_decay(k))\n",
        "    decays['logarithmic'].append(t3.logarithmic_decay(k))\n",
        "\n",
        "\n",
        "pd.DataFrame(decays).plot()"
      ],
      "metadata": {
        "id": "x4XZjFD2O9FS",
        "outputId": "0b188d65-14b7-4716-abef-a71b7b62e997",
        "colab": {
          "base_uri": "https://localhost:8080/",
          "height": 448
        }
      },
      "execution_count": 41,
      "outputs": [
        {
          "output_type": "execute_result",
          "data": {
            "text/plain": [
              "<Axes: >"
            ]
          },
          "metadata": {},
          "execution_count": 41
        },
        {
          "output_type": "display_data",
          "data": {
            "text/plain": [
              "<Figure size 640x480 with 1 Axes>"
            ],
            "image/png": "[encoded data removed]"
          },
          "metadata": {}
        }
      ]
    },
    {
      "cell_type": "code",
      "source": [
        "pd.DataFrame(decays).head()"
      ],
      "metadata": {
        "id": "r1UWcH_GXifO",
        "outputId": "78ccc90f-7bb4-4679-a2b9-5773632ffde1",
        "colab": {
          "base_uri": "https://localhost:8080/",
          "height": 206
        }
      },
      "execution_count": null,
      "outputs": [
        {
          "output_type": "execute_result",
          "data": {
            "text/plain": [
              "    exponential          fast   logarithmic\n",
              "0  36442.548464  36442.584906  36442.584906\n",
              "1  36442.512021  18221.292453  22992.711114\n",
              "2  36442.475578  12147.528302  18221.292453\n",
              "3  36442.439136   9110.646227  15694.967035\n",
              "4  36442.402694   7288.516981  14097.916274"
            ],
            "text/html": [
              "\n",
              "  <div id=\"df-efd10a1b-b48a-454f-875d-dbc88ad836ff\">\n",
              "    <div class=\"colab-df-container\">\n",
              "      <div>\n",
              "<style scoped>\n",
              "    .dataframe tbody tr th:only-of-type {\n",
              "        vertical-align: middle;\n",
              "    }\n",
              "\n",
              "    .dataframe tbody tr th {\n",
              "        vertical-align: top;\n",
              "    }\n",
              "\n",
              "    .dataframe thead th {\n",
              "        text-align: right;\n",
              "    }\n",
              "</style>\n",
              "<table border=\"1\" class=\"dataframe\">\n",
              "  <thead>\n",
              "    <tr style=\"text-align: right;\">\n",
              "      <th></th>\n",
              "      <th>exponential</th>\n",
              "      <th>fast</th>\n",
              "      <th>logarithmic</th>\n",
              "    </tr>\n",
              "  </thead>\n",
              "  <tbody>\n",
              "    <tr>\n",
              "      <th>0</th>\n",
              "      <td>36442.548464</td>\n",
              "      <td>36442.584906</td>\n",
              "      <td>36442.584906</td>\n",
              "    </tr>\n",
              "    <tr>\n",
              "      <th>1</th>\n",
              "      <td>36442.512021</td>\n",
              "      <td>18221.292453</td>\n",
              "      <td>22992.711114</td>\n",
              "    </tr>\n",
              "    <tr>\n",
              "      <th>2</th>\n",
              "      <td>36442.475578</td>\n",
              "      <td>12147.528302</td>\n",
              "      <td>18221.292453</td>\n",
              "    </tr>\n",
              "    <tr>\n",
              "      <th>3</th>\n",
              "      <td>36442.439136</td>\n",
              "      <td>9110.646227</td>\n",
              "      <td>15694.967035</td>\n",
              "    </tr>\n",
              "    <tr>\n",
              "      <th>4</th>\n",
              "      <td>36442.402694</td>\n",
              "      <td>7288.516981</td>\n",
              "      <td>14097.916274</td>\n",
              "    </tr>\n",
              "  </tbody>\n",
              "</table>\n",
              "</div>\n",
              "      <button class=\"colab-df-convert\" onclick=\"convertToInteractive('df-efd10a1b-b48a-454f-875d-dbc88ad836ff')\"\n",
              "              title=\"Convert this dataframe to an interactive table.\"\n",
              "              style=\"display:none;\">\n",
              "        \n",
              "  <svg xmlns=\"http://www.w3.org/2000/svg\" height=\"24px\"viewBox=\"0 0 24 24\"\n",
              "       width=\"24px\">\n",
              "    <path d=\"M0 0h24v24H0V0z\" fill=\"none\"/>\n",
              "    <path d=\"M18.56 5.44l.94 2.06.94-2.06 2.06-.94-2.06-.94-.94-2.06-.94 2.06-2.06.94zm-11 1L8.5 8.5l.94-2.06 2.06-.94-2.06-.94L8.5 2.5l-.94 2.06-2.06.94zm10 10l.94 2.06.94-2.06 2.06-.94-2.06-.94-.94-2.06-.94 2.06-2.06.94z\"/><path d=\"M17.41 7.96l-1.37-1.37c-.4-.4-.92-.59-1.43-.59-.52 0-1.04.2-1.43.59L10.3 9.45l-7.72 7.72c-.78.78-.78 2.05 0 2.83L4 21.41c.39.39.9.59 1.41.59.51 0 1.02-.2 1.41-.59l7.78-7.78 2.81-2.81c.8-.78.8-2.07 0-2.86zM5.41 20L4 18.59l7.72-7.72 1.47 1.35L5.41 20z\"/>\n",
              "  </svg>\n",
              "      </button>\n",
              "      \n",
              "  <style>\n",
              "    .colab-df-container {\n",
              "      display:flex;\n",
              "      flex-wrap:wrap;\n",
              "      gap: 12px;\n",
              "    }\n",
              "\n",
              "    .colab-df-convert {\n",
              "      background-color: #E8F0FE;\n",
              "      border: none;\n",
              "      border-radius: 50%;\n",
              "      cursor: pointer;\n",
              "      display: none;\n",
              "      fill: #1967D2;\n",
              "      height: 32px;\n",
              "      padding: 0 0 0 0;\n",
              "      width: 32px;\n",
              "    }\n",
              "\n",
              "    .colab-df-convert:hover {\n",
              "      background-color: #E2EBFA;\n",
              "      box-shadow: 0px 1px 2px rgba(60, 64, 67, 0.3), 0px 1px 3px 1px rgba(60, 64, 67, 0.15);\n",
              "      fill: #174EA6;\n",
              "    }\n",
              "\n",
              "    [theme=dark] .colab-df-convert {\n",
              "      background-color: #3B4455;\n",
              "      fill: #D2E3FC;\n",
              "    }\n",
              "\n",
              "    [theme=dark] .colab-df-convert:hover {\n",
              "      background-color: #434B5C;\n",
              "      box-shadow: 0px 1px 3px 1px rgba(0, 0, 0, 0.15);\n",
              "      filter: drop-shadow(0px 1px 2px rgba(0, 0, 0, 0.3));\n",
              "      fill: #FFFFFF;\n",
              "    }\n",
              "  </style>\n",
              "\n",
              "      <script>\n",
              "        const buttonEl =\n",
              "          document.querySelector('#df-efd10a1b-b48a-454f-875d-dbc88ad836ff button.colab-df-convert');\n",
              "        buttonEl.style.display =\n",
              "          google.colab.kernel.accessAllowed ? 'block' : 'none';\n",
              "\n",
              "        async function convertToInteractive(key) {\n",
              "          const element = document.querySelector('#df-efd10a1b-b48a-454f-875d-dbc88ad836ff');\n",
              "          const dataTable =\n",
              "            await google.colab.kernel.invokeFunction('convertToInteractive',\n",
              "                                                     [key], {});\n",
              "          if (!dataTable) return;\n",
              "\n",
              "          const docLinkHtml = 'Like what you see? Visit the ' +\n",
              "            '<a target=\"_blank\" href=https://colab.research.google.com/notebooks/data_table.ipynb>data table notebook</a>'\n",
              "            + ' to learn more about interactive tables.';\n",
              "          element.innerHTML = '';\n",
              "          dataTable['output_type'] = 'display_data';\n",
              "          await google.colab.output.renderOutput(dataTable, element);\n",
              "          const docLink = document.createElement('div');\n",
              "          docLink.innerHTML = docLinkHtml;\n",
              "          element.appendChild(docLink);\n",
              "        }\n",
              "      </script>\n",
              "    </div>\n",
              "  </div>\n",
              "  "
            ]
          },
          "metadata": {},
          "execution_count": 264
        }
      ]
    },
    {
      "cell_type": "code",
      "source": [
        "pd.DataFrame(decays).tail()"
      ],
      "metadata": {
        "id": "OYVvTdRfXxzP",
        "outputId": "942f438b-50e1-451d-8c04-61f861bd8a4b",
        "colab": {
          "base_uri": "https://localhost:8080/",
          "height": 206
        }
      },
      "execution_count": null,
      "outputs": [
        {
          "output_type": "execute_result",
          "data": {
            "text/plain": [
              "      exponential         fast  logarithmic\n",
              "994  36406.342550  3644.258491  3658.893357\n",
              "995  36406.306143  3644.258491  3658.361586\n",
              "996  36406.269737  3644.258491  3657.830503\n",
              "997  36406.233331  3644.258491  3657.300105\n",
              "998  36406.196924  3644.258491  3656.770392"
            ],
            "text/html": [
              "\n",
              "  <div id=\"df-ed62a149-8452-4acd-b905-d96032cc191f\">\n",
              "    <div class=\"colab-df-container\">\n",
              "      <div>\n",
              "<style scoped>\n",
              "    .dataframe tbody tr th:only-of-type {\n",
              "        vertical-align: middle;\n",
              "    }\n",
              "\n",
              "    .dataframe tbody tr th {\n",
              "        vertical-align: top;\n",
              "    }\n",
              "\n",
              "    .dataframe thead th {\n",
              "        text-align: right;\n",
              "    }\n",
              "</style>\n",
              "<table border=\"1\" class=\"dataframe\">\n",
              "  <thead>\n",
              "    <tr style=\"text-align: right;\">\n",
              "      <th></th>\n",
              "      <th>exponential</th>\n",
              "      <th>fast</th>\n",
              "      <th>logarithmic</th>\n",
              "    </tr>\n",
              "  </thead>\n",
              "  <tbody>\n",
              "    <tr>\n",
              "      <th>994</th>\n",
              "      <td>36406.342550</td>\n",
              "      <td>3644.258491</td>\n",
              "      <td>3658.893357</td>\n",
              "    </tr>\n",
              "    <tr>\n",
              "      <th>995</th>\n",
              "      <td>36406.306143</td>\n",
              "      <td>3644.258491</td>\n",
              "      <td>3658.361586</td>\n",
              "    </tr>\n",
              "    <tr>\n",
              "      <th>996</th>\n",
              "      <td>36406.269737</td>\n",
              "      <td>3644.258491</td>\n",
              "      <td>3657.830503</td>\n",
              "    </tr>\n",
              "    <tr>\n",
              "      <th>997</th>\n",
              "      <td>36406.233331</td>\n",
              "      <td>3644.258491</td>\n",
              "      <td>3657.300105</td>\n",
              "    </tr>\n",
              "    <tr>\n",
              "      <th>998</th>\n",
              "      <td>36406.196924</td>\n",
              "      <td>3644.258491</td>\n",
              "      <td>3656.770392</td>\n",
              "    </tr>\n",
              "  </tbody>\n",
              "</table>\n",
              "</div>\n",
              "      <button class=\"colab-df-convert\" onclick=\"convertToInteractive('df-ed62a149-8452-4acd-b905-d96032cc191f')\"\n",
              "              title=\"Convert this dataframe to an interactive table.\"\n",
              "              style=\"display:none;\">\n",
              "        \n",
              "  <svg xmlns=\"http://www.w3.org/2000/svg\" height=\"24px\"viewBox=\"0 0 24 24\"\n",
              "       width=\"24px\">\n",
              "    <path d=\"M0 0h24v24H0V0z\" fill=\"none\"/>\n",
              "    <path d=\"M18.56 5.44l.94 2.06.94-2.06 2.06-.94-2.06-.94-.94-2.06-.94 2.06-2.06.94zm-11 1L8.5 8.5l.94-2.06 2.06-.94-2.06-.94L8.5 2.5l-.94 2.06-2.06.94zm10 10l.94 2.06.94-2.06 2.06-.94-2.06-.94-.94-2.06-.94 2.06-2.06.94z\"/><path d=\"M17.41 7.96l-1.37-1.37c-.4-.4-.92-.59-1.43-.59-.52 0-1.04.2-1.43.59L10.3 9.45l-7.72 7.72c-.78.78-.78 2.05 0 2.83L4 21.41c.39.39.9.59 1.41.59.51 0 1.02-.2 1.41-.59l7.78-7.78 2.81-2.81c.8-.78.8-2.07 0-2.86zM5.41 20L4 18.59l7.72-7.72 1.47 1.35L5.41 20z\"/>\n",
              "  </svg>\n",
              "      </button>\n",
              "      \n",
              "  <style>\n",
              "    .colab-df-container {\n",
              "      display:flex;\n",
              "      flex-wrap:wrap;\n",
              "      gap: 12px;\n",
              "    }\n",
              "\n",
              "    .colab-df-convert {\n",
              "      background-color: #E8F0FE;\n",
              "      border: none;\n",
              "      border-radius: 50%;\n",
              "      cursor: pointer;\n",
              "      display: none;\n",
              "      fill: #1967D2;\n",
              "      height: 32px;\n",
              "      padding: 0 0 0 0;\n",
              "      width: 32px;\n",
              "    }\n",
              "\n",
              "    .colab-df-convert:hover {\n",
              "      background-color: #E2EBFA;\n",
              "      box-shadow: 0px 1px 2px rgba(60, 64, 67, 0.3), 0px 1px 3px 1px rgba(60, 64, 67, 0.15);\n",
              "      fill: #174EA6;\n",
              "    }\n",
              "\n",
              "    [theme=dark] .colab-df-convert {\n",
              "      background-color: #3B4455;\n",
              "      fill: #D2E3FC;\n",
              "    }\n",
              "\n",
              "    [theme=dark] .colab-df-convert:hover {\n",
              "      background-color: #434B5C;\n",
              "      box-shadow: 0px 1px 3px 1px rgba(0, 0, 0, 0.15);\n",
              "      filter: drop-shadow(0px 1px 2px rgba(0, 0, 0, 0.3));\n",
              "      fill: #FFFFFF;\n",
              "    }\n",
              "  </style>\n",
              "\n",
              "      <script>\n",
              "        const buttonEl =\n",
              "          document.querySelector('#df-ed62a149-8452-4acd-b905-d96032cc191f button.colab-df-convert');\n",
              "        buttonEl.style.display =\n",
              "          google.colab.kernel.accessAllowed ? 'block' : 'none';\n",
              "\n",
              "        async function convertToInteractive(key) {\n",
              "          const element = document.querySelector('#df-ed62a149-8452-4acd-b905-d96032cc191f');\n",
              "          const dataTable =\n",
              "            await google.colab.kernel.invokeFunction('convertToInteractive',\n",
              "                                                     [key], {});\n",
              "          if (!dataTable) return;\n",
              "\n",
              "          const docLinkHtml = 'Like what you see? Visit the ' +\n",
              "            '<a target=\"_blank\" href=https://colab.research.google.com/notebooks/data_table.ipynb>data table notebook</a>'\n",
              "            + ' to learn more about interactive tables.';\n",
              "          element.innerHTML = '';\n",
              "          dataTable['output_type'] = 'display_data';\n",
              "          await google.colab.output.renderOutput(dataTable, element);\n",
              "          const docLink = document.createElement('div');\n",
              "          docLink.innerHTML = docLinkHtml;\n",
              "          element.appendChild(docLink);\n",
              "        }\n",
              "      </script>\n",
              "    </div>\n",
              "  </div>\n",
              "  "
            ]
          },
          "metadata": {},
          "execution_count": 286
        }
      ]
    },
    {
      "cell_type": "code",
      "source": [
        "def mutation(current):\n",
        "    i,j=np.random.randint(0,len(current),size=2)\n",
        "    new=current.copy()\n",
        "    new[i]=current[j]\n",
        "    new[j]=current[i]\n",
        "    return new"
      ],
      "metadata": {
        "id": "mhW3pljPPOzr"
      },
      "execution_count": null,
      "outputs": []
    },
    {
      "cell_type": "code",
      "source": [
        "k=1-1e-4\n",
        "initial_temperature=1.2*(max(values)-min(values))\n",
        "min_temp=initial_temperature/10\n",
        "\n",
        "current=np.random.permutation(coords).tolist()\n",
        "current_value=make_cycle(current)\n",
        "temp=temperature_scheduling(initial_temperature,min_temp,k)\n",
        "epochs=int(1e4)\n",
        "loss=[]\n",
        "accept_rate=0\n",
        "for i in range(1,epochs):\n",
        "    new=mutation(current)\n",
        "    next_value=make_cycle(new)\n",
        "    delta = (next_value-current_value)\n",
        "    T=temp.logarithmic_decay(i)\n",
        "    if delta>0:\n",
        "        current=new\n",
        "        accept_rate+=1\n",
        "    else:\n",
        "        alpha=min(1,np.exp(-1.0*delta/T))\n",
        "        if alpha>np.random.random():\n",
        "            current=new\n",
        "            current_value=next_value\n",
        "            accept_rate+=1\n",
        "    loss.append(current_value)\n",
        "    accept_rate=accept_rate/epochs"
      ],
      "metadata": {
        "id": "LTtSYcFVPeYc"
      },
      "execution_count": null,
      "outputs": []
    },
    {
      "cell_type": "code",
      "source": [
        "delta"
      ],
      "metadata": {
        "id": "IfOLXAuUbCva",
        "outputId": "2f0500ac-8b75-4d48-b03a-c9f10d657035",
        "colab": {
          "base_uri": "https://localhost:8080/"
        }
      },
      "execution_count": null,
      "outputs": [
        {
          "output_type": "execute_result",
          "data": {
            "text/plain": [
              "24740.33238960775"
            ]
          },
          "metadata": {},
          "execution_count": 283
        }
      ]
    },
    {
      "cell_type": "code",
      "source": [
        "T"
      ],
      "metadata": {
        "id": "-3GUbL5abE0Q",
        "outputId": "8c86cf97-cbac-476b-ce53-6c03041debcd",
        "colab": {
          "base_uri": "https://localhost:8080/"
        }
      },
      "execution_count": null,
      "outputs": [
        {
          "output_type": "execute_result",
          "data": {
            "text/plain": [
              "4373.110188730731"
            ]
          },
          "metadata": {},
          "execution_count": 284
        }
      ]
    },
    {
      "cell_type": "code",
      "source": [
        "np.exp(-delta/T)"
      ],
      "metadata": {
        "id": "E8XjTYnZV631",
        "outputId": "be264639-82f2-48ee-af80-56ccef6700a3",
        "colab": {
          "base_uri": "https://localhost:8080/"
        }
      },
      "execution_count": null,
      "outputs": [
        {
          "output_type": "execute_result",
          "data": {
            "text/plain": [
              "0.00349166401811357"
            ]
          },
          "metadata": {},
          "execution_count": 285
        }
      ]
    },
    {
      "cell_type": "code",
      "source": [
        "plt.plot(loss)"
      ],
      "metadata": {
        "id": "CLWy4-qIRF7p",
        "outputId": "24918837-ccfa-4d80-f020-aa68870e45e6",
        "colab": {
          "base_uri": "https://localhost:8080/",
          "height": 282
        }
      },
      "execution_count": null,
      "outputs": [
        {
          "output_type": "execute_result",
          "data": {
            "text/plain": [
              "[<matplotlib.lines.Line2D at 0x7f3e1dd50c10>]"
            ]
          },
          "metadata": {},
          "execution_count": 274
        },
        {
          "output_type": "display_data",
          "data": {
            "text/plain": [
              "<Figure size 432x288 with 1 Axes>"
            ],
            "image/png": "[encoded data removed]"
          },
          "metadata": {
            "needs_background": "light"
          }
        }
      ]
    }
  ]
}