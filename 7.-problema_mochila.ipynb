{
  "cells": [
    {
      "cell_type": "markdown",
      "metadata": {
        "id": "dxoFy-WK3nmT"
      },
      "source": [
        " # Problema de la Mochila\n",
        "\n",
        " El problema de la mochila surge en areas de investigacion de operaciones en las cuales se requiere alojar un numero de items con el maximo valor bajo ciertas restricciones. Si hacemos $X=\\{x_1,\\ldots,x_n\\}$ un conjunto de items, con $x_i \\in \\{0,1\\}$ siendo una variable binaria que indica la presencia del item $i$, $W=\\{w_1,\\ldots,w_n\\}$ los pesos de los items y $V=\\{v_1,\\ldots,v_n\\}$ el valor asociado a cada uno de los items, el problema de optimizacion puede ser escrito como:\n",
        "\n",
        " $F(X)=\\operatorname{max}\\sum_i x_i*v_i$\n",
        "  \n",
        "  Dado\n",
        "  \n",
        " $\\sum_i x_i*w_i < W_{max}$\n",
        "  "
      ]
    },
    {
      "cell_type": "code",
      "execution_count": 2,
      "metadata": {
        "id": "rAygJDVi3nmX"
      },
      "outputs": [],
      "source": [
        "from itertools import chain, combinations\n",
        "\n",
        "def powerset(iterable):\n",
        "    \"powerset([1,2,3]) --> () (1,) (2,) (3,) (1,2) (1,3) (2,3) (1,2,3)\"\n",
        "    s = list(iterable)\n",
        "    return chain.from_iterable(combinations(s, r) for r in range(len(s)+1))"
      ]
    },
    {
      "cell_type": "code",
      "execution_count": 3,
      "metadata": {
        "colab": {
          "base_uri": "https://localhost:8080/"
        },
        "id": "7-YFZxTt4YHD",
        "outputId": "8e570d41-834e-4e60-ad07-c49fc0735ba3"
      },
      "outputs": [
        {
          "data": {
            "text/plain": [
              "[(),\n",
              " ('D',),\n",
              " ('C',),\n",
              " ('A',),\n",
              " ('B',),\n",
              " ('D', 'C'),\n",
              " ('D', 'A'),\n",
              " ('D', 'B'),\n",
              " ('C', 'A'),\n",
              " ('C', 'B'),\n",
              " ('A', 'B'),\n",
              " ('D', 'C', 'A'),\n",
              " ('D', 'C', 'B'),\n",
              " ('D', 'A', 'B'),\n",
              " ('C', 'A', 'B'),\n",
              " ('D', 'C', 'A', 'B')]"
            ]
          },
          "execution_count": 3,
          "metadata": {},
          "output_type": "execute_result"
        }
      ],
      "source": [
        "list(powerset({'A','B','C','D'}))"
      ]
    },
    {
      "cell_type": "code",
      "execution_count": 4,
      "metadata": {
        "colab": {
          "base_uri": "https://localhost:8080/"
        },
        "id": "VrlHHASCMSXx",
        "outputId": "807325f9-e7a6-4421-d6e8-132e99ff702e"
      },
      "outputs": [
        {
          "data": {
            "text/plain": [
              "32"
            ]
          },
          "execution_count": 4,
          "metadata": {},
          "output_type": "execute_result"
        }
      ],
      "source": [
        "2**5"
      ]
    },
    {
      "cell_type": "code",
      "execution_count": 10,
      "metadata": {
        "colab": {
          "base_uri": "https://localhost:8080/"
        },
        "id": "7VA3tysw3nmZ",
        "outputId": "1b5a66ef-5d19-447a-8f65-d5f308346687"
      },
      "outputs": [
        {
          "name": "stdout",
          "output_type": "stream",
          "text": [
            "pesos :  [284, 413, 623, 627, 155]\n",
            "valores :  [767, 256, 657, 112, 26]\n",
            "------------------------------\n",
            "Mochila 0, items : (), valor : 0.0, peso : 0.0\n",
            "Mochila 1, items : (0,), valor : 767, peso : 284\n",
            "Mochila 2, items : (1,), valor : 256, peso : 413\n",
            "Mochila 3, items : (2,), valor : 657, peso : 623\n",
            "Mochila 4, items : (3,), valor : 112, peso : 627\n",
            "Mochila 5, items : (4,), valor : 26, peso : 155\n",
            "Mochila 6, items : (0, 1), valor : 1023, peso : 697\n",
            "Mochila 7, items : (0, 2), valor : 1424, peso : 907\n",
            "Mochila 8, items : (0, 3), valor : 879, peso : 911\n",
            "Mochila 9, items : (0, 4), valor : 793, peso : 439\n",
            "Mochila 12, items : (1, 4), valor : 282, peso : 568\n",
            "Mochila 14, items : (2, 4), valor : 683, peso : 778\n",
            "Mochila 15, items : (3, 4), valor : 138, peso : 782\n",
            "Mochila 18, items : (0, 1, 4), valor : 1049, peso : 852\n"
          ]
        }
      ],
      "source": [
        "import random\n",
        "import numpy as np\n",
        "\n",
        "n=5\n",
        "W = [random.randint(20, 1000) for _ in range(n)]  # peso\n",
        "V  = [random.randint(10, 800) for _ in range(n)] # valor\n",
        "W_max=1000\n",
        "print('pesos : ',W)\n",
        "print('valores : ',V)\n",
        "print('------------------------------')\n",
        "for i,p in enumerate(powerset(range(n))):\n",
        "    if(np.sum([W[i] for i in p])<=W_max):\n",
        "        print('Mochila {0}, items : {1}, valor : {2}, peso : {3}'.format(\n",
        "            i,p,np.sum([V[i] for i in p]),np.sum([W[i] for i in p])))"
      ]
    },
    {
      "cell_type": "code",
      "execution_count": 6,
      "metadata": {
        "id": "AAJ83cW03nma"
      },
      "outputs": [],
      "source": [
        "# A Dynamic Programming based Python Program for 0-1 Knapsack problem\n",
        "# Returns the maximum value that can be put in a knapsack of capacity W\n",
        "def knapsack(W_max, W, V, n):\n",
        "    C = [[0 for x in range(W_max+1)] for x in range(n+1)]\n",
        "    # Build table in bottom up manner\n",
        "    for i in range(n+1):\n",
        "        for w in range(W_max+1):\n",
        "            if i==0 or w==0:\n",
        "                C[i][w] = 0\n",
        "            elif W[i-1] <= w:\n",
        "                C[i][w] = max(V[i-1] + C[i-1][w-W[i-1]],  C[i-1][w])\n",
        "            else:\n",
        "                C[i][w] = C[i-1][w]\n",
        "\n",
        "    return C"
      ]
    },
    {
      "cell_type": "code",
      "execution_count": 11,
      "metadata": {
        "id": "rHLbTrle4_AG"
      },
      "outputs": [],
      "source": [
        "C=knapsack(W_max,W,V,len(V))"
      ]
    },
    {
      "cell_type": "code",
      "execution_count": 12,
      "metadata": {
        "colab": {
          "base_uri": "https://localhost:8080/"
        },
        "id": "wRNn3sFQ5P_O",
        "outputId": "65ad377a-97fc-42d5-ae73-f2780d8372b8"
      },
      "outputs": [
        {
          "data": {
            "text/plain": [
              "(6, 1001)"
            ]
          },
          "execution_count": 12,
          "metadata": {},
          "output_type": "execute_result"
        }
      ],
      "source": [
        "np.asarray(C).shape"
      ]
    },
    {
      "cell_type": "code",
      "execution_count": 13,
      "metadata": {
        "colab": {
          "base_uri": "https://localhost:8080/"
        },
        "id": "XpiqHzy0Oq8n",
        "outputId": "27b371a6-558d-489a-c58e-50cb4215929b"
      },
      "outputs": [
        {
          "data": {
            "text/plain": [
              "1424"
            ]
          },
          "execution_count": 13,
          "metadata": {},
          "output_type": "execute_result"
        }
      ],
      "source": [
        "C[-1][-1]"
      ]
    },
    {
      "cell_type": "code",
      "execution_count": 14,
      "metadata": {
        "id": "wBHoKPFl3nmb"
      },
      "outputs": [],
      "source": [
        "def knapsack_greedy(W, wt, val, n):\n",
        "    # elements in the knapsack (the order must be consequent)\n",
        "    v_in_knapsack = []\n",
        "    w_in_knapsack = []\n",
        "    # current weight of all the elements put in the knapsack so far\n",
        "    weight_in_knapsack = 0\n",
        "    # sort elements by purity in descendant order\n",
        "    for v_i,w_i in sorted(zip(val,wt),key=lambda x:x[0]/x[1] if x[1]!=0 else x[0], reverse=True):\n",
        "        if w_i + weight_in_knapsack <= W:  # if I can carry it,\n",
        "            v_in_knapsack.append(v_i)\n",
        "            w_in_knapsack.append(w_i)\n",
        "            weight_in_knapsack += w_i\n",
        "\n",
        "    return v_in_knapsack, w_in_knapsack"
      ]
    },
    {
      "cell_type": "code",
      "execution_count": 15,
      "metadata": {
        "id": "ZbqlFl9XPCOp"
      },
      "outputs": [],
      "source": [
        "v_c,w_c=knapsack_greedy(W_max,W,V,len(V))"
      ]
    },
    {
      "cell_type": "code",
      "execution_count": 16,
      "metadata": {
        "colab": {
          "base_uri": "https://localhost:8080/"
        },
        "id": "Az_XeeJoPcYq",
        "outputId": "99844d7a-cb34-45c1-99c8-d1c1135dace4"
      },
      "outputs": [
        {
          "data": {
            "text/plain": [
              "([767, 657], [284, 623])"
            ]
          },
          "execution_count": 16,
          "metadata": {},
          "output_type": "execute_result"
        }
      ],
      "source": [
        "v_c,w_c"
      ]
    },
    {
      "cell_type": "code",
      "execution_count": 17,
      "metadata": {
        "colab": {
          "base_uri": "https://localhost:8080/"
        },
        "id": "pTNVZxcbPRtv",
        "outputId": "0df44530-9bc0-4b4e-cedc-75a7d106ed17"
      },
      "outputs": [
        {
          "name": "stdout",
          "output_type": "stream",
          "text": [
            "valor mochila : 1424\n"
          ]
        }
      ],
      "source": [
        "print(\"valor mochila : {}\".format(np.sum(v_c)))"
      ]
    },
    {
      "cell_type": "code",
      "execution_count": 18,
      "metadata": {
        "colab": {
          "base_uri": "https://localhost:8080/"
        },
        "id": "btNlVovGPt6e",
        "outputId": "0b1e5612-6853-494f-e7fe-1df5838b3d0c"
      },
      "outputs": [
        {
          "name": "stdout",
          "output_type": "stream",
          "text": [
            "pesos mochila : 907\n"
          ]
        }
      ],
      "source": [
        "print(\"pesos mochila : {}\".format(np.sum(w_c)))"
      ]
    },
    {
      "cell_type": "code",
      "execution_count": null,
      "metadata": {
        "colab": {
          "base_uri": "https://localhost:8080/"
        },
        "id": "gJn-AnXm3nmc",
        "outputId": "02592e82-20bb-4775-9f75-55e17c4a4240"
      },
      "outputs": [
        {
          "name": "stdout",
          "output_type": "stream",
          "text": [
            "[[   0    0    0    0    0]\n",
            " [   0 1500 1500 1500 1500]\n",
            " [   0 1500 1500 1500 3000]\n",
            " [   0 1500 1500 2000 3500]]\n"
          ]
        }
      ],
      "source": [
        "# Example from Grokking Algorithms. p161\n",
        "import numpy as np\n",
        "\n",
        "values = [1500,3000,2000]\n",
        "weights = [[1,4,3]]\n",
        "capacities = [4]\n",
        "\n",
        "C=knapsack(capacities[0],weights[0],values,len(values))\n",
        "\n",
        "print(np.asarray(C))"
      ]
    },
    {
      "cell_type": "code",
      "execution_count": null,
      "metadata": {
        "colab": {
          "base_uri": "https://localhost:8080/"
        },
        "id": "1VWOd0WM3nmc",
        "outputId": "9fb0b352-a907-4f8d-ae14-9f36c73dcb79"
      },
      "outputs": [
        {
          "name": "stdout",
          "output_type": "stream",
          "text": [
            "[1500, 2000]\n",
            "[1, 3]\n"
          ]
        }
      ],
      "source": [
        "v_c,w_c=knapsack_greedy(capacities[0],weights[0],values,len(values))\n",
        "\n",
        "print(v_c)\n",
        "print(w_c)"
      ]
    },
    {
      "cell_type": "code",
      "execution_count": 19,
      "metadata": {
        "colab": {
          "base_uri": "https://localhost:8080/"
        },
        "id": "l_IRw2kZ3nmc",
        "outputId": "87d58c5d-a44f-4fc9-c5d5-15a03b3e4876"
      },
      "outputs": [
        {
          "name": "stdout",
          "output_type": "stream",
          "text": [
            "Total value = 7534\n",
            "Total weight = 850\n"
          ]
        }
      ],
      "source": [
        "# Example from https://developers.google.com/optimization/bin/knapsack\n",
        "\n",
        "values = [\n",
        "    360, 83, 59, 130, 431, 67, 230, 52, 93, 125, 670, 892, 600, 38, 48, 147,\n",
        "    78, 256, 63, 17, 120, 164, 432, 35, 92, 110, 22, 42, 50, 323, 514, 28,\n",
        "    87, 73, 78, 15, 26, 78, 210, 36, 85, 189, 274, 43, 33, 10, 19, 389, 276,\n",
        "    312\n",
        "]\n",
        "weights = [[\n",
        "    7, 0, 30, 22, 80, 94, 11, 81, 70, 64, 59, 18, 0, 36, 3, 8, 15, 42, 9, 0,\n",
        "    42, 47, 52, 32, 26, 48, 55, 6, 29, 84, 2, 4, 18, 56, 7, 29, 93, 44, 71,\n",
        "    3, 86, 66, 31, 65, 0, 79, 20, 65, 52, 13\n",
        "]]\n",
        "capacities = [850]\n",
        "\n",
        "C=knapsack(capacities[0],weights[0],values,len(values))\n",
        "print('Total value = {0}'.format(C[-1][-1]))\n",
        "print('Total weight = {0}'.format(len(C[0])-1))"
      ]
    },
    {
      "cell_type": "code",
      "execution_count": 20,
      "metadata": {
        "colab": {
          "base_uri": "https://localhost:8080/"
        },
        "id": "cNlmOWyi3nmd",
        "outputId": "a10d1cb3-7dbe-4d70-f0ba-db8400bff29c"
      },
      "outputs": [
        {
          "name": "stdout",
          "output_type": "stream",
          "text": [
            "Total value =  7534\n",
            "Total weight =  850\n"
          ]
        }
      ],
      "source": [
        "import numpy as np\n",
        "\n",
        "v_c,w_c=knapsack_greedy(capacities[0],weights[0],values,len(values))\n",
        "\n",
        "print('Total value = ',np.sum(v_c))\n",
        "print('Total weight = ',np.sum(w_c))"
      ]
    },
    {
      "cell_type": "code",
      "execution_count": 21,
      "metadata": {
        "colab": {
          "base_uri": "https://localhost:8080/"
        },
        "id": "Zu8-eXLH3nmg",
        "outputId": "16818c2c-2f8d-461a-ed74-43fadd603091"
      },
      "outputs": [
        {
          "name": "stdout",
          "output_type": "stream",
          "text": [
            "Knapsack #Items: 32\n",
            "Knapsack #Items: 64\n",
            "Knapsack #Items: 128\n",
            "Knapsack #Items: 512\n"
          ]
        }
      ],
      "source": [
        "import time\n",
        "import random\n",
        "n_dims=[32,64,128,512]\n",
        "samples=100\n",
        "\n",
        "dp_time={n:list() for n in n_dims}\n",
        "greedy_time={n:list()for n in n_dims}\n",
        "global_optimimum={n:list()for n in n_dims}\n",
        "\n",
        "\n",
        "for n in n_dims:\n",
        "  print('Knapsack #Items: {0}'.format(n))\n",
        "  for s in range(samples):\n",
        "    W = [random.randint(20, 1000) for _ in range(n)]  # peso\n",
        "    V  = [random.randint(10, 800) for _ in range(n)] # valor\n",
        "    W_max=1000\n",
        "    t1=time.time()\n",
        "    v_c,w_c=knapsack_greedy(W_max,W,V,len(V))\n",
        "    greedy_time[n].append(time.time()-t1)\n",
        "    t2=time.time()\n",
        "    C=knapsack(W_max,W,V,len(V))\n",
        "    dp_time[n].append(time.time()-t2)\n",
        "    global_optimimum[n].append(C[-1][-1]==np.sum(v_c))\n",
        "\n"
      ]
    },
    {
      "cell_type": "code",
      "execution_count": 23,
      "metadata": {
        "colab": {
          "base_uri": "https://localhost:8080/",
          "height": 201
        },
        "id": "atISrBwMXA6t",
        "outputId": "603faf5d-9729-4394-a1d0-1e202d20a084"
      },
      "outputs": [
        {
          "data": {
            "text/plain": [
              "dict_keys([32, 64, 128, 512])"
            ]
          },
          "execution_count": 23,
          "metadata": {},
          "output_type": "execute_result"
        }
      ],
      "source": [
        "greedy_time.keys()"
      ]
    },
    {
      "cell_type": "code",
      "execution_count": 24,
      "metadata": {
        "id": "iAkdepZ5V_ba"
      },
      "outputs": [],
      "source": [
        "import pandas as pd\n",
        "\n",
        "df_dp=pd.DataFrame(dp_time)\n",
        "df_greedy=pd.DataFrame(greedy_time)\n",
        "df_optimum=pd.DataFrame(global_optimimum)\n",
        "df_greedy['method']='greedy'\n",
        "df_dp['method']='dynamic_programming'\n",
        "\n",
        "df_results=pd.concat([df_greedy,df_dp],axis=0)\n",
        "df=pd.melt(df_results, id_vars=['method'], value_vars=n_dims)\n",
        "df['method']=df['method'].astype('category')\n"
      ]
    },
    {
      "cell_type": "code",
      "execution_count": 25,
      "metadata": {
        "colab": {
          "base_uri": "https://localhost:8080/",
          "height": 411
        },
        "id": "91YGJPXBXycs",
        "outputId": "aec1500b-eb76-4f6d-dbe9-5682d7e7596f"
      },
      "outputs": [
        {
          "data": {
            "text/html": [
              "<div>\n",
              "<style scoped>\n",
              "    .dataframe tbody tr th:only-of-type {\n",
              "        vertical-align: middle;\n",
              "    }\n",
              "\n",
              "    .dataframe tbody tr th {\n",
              "        vertical-align: top;\n",
              "    }\n",
              "\n",
              "    .dataframe thead th {\n",
              "        text-align: right;\n",
              "    }\n",
              "</style>\n",
              "<table border=\"1\" class=\"dataframe\">\n",
              "  <thead>\n",
              "    <tr style=\"text-align: right;\">\n",
              "      <th></th>\n",
              "      <th>method</th>\n",
              "      <th>variable</th>\n",
              "      <th>value</th>\n",
              "    </tr>\n",
              "  </thead>\n",
              "  <tbody>\n",
              "    <tr>\n",
              "      <th>0</th>\n",
              "      <td>greedy</td>\n",
              "      <td>32</td>\n",
              "      <td>0.000017</td>\n",
              "    </tr>\n",
              "    <tr>\n",
              "      <th>1</th>\n",
              "      <td>greedy</td>\n",
              "      <td>32</td>\n",
              "      <td>0.000019</td>\n",
              "    </tr>\n",
              "    <tr>\n",
              "      <th>2</th>\n",
              "      <td>greedy</td>\n",
              "      <td>32</td>\n",
              "      <td>0.000013</td>\n",
              "    </tr>\n",
              "    <tr>\n",
              "      <th>3</th>\n",
              "      <td>greedy</td>\n",
              "      <td>32</td>\n",
              "      <td>0.000008</td>\n",
              "    </tr>\n",
              "    <tr>\n",
              "      <th>4</th>\n",
              "      <td>greedy</td>\n",
              "      <td>32</td>\n",
              "      <td>0.000011</td>\n",
              "    </tr>\n",
              "    <tr>\n",
              "      <th>...</th>\n",
              "      <td>...</td>\n",
              "      <td>...</td>\n",
              "      <td>...</td>\n",
              "    </tr>\n",
              "    <tr>\n",
              "      <th>795</th>\n",
              "      <td>dynamic_programming</td>\n",
              "      <td>512</td>\n",
              "      <td>0.058101</td>\n",
              "    </tr>\n",
              "    <tr>\n",
              "      <th>796</th>\n",
              "      <td>dynamic_programming</td>\n",
              "      <td>512</td>\n",
              "      <td>0.057786</td>\n",
              "    </tr>\n",
              "    <tr>\n",
              "      <th>797</th>\n",
              "      <td>dynamic_programming</td>\n",
              "      <td>512</td>\n",
              "      <td>0.059597</td>\n",
              "    </tr>\n",
              "    <tr>\n",
              "      <th>798</th>\n",
              "      <td>dynamic_programming</td>\n",
              "      <td>512</td>\n",
              "      <td>0.058447</td>\n",
              "    </tr>\n",
              "    <tr>\n",
              "      <th>799</th>\n",
              "      <td>dynamic_programming</td>\n",
              "      <td>512</td>\n",
              "      <td>0.058897</td>\n",
              "    </tr>\n",
              "  </tbody>\n",
              "</table>\n",
              "<p>800 rows × 3 columns</p>\n",
              "</div>"
            ],
            "text/plain": [
              "                  method variable     value\n",
              "0                 greedy       32  0.000017\n",
              "1                 greedy       32  0.000019\n",
              "2                 greedy       32  0.000013\n",
              "3                 greedy       32  0.000008\n",
              "4                 greedy       32  0.000011\n",
              "..                   ...      ...       ...\n",
              "795  dynamic_programming      512  0.058101\n",
              "796  dynamic_programming      512  0.057786\n",
              "797  dynamic_programming      512  0.059597\n",
              "798  dynamic_programming      512  0.058447\n",
              "799  dynamic_programming      512  0.058897\n",
              "\n",
              "[800 rows x 3 columns]"
            ]
          },
          "execution_count": 25,
          "metadata": {},
          "output_type": "execute_result"
        }
      ],
      "source": [
        "df"
      ]
    },
    {
      "cell_type": "code",
      "execution_count": 26,
      "metadata": {
        "id": "Z6GVGrNVWYc8"
      },
      "outputs": [
        {
          "name": "stderr",
          "output_type": "stream",
          "text": [
            "/var/folders/wd/0sm_658d23ldnfyfjn6y4s6m0000gn/T/ipykernel_9508/2361675636.py:1: FutureWarning: The default of observed=False is deprecated and will be changed to True in a future version of pandas. Pass observed=False to retain current behavior or observed=True to adopt the future default and silence this warning.\n",
            "  df_group=df.groupby(['variable','method'])\n"
          ]
        }
      ],
      "source": [
        "df_group=df.groupby(['variable','method'])"
      ]
    },
    {
      "cell_type": "code",
      "execution_count": 27,
      "metadata": {
        "colab": {
          "base_uri": "https://localhost:8080/",
          "height": 322
        },
        "id": "0e11v7ywX6wO",
        "outputId": "7e7862d2-b1ee-4f6d-95b6-9ed2e9df0ca2"
      },
      "outputs": [
        {
          "data": {
            "text/html": [
              "<div>\n",
              "<style scoped>\n",
              "    .dataframe tbody tr th:only-of-type {\n",
              "        vertical-align: middle;\n",
              "    }\n",
              "\n",
              "    .dataframe tbody tr th {\n",
              "        vertical-align: top;\n",
              "    }\n",
              "\n",
              "    .dataframe thead th {\n",
              "        text-align: right;\n",
              "    }\n",
              "</style>\n",
              "<table border=\"1\" class=\"dataframe\">\n",
              "  <thead>\n",
              "    <tr style=\"text-align: right;\">\n",
              "      <th></th>\n",
              "      <th></th>\n",
              "      <th>value</th>\n",
              "    </tr>\n",
              "    <tr>\n",
              "      <th>variable</th>\n",
              "      <th>method</th>\n",
              "      <th></th>\n",
              "    </tr>\n",
              "  </thead>\n",
              "  <tbody>\n",
              "    <tr>\n",
              "      <th rowspan=\"2\" valign=\"top\">32</th>\n",
              "      <th>dynamic_programming</th>\n",
              "      <td>0.003909</td>\n",
              "    </tr>\n",
              "    <tr>\n",
              "      <th>greedy</th>\n",
              "      <td>0.000006</td>\n",
              "    </tr>\n",
              "    <tr>\n",
              "      <th rowspan=\"2\" valign=\"top\">64</th>\n",
              "      <th>dynamic_programming</th>\n",
              "      <td>0.007064</td>\n",
              "    </tr>\n",
              "    <tr>\n",
              "      <th>greedy</th>\n",
              "      <td>0.000011</td>\n",
              "    </tr>\n",
              "    <tr>\n",
              "      <th rowspan=\"2\" valign=\"top\">128</th>\n",
              "      <th>dynamic_programming</th>\n",
              "      <td>0.014068</td>\n",
              "    </tr>\n",
              "    <tr>\n",
              "      <th>greedy</th>\n",
              "      <td>0.000024</td>\n",
              "    </tr>\n",
              "    <tr>\n",
              "      <th rowspan=\"2\" valign=\"top\">512</th>\n",
              "      <th>dynamic_programming</th>\n",
              "      <td>0.058439</td>\n",
              "    </tr>\n",
              "    <tr>\n",
              "      <th>greedy</th>\n",
              "      <td>0.000090</td>\n",
              "    </tr>\n",
              "  </tbody>\n",
              "</table>\n",
              "</div>"
            ],
            "text/plain": [
              "                                 value\n",
              "variable method                       \n",
              "32       dynamic_programming  0.003909\n",
              "         greedy               0.000006\n",
              "64       dynamic_programming  0.007064\n",
              "         greedy               0.000011\n",
              "128      dynamic_programming  0.014068\n",
              "         greedy               0.000024\n",
              "512      dynamic_programming  0.058439\n",
              "         greedy               0.000090"
            ]
          },
          "execution_count": 27,
          "metadata": {},
          "output_type": "execute_result"
        }
      ],
      "source": [
        "df_group.mean()"
      ]
    },
    {
      "cell_type": "code",
      "execution_count": 28,
      "metadata": {
        "colab": {
          "base_uri": "https://localhost:8080/",
          "height": 201
        },
        "id": "OJRlseTlb6-i",
        "outputId": "20abde68-73e7-48ba-b3cd-ab0b689fe827"
      },
      "outputs": [
        {
          "data": {
            "text/html": [
              "<div>\n",
              "<style scoped>\n",
              "    .dataframe tbody tr th:only-of-type {\n",
              "        vertical-align: middle;\n",
              "    }\n",
              "\n",
              "    .dataframe tbody tr th {\n",
              "        vertical-align: top;\n",
              "    }\n",
              "\n",
              "    .dataframe thead th {\n",
              "        text-align: right;\n",
              "    }\n",
              "</style>\n",
              "<table border=\"1\" class=\"dataframe\">\n",
              "  <thead>\n",
              "    <tr style=\"text-align: right;\">\n",
              "      <th></th>\n",
              "      <th>32</th>\n",
              "      <th>64</th>\n",
              "      <th>128</th>\n",
              "      <th>512</th>\n",
              "    </tr>\n",
              "  </thead>\n",
              "  <tbody>\n",
              "    <tr>\n",
              "      <th>0</th>\n",
              "      <td>False</td>\n",
              "      <td>False</td>\n",
              "      <td>True</td>\n",
              "      <td>False</td>\n",
              "    </tr>\n",
              "    <tr>\n",
              "      <th>1</th>\n",
              "      <td>True</td>\n",
              "      <td>True</td>\n",
              "      <td>True</td>\n",
              "      <td>False</td>\n",
              "    </tr>\n",
              "    <tr>\n",
              "      <th>2</th>\n",
              "      <td>True</td>\n",
              "      <td>False</td>\n",
              "      <td>True</td>\n",
              "      <td>False</td>\n",
              "    </tr>\n",
              "    <tr>\n",
              "      <th>3</th>\n",
              "      <td>True</td>\n",
              "      <td>False</td>\n",
              "      <td>False</td>\n",
              "      <td>False</td>\n",
              "    </tr>\n",
              "    <tr>\n",
              "      <th>4</th>\n",
              "      <td>False</td>\n",
              "      <td>False</td>\n",
              "      <td>True</td>\n",
              "      <td>False</td>\n",
              "    </tr>\n",
              "  </tbody>\n",
              "</table>\n",
              "</div>"
            ],
            "text/plain": [
              "     32     64     128    512\n",
              "0  False  False   True  False\n",
              "1   True   True   True  False\n",
              "2   True  False   True  False\n",
              "3   True  False  False  False\n",
              "4  False  False   True  False"
            ]
          },
          "execution_count": 28,
          "metadata": {},
          "output_type": "execute_result"
        }
      ],
      "source": [
        "df_optimum.head()"
      ]
    },
    {
      "cell_type": "code",
      "execution_count": 33,
      "metadata": {
        "colab": {
          "base_uri": "https://localhost:8080/"
        },
        "id": "K4uftufNXa4K",
        "outputId": "71ad5c20-c787-47ec-f0dc-4e1dd8030f0c"
      },
      "outputs": [
        {
          "data": {
            "text/plain": [
              "32     0.46\n",
              "64     0.45\n",
              "128    0.36\n",
              "512    0.30\n",
              "dtype: float64"
            ]
          },
          "execution_count": 33,
          "metadata": {},
          "output_type": "execute_result"
        }
      ],
      "source": [
        "df_optimum.mean()"
      ]
    },
    {
      "cell_type": "code",
      "execution_count": 31,
      "metadata": {
        "colab": {
          "base_uri": "https://localhost:8080/",
          "height": 580
        },
        "id": "uBzp3_xgXrNs",
        "outputId": "bb076097-d9dd-4b0f-96f7-33ee26a8ddb2"
      },
      "outputs": [
        {
          "data": {
            "text/plain": [
              "Text(0.5, 1.0, 'Knapsack Greedy/Dynamic Programming')"
            ]
          },
          "execution_count": 31,
          "metadata": {},
          "output_type": "execute_result"
        },
        {
          "data": {
            "image/png": "[encoded data removed]",
            "text/plain": [
              "<Figure size 800x600 with 1 Axes>"
            ]
          },
          "metadata": {},
          "output_type": "display_data"
        }
      ],
      "source": [
        "import seaborn as sns\n",
        "import matplotlib.pyplot as plt\n",
        "\n",
        "f = plt.figure(figsize=(8, 6))\n",
        "g=sns.barplot(\n",
        "    x=\"variable\", y=\"value\",\n",
        "    data=df, hue=\"method\",errorbar=\"sd\",palette='flare'\n",
        ")\n",
        "g.set_yscale(\"log\")\n",
        "g.set_title(\"Knapsack Greedy/Dynamic Programming\")"
      ]
    },
    {
      "cell_type": "code",
      "execution_count": 43,
      "metadata": {},
      "outputs": [
        {
          "data": {
            "text/plain": [
              "Text(0.5, 1.0, 'Knapsack Greedy Global Optimum')"
            ]
          },
          "execution_count": 43,
          "metadata": {},
          "output_type": "execute_result"
        },
        {
          "data": {
            "image/png": "[encoded data removed]",
            "text/plain": [
              "<Figure size 800x600 with 1 Axes>"
            ]
          },
          "metadata": {},
          "output_type": "display_data"
        }
      ],
      "source": [
        "f = plt.figure(figsize=(8, 6))\n",
        "g=sns.barplot(\n",
        "    data=df_optimum.mean()\n",
        ")\n",
        "g.set_title(\"Knapsack Greedy Global Optimum\")"
      ]
    },
    {
      "cell_type": "code",
      "execution_count": 42,
      "metadata": {},
      "outputs": [
        {
          "data": {
            "text/plain": [
              "32     0.46\n",
              "64     0.45\n",
              "128    0.36\n",
              "512    0.30\n",
              "dtype: float64"
            ]
          },
          "execution_count": 42,
          "metadata": {},
          "output_type": "execute_result"
        }
      ],
      "source": [
        "df_optimum.mean()"
      ]
    }
  ],
  "metadata": {
    "colab": {
      "provenance": []
    },
    "kernelspec": {
      "display_name": "Python 3",
      "language": "python",
      "name": "python3"
    },
    "language_info": {
      "codemirror_mode": {
        "name": "ipython",
        "version": 3
      },
      "file_extension": ".py",
      "mimetype": "text/x-python",
      "name": "python",
      "nbconvert_exporter": "python",
      "pygments_lexer": "ipython3",
      "version": "3.11.5"
    }
  },
  "nbformat": 4,
  "nbformat_minor": 0
}
