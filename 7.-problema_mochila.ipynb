{
  "cells": [
    {
      "cell_type": "markdown",
      "metadata": {
        "id": "dxoFy-WK3nmT"
      },
      "source": [
        " # Problema de la Mochila\n",
        "\n",
        " El problema de la mochila surge en areas de investigacion de operaciones en las cuales se requiere alojar un numero de items con el maximo valor bajo ciertas restricciones. Si hacemos $X=\\{x_1,\\ldots,x_n\\}$ un conjunto de items, con $x_i \\in \\{0,1\\}$ siendo una variable binaria que indica la presencia del item $i$, $W=\\{w_1,\\ldots,w_n\\}$ los pesos de los items y $V=\\{v_1,\\ldots,v_n\\}$ el valor asociado a cada uno de los items, el problema de optimizacion puede ser escrito como:\n",
        "\n",
        " $F(X)=\\operatorname{max}\\sum_i x_i*v_i$\n",
        "  \n",
        "  Dado\n",
        "  \n",
        " $\\sum_i x_i*w_i < W_{max}$\n",
        "  "
      ]
    },
    {
      "cell_type": "code",
      "execution_count": 1,
      "metadata": {
        "id": "rAygJDVi3nmX"
      },
      "outputs": [],
      "source": [
        "from itertools import chain, combinations\n",
        "\n",
        "def powerset(iterable):\n",
        "    \"powerset([1,2,3]) --> () (1,) (2,) (3,) (1,2) (1,3) (2,3) (1,2,3)\"\n",
        "    s = list(iterable)\n",
        "    return chain.from_iterable(combinations(s, r) for r in range(len(s)+1))"
      ]
    },
    {
      "cell_type": "code",
      "source": [
        "list(powerset({'A','B','C','D'}))"
      ],
      "metadata": {
        "id": "7-YFZxTt4YHD",
        "outputId": "cf4f93fa-408c-4357-afd0-8e7c7beb6540",
        "colab": {
          "base_uri": "https://localhost:8080/"
        }
      },
      "execution_count": 4,
      "outputs": [
        {
          "output_type": "execute_result",
          "data": {
            "text/plain": [
              "[(),\n",
              " ('B',),\n",
              " ('D',),\n",
              " ('C',),\n",
              " ('A',),\n",
              " ('B', 'D'),\n",
              " ('B', 'C'),\n",
              " ('B', 'A'),\n",
              " ('D', 'C'),\n",
              " ('D', 'A'),\n",
              " ('C', 'A'),\n",
              " ('B', 'D', 'C'),\n",
              " ('B', 'D', 'A'),\n",
              " ('B', 'C', 'A'),\n",
              " ('D', 'C', 'A'),\n",
              " ('B', 'D', 'C', 'A')]"
            ]
          },
          "metadata": {},
          "execution_count": 4
        }
      ]
    },
    {
      "cell_type": "code",
      "execution_count": 5,
      "metadata": {
        "id": "7VA3tysw3nmZ",
        "outputId": "f079cba7-7255-4552-d73a-cc22067dbb7a",
        "colab": {
          "base_uri": "https://localhost:8080/"
        }
      },
      "outputs": [
        {
          "output_type": "stream",
          "name": "stdout",
          "text": [
            "pesos :  [975, 622, 719, 926, 249]\n",
            "valores :  [81, 421, 529, 456, 626]\n",
            "------------------------------\n",
            "Mochila 0, items : (), valor : 0.0, peso : 0.0\n",
            "Mochila 1, items : (0,), valor : 81, peso : 975\n",
            "Mochila 2, items : (1,), valor : 421, peso : 622\n",
            "Mochila 3, items : (2,), valor : 529, peso : 719\n",
            "Mochila 4, items : (3,), valor : 456, peso : 926\n",
            "Mochila 5, items : (4,), valor : 626, peso : 249\n",
            "Mochila 6, items : (0, 1), valor : 502, peso : 1597\n",
            "Mochila 7, items : (0, 2), valor : 610, peso : 1694\n",
            "Mochila 8, items : (0, 3), valor : 537, peso : 1901\n",
            "Mochila 9, items : (0, 4), valor : 707, peso : 1224\n",
            "Mochila 10, items : (1, 2), valor : 950, peso : 1341\n",
            "Mochila 11, items : (1, 3), valor : 877, peso : 1548\n",
            "Mochila 12, items : (1, 4), valor : 1047, peso : 871\n",
            "Mochila 13, items : (2, 3), valor : 985, peso : 1645\n",
            "Mochila 14, items : (2, 4), valor : 1155, peso : 968\n",
            "Mochila 15, items : (3, 4), valor : 1082, peso : 1175\n",
            "Mochila 16, items : (0, 1, 2), valor : 1031, peso : 2316\n",
            "Mochila 17, items : (0, 1, 3), valor : 958, peso : 2523\n",
            "Mochila 18, items : (0, 1, 4), valor : 1128, peso : 1846\n",
            "Mochila 19, items : (0, 2, 3), valor : 1066, peso : 2620\n",
            "Mochila 20, items : (0, 2, 4), valor : 1236, peso : 1943\n",
            "Mochila 21, items : (0, 3, 4), valor : 1163, peso : 2150\n",
            "Mochila 22, items : (1, 2, 3), valor : 1406, peso : 2267\n",
            "Mochila 23, items : (1, 2, 4), valor : 1576, peso : 1590\n",
            "Mochila 24, items : (1, 3, 4), valor : 1503, peso : 1797\n",
            "Mochila 25, items : (2, 3, 4), valor : 1611, peso : 1894\n",
            "Mochila 26, items : (0, 1, 2, 3), valor : 1487, peso : 3242\n",
            "Mochila 27, items : (0, 1, 2, 4), valor : 1657, peso : 2565\n",
            "Mochila 28, items : (0, 1, 3, 4), valor : 1584, peso : 2772\n",
            "Mochila 29, items : (0, 2, 3, 4), valor : 1692, peso : 2869\n",
            "Mochila 30, items : (1, 2, 3, 4), valor : 2032, peso : 2516\n",
            "Mochila 31, items : (0, 1, 2, 3, 4), valor : 2113, peso : 3491\n"
          ]
        }
      ],
      "source": [
        "import random\n",
        "import numpy as np\n",
        "\n",
        "n=5\n",
        "W = [random.randint(20, 1000) for _ in range(n)]  # peso\n",
        "V  = [random.randint(10, 800) for _ in range(n)] # valor\n",
        "W_max=1000\n",
        "print('pesos : ',W)\n",
        "print('valores : ',V)\n",
        "print('------------------------------')\n",
        "for i,p in enumerate(powerset(range(n))):\n",
        "    print('Mochila {0}, items : {1}, valor : {2}, peso : {3}'.format(\n",
        "            i,p,np.sum([V[i] for i in p]),np.sum([W[i] for i in p])))"
      ]
    },
    {
      "cell_type": "code",
      "execution_count": 6,
      "metadata": {
        "id": "AAJ83cW03nma"
      },
      "outputs": [],
      "source": [
        "# A Dynamic Programming based Python Program for 0-1 Knapsack problem\n",
        "# Returns the maximum value that can be put in a knapsack of capacity W\n",
        "def knapsack(W_max, W, V, n):\n",
        "    C = [[0 for x in range(W_max+1)] for x in range(n+1)]\n",
        "    # Build table in bottom up manner\n",
        "    for i in range(n+1):\n",
        "        for w in range(W_max+1):\n",
        "            if i==0 or w==0:\n",
        "                C[i][w] = 0\n",
        "            elif W[i-1] <= w:\n",
        "                C[i][w] = max(V[i-1] + C[i-1][w-W[i-1]],  C[i-1][w])\n",
        "            else:\n",
        "                C[i][w] = C[i-1][w]\n",
        "\n",
        "    return C"
      ]
    },
    {
      "cell_type": "code",
      "source": [
        "C=knapsack(W_max,W,V,len(V))"
      ],
      "metadata": {
        "id": "rHLbTrle4_AG"
      },
      "execution_count": 10,
      "outputs": []
    },
    {
      "cell_type": "code",
      "source": [
        "np.asarray(C)"
      ],
      "metadata": {
        "id": "wRNn3sFQ5P_O",
        "outputId": "049868b3-a21c-4e4b-e77b-109021934459",
        "colab": {
          "base_uri": "https://localhost:8080/"
        }
      },
      "execution_count": 12,
      "outputs": [
        {
          "output_type": "execute_result",
          "data": {
            "text/plain": [
              "array([[   0,    0,    0, ...,    0,    0,    0],\n",
              "       [   0,    0,    0, ...,   81,   81,   81],\n",
              "       [   0,    0,    0, ...,  421,  421,  421],\n",
              "       [   0,    0,    0, ...,  529,  529,  529],\n",
              "       [   0,    0,    0, ...,  529,  529,  529],\n",
              "       [   0,    0,    0, ..., 1155, 1155, 1155]])"
            ]
          },
          "metadata": {},
          "execution_count": 12
        }
      ]
    },
    {
      "cell_type": "code",
      "execution_count": 7,
      "metadata": {
        "id": "wBHoKPFl3nmb"
      },
      "outputs": [],
      "source": [
        "def knapsack_greedy(W, wt, val, n):\n",
        "    # elements in the knapsack (the order must be consequent)\n",
        "    v_in_knapsack = []\n",
        "    w_in_knapsack = []\n",
        "    # current weight of all the elements put in the knapsack so far\n",
        "    weight_in_knapsack = 0\n",
        "    # sort elements by purity in descendant order\n",
        "    for v_i,w_i in sorted(zip(val,wt),key=lambda x:x[0]/x[1] if x[1]!=0 else x[0], reverse=True):\n",
        "        if w_i + weight_in_knapsack <= W:  # if I can carry it,\n",
        "            v_in_knapsack.append(v_i)\n",
        "            w_in_knapsack.append(w_i)\n",
        "            weight_in_knapsack += w_i\n",
        "\n",
        "    return v_in_knapsack, w_in_knapsack"
      ]
    },
    {
      "cell_type": "code",
      "execution_count": 15,
      "metadata": {
        "id": "gJn-AnXm3nmc",
        "outputId": "7978a9f1-4902-4cdd-df63-05343ddb4e83",
        "colab": {
          "base_uri": "https://localhost:8080/"
        }
      },
      "outputs": [
        {
          "output_type": "stream",
          "name": "stdout",
          "text": [
            "[[   0    0    0    0    0]\n",
            " [   0 1500 1500 1500 1500]\n",
            " [   0 1500 1500 1500 3000]\n",
            " [   0 1500 1500 2000 3500]]\n"
          ]
        }
      ],
      "source": [
        "# Example from Grokking Algorithms. p161\n",
        "import numpy as np\n",
        "\n",
        "values = [1500,3000,2000]\n",
        "weights = [[1,4,3]]\n",
        "capacities = [4]\n",
        "\n",
        "C=knapsack(capacities[0],weights[0],values,len(values))\n",
        "\n",
        "print(np.asarray(C))"
      ]
    },
    {
      "cell_type": "code",
      "execution_count": 16,
      "metadata": {
        "id": "1VWOd0WM3nmc",
        "outputId": "b6b80855-62c0-4370-f5fe-cd5542862c24",
        "colab": {
          "base_uri": "https://localhost:8080/"
        }
      },
      "outputs": [
        {
          "output_type": "stream",
          "name": "stdout",
          "text": [
            "[1500, 2000]\n",
            "[1, 3]\n"
          ]
        }
      ],
      "source": [
        "v_c,w_c=knapsack_greedy(capacities[0],weights[0],values,len(values))\n",
        "\n",
        "print(v_c)\n",
        "print(w_c)"
      ]
    },
    {
      "cell_type": "code",
      "execution_count": null,
      "metadata": {
        "id": "l_IRw2kZ3nmc",
        "outputId": "dac1d521-8c10-4db7-e784-395c21d380cf"
      },
      "outputs": [
        {
          "name": "stdout",
          "output_type": "stream",
          "text": [
            "Total value = 7534\n",
            "Total weight = 850\n"
          ]
        }
      ],
      "source": [
        "# Example from https://developers.google.com/optimization/bin/knapsack\n",
        "\n",
        "values = [\n",
        "    360, 83, 59, 130, 431, 67, 230, 52, 93, 125, 670, 892, 600, 38, 48, 147,\n",
        "    78, 256, 63, 17, 120, 164, 432, 35, 92, 110, 22, 42, 50, 323, 514, 28,\n",
        "    87, 73, 78, 15, 26, 78, 210, 36, 85, 189, 274, 43, 33, 10, 19, 389, 276,\n",
        "    312\n",
        "]\n",
        "weights = [[\n",
        "    7, 0, 30, 22, 80, 94, 11, 81, 70, 64, 59, 18, 0, 36, 3, 8, 15, 42, 9, 0,\n",
        "    42, 47, 52, 32, 26, 48, 55, 6, 29, 84, 2, 4, 18, 56, 7, 29, 93, 44, 71,\n",
        "    3, 86, 66, 31, 65, 0, 79, 20, 65, 52, 13\n",
        "]]\n",
        "capacities = [850]\n",
        "\n",
        "C=knapsack(capacities[0],weights[0],values,len(values))\n",
        "print('Total value = {0}'.format(C[-1][-1]))\n",
        "print('Total weight = {0}'.format(len(C[0])-1))"
      ]
    },
    {
      "cell_type": "code",
      "execution_count": null,
      "metadata": {
        "id": "cNlmOWyi3nmd",
        "outputId": "94985ff3-8e70-4a31-d5d6-6003891e8e33"
      },
      "outputs": [
        {
          "name": "stdout",
          "output_type": "stream",
          "text": [
            "Total value =  7534\n",
            "Total weight =  850\n"
          ]
        }
      ],
      "source": [
        "import numpy as np\n",
        "\n",
        "v_c,w_c=knapsack_greedy(capacities[0],weights[0],values,len(values))\n",
        "\n",
        "print('Total value = ',np.sum(v_c))\n",
        "print('Total weight = ',np.sum(w_c))"
      ]
    },
    {
      "cell_type": "code",
      "execution_count": null,
      "metadata": {
        "id": "Zu8-eXLH3nmg"
      },
      "outputs": [],
      "source": []
    }
  ],
  "metadata": {
    "kernelspec": {
      "display_name": "Python 3",
      "language": "python",
      "name": "python3"
    },
    "language_info": {
      "codemirror_mode": {
        "name": "ipython",
        "version": 3
      },
      "file_extension": ".py",
      "mimetype": "text/x-python",
      "name": "python",
      "nbconvert_exporter": "python",
      "pygments_lexer": "ipython3",
      "version": "3.6.9"
    },
    "colab": {
      "provenance": []
    }
  },
  "nbformat": 4,
  "nbformat_minor": 0
}