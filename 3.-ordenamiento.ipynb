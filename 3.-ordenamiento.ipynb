{
  "nbformat": 4,
  "nbformat_minor": 0,
  "metadata": {
    "kernelspec": {
      "display_name": "Python 3",
      "language": "python",
      "name": "python3"
    },
    "language_info": {
      "codemirror_mode": {
        "name": "ipython",
        "version": 3
      },
      "file_extension": ".py",
      "mimetype": "text/x-python",
      "name": "python",
      "nbconvert_exporter": "python",
      "pygments_lexer": "ipython3",
      "version": "3.6.9"
    },
    "colab": {
      "name": "3.-ordenamiento.ipynb",
      "provenance": []
    }
  },
  "cells": [
    {
      "cell_type": "markdown",
      "metadata": {
        "id": "l4T_ue7NGpAj"
      },
      "source": [
        "# Ordenamiento\n",
        "\n",
        "El ordenamiento de arreglos corresponde a encontrar una permutación tal que cada elemento sea menor a su sucesor. "
      ]
    },
    {
      "cell_type": "code",
      "metadata": {
        "id": "z9KAsuhAGpAl"
      },
      "source": [
        "def selection_sort(collection):\n",
        "    length = len(collection)\n",
        "    for i in range(length):\n",
        "        least = i\n",
        "        for k in range(i + 1, length):\n",
        "            if collection[k] < collection[least]:\n",
        "                least = k\n",
        "        collection[least], collection[i] = (collection[i], collection[least])\n",
        "    return collection\n",
        "\n",
        "def insertion_sort(collection):\n",
        "    for index in range(1, len(collection)):\n",
        "        while 0 < index and collection[index] < collection[index - 1]:\n",
        "            collection[index], collection[index - 1] = collection[index - 1], collection[index]\n",
        "            index -= 1\n",
        "    return collection"
      ],
      "execution_count": 1,
      "outputs": []
    },
    {
      "cell_type": "code",
      "metadata": {
        "id": "K4MS2EZPGpAo",
        "outputId": "9f570047-a681-4620-8de3-c470d04b74fd",
        "colab": {
          "base_uri": "https://localhost:8080/"
        }
      },
      "source": [
        "selection_sort([3,2,1])"
      ],
      "execution_count": 14,
      "outputs": [
        {
          "output_type": "execute_result",
          "data": {
            "text/plain": [
              "[1, 2, 3]"
            ]
          },
          "metadata": {},
          "execution_count": 14
        }
      ]
    },
    {
      "cell_type": "code",
      "metadata": {
        "id": "lgHnDAOiHPSA"
      },
      "source": [
        "import numpy as np\n",
        "import time\n",
        "\n",
        "def gen_random(size):\n",
        "    return np.random.permutation(np.arange(size+1,dtype=np.int8))\n",
        "\n",
        "def gen_worst_case(size):\n",
        "    return np.arange(size,-1,-1,dtype=np.int8)\n",
        "\n",
        "def gen_best_case(size):\n",
        "    return np.arange(size+1,dtype=np.int8)"
      ],
      "execution_count": 3,
      "outputs": []
    },
    {
      "cell_type": "code",
      "metadata": {
        "id": "6vemh7NoHk7J",
        "outputId": "a11d2434-242d-4628-8a2e-28393192c4fd",
        "colab": {
          "base_uri": "https://localhost:8080/"
        }
      },
      "source": [
        "gen_random(3)"
      ],
      "execution_count": 4,
      "outputs": [
        {
          "output_type": "execute_result",
          "data": {
            "text/plain": [
              "array([1, 3, 0, 2], dtype=int8)"
            ]
          },
          "metadata": {},
          "execution_count": 4
        }
      ]
    },
    {
      "cell_type": "code",
      "metadata": {
        "id": "Ipazv9EqGpAp",
        "outputId": "a0a04f27-e76f-42d9-b8ff-666084fed695",
        "colab": {
          "base_uri": "https://localhost:8080/"
        }
      },
      "source": [
        "import numpy as np\n",
        "import time\n",
        "\n",
        "arr=gen_best_case(1000)\n",
        "\n",
        "start=time.time()\n",
        "insertion_sort(arr.copy())\n",
        "end=time.time()\n",
        "t1=end-start\n",
        "\n",
        "start=time.time()\n",
        "selection_sort(arr.copy())\n",
        "end=time.time()\n",
        "t2=end-start\n",
        "\n",
        "\n",
        "\n",
        "print('Insertion Sort: %2f'%t1)\n",
        "print('Selection Sort : %2f'%t2)\n"
      ],
      "execution_count": 38,
      "outputs": [
        {
          "output_type": "stream",
          "name": "stdout",
          "text": [
            "Insertion Sort: 0.173412\n",
            "Selection Sort : 0.101743\n"
          ]
        }
      ]
    },
    {
      "cell_type": "code",
      "source": [
        "import timeit  \n",
        "\n",
        "print(timeit.timeit('insertion_sort(gen_best_case(100))', globals=globals(),number=100))"
      ],
      "metadata": {
        "id": "T9FQkl1avhVG",
        "outputId": "1c4d4f56-bbe3-4f15-ea07-4543d3891d21",
        "colab": {
          "base_uri": "https://localhost:8080/"
        }
      },
      "execution_count": 47,
      "outputs": [
        {
          "output_type": "stream",
          "name": "stdout",
          "text": [
            "0.0053961550001986325\n"
          ]
        }
      ]
    },
    {
      "cell_type": "code",
      "source": [
        "print(timeit.timeit('selection_sort(gen_best_case(100))', globals=globals(),number=100))"
      ],
      "metadata": {
        "id": "xblvPU25wXZ-",
        "outputId": "ea8a9648-d7f4-4e40-c0bc-659a68e551aa",
        "colab": {
          "base_uri": "https://localhost:8080/"
        }
      },
      "execution_count": 48,
      "outputs": [
        {
          "output_type": "stream",
          "name": "stdout",
          "text": [
            "0.12429356200004804\n"
          ]
        }
      ]
    },
    {
      "cell_type": "code",
      "source": [
        "print(timeit.timeit('insertion_sort(gen_worst_case(100))', globals=globals(),number=100))"
      ],
      "metadata": {
        "id": "Rnotc5xRwx2t",
        "outputId": "18e74ae6-841f-4e99-c83a-e5200898061d",
        "colab": {
          "base_uri": "https://localhost:8080/"
        }
      },
      "execution_count": 49,
      "outputs": [
        {
          "output_type": "stream",
          "name": "stdout",
          "text": [
            "0.35607749500013597\n"
          ]
        }
      ]
    },
    {
      "cell_type": "code",
      "source": [
        "print(timeit.timeit('selection_sort(gen_worst_case(100))', globals=globals(),number=100))"
      ],
      "metadata": {
        "id": "atQqtL3Ow5f6",
        "outputId": "b624af50-1670-4e08-fefb-60616a738444",
        "colab": {
          "base_uri": "https://localhost:8080/"
        }
      },
      "execution_count": 50,
      "outputs": [
        {
          "output_type": "stream",
          "name": "stdout",
          "text": [
            "0.11747683900011907\n"
          ]
        }
      ]
    },
    {
      "cell_type": "code",
      "metadata": {
        "id": "Rmij7jTyGpAq"
      },
      "source": [
        "def merge_sort(A):\n",
        "    n=len(A)\n",
        "    if len(A) <= 1:\n",
        "      return A\n",
        "    L = merge_sort(A[0:int(n/2)])\n",
        "    R = merge_sort(A[int(n/2):n])\n",
        "    return merge(L, R)\n",
        "\n",
        "def merge(L, R):\n",
        "    result = []\n",
        "    l_idx, r_idx = (0, 0)\n",
        "    while l_idx < len(L) and r_idx < len(R):\n",
        "      if L[l_idx] < R[r_idx]:\n",
        "        result.append(L[l_idx])\n",
        "        l_idx += 1\n",
        "      else:\n",
        "        result.append(R[r_idx])\n",
        "        r_idx += 1\n",
        "    result.extend(L[l_idx:len(L)])\n",
        "    result.extend(R[r_idx:len(R)])\n",
        "    return result"
      ],
      "execution_count": null,
      "outputs": []
    },
    {
      "cell_type": "code",
      "metadata": {
        "id": "qkMiY4sTGpAt"
      },
      "source": [
        "import pandas as pd\n",
        "import time \n",
        "import sys\n",
        "\n",
        "time_data={'method':list(),'ellapsed_time':list(),'problem_size':list()}\n",
        "methods=['insertion_sort','selection_sort','merge_sort']\n",
        "problems=[1e2,2e2,3e2]\n",
        "sample_size=100\n",
        "\n",
        "for m in methods:\n",
        "  for p in problems:\n",
        "    for i in range(sample_size):\n",
        "      arr=gen_random(p)\n",
        "      t1=time.time()\n",
        "      eval(m)(arr)\n",
        "      ellapsed_time=time.time()-t1\n",
        "      time_data['problem_size'].append(p)\n",
        "      time_data['method'].append(m)\n",
        "      time_data['ellapsed_time'].append(ellapsed_time)"
      ],
      "execution_count": null,
      "outputs": []
    },
    {
      "cell_type": "code",
      "source": [
        "df=pd.DataFrame(time_data)\n",
        "df['problem_size']=df['problem_size'].astype('int32')"
      ],
      "metadata": {
        "id": "Lc_tiGEvYb70"
      },
      "execution_count": null,
      "outputs": []
    },
    {
      "cell_type": "code",
      "source": [
        "df.head()"
      ],
      "metadata": {
        "id": "aoz1hMu8YgrD",
        "outputId": "472b7c7d-5380-4d1a-e1a4-8b51bf669089",
        "colab": {
          "base_uri": "https://localhost:8080/",
          "height": 206
        }
      },
      "execution_count": null,
      "outputs": [
        {
          "output_type": "execute_result",
          "data": {
            "text/plain": [
              "           method  ellapsed_time  problem_size\n",
              "0  insertion_sort       0.001764           100\n",
              "1  insertion_sort       0.001865           100\n",
              "2  insertion_sort       0.001717           100\n",
              "3  insertion_sort       0.001813           100\n",
              "4  insertion_sort       0.001924           100"
            ],
            "text/html": [
              "\n",
              "  <div id=\"df-192ff6bb-1f29-4af3-8b56-69ee0f363090\">\n",
              "    <div class=\"colab-df-container\">\n",
              "      <div>\n",
              "<style scoped>\n",
              "    .dataframe tbody tr th:only-of-type {\n",
              "        vertical-align: middle;\n",
              "    }\n",
              "\n",
              "    .dataframe tbody tr th {\n",
              "        vertical-align: top;\n",
              "    }\n",
              "\n",
              "    .dataframe thead th {\n",
              "        text-align: right;\n",
              "    }\n",
              "</style>\n",
              "<table border=\"1\" class=\"dataframe\">\n",
              "  <thead>\n",
              "    <tr style=\"text-align: right;\">\n",
              "      <th></th>\n",
              "      <th>method</th>\n",
              "      <th>ellapsed_time</th>\n",
              "      <th>problem_size</th>\n",
              "    </tr>\n",
              "  </thead>\n",
              "  <tbody>\n",
              "    <tr>\n",
              "      <th>0</th>\n",
              "      <td>insertion_sort</td>\n",
              "      <td>0.001764</td>\n",
              "      <td>100</td>\n",
              "    </tr>\n",
              "    <tr>\n",
              "      <th>1</th>\n",
              "      <td>insertion_sort</td>\n",
              "      <td>0.001865</td>\n",
              "      <td>100</td>\n",
              "    </tr>\n",
              "    <tr>\n",
              "      <th>2</th>\n",
              "      <td>insertion_sort</td>\n",
              "      <td>0.001717</td>\n",
              "      <td>100</td>\n",
              "    </tr>\n",
              "    <tr>\n",
              "      <th>3</th>\n",
              "      <td>insertion_sort</td>\n",
              "      <td>0.001813</td>\n",
              "      <td>100</td>\n",
              "    </tr>\n",
              "    <tr>\n",
              "      <th>4</th>\n",
              "      <td>insertion_sort</td>\n",
              "      <td>0.001924</td>\n",
              "      <td>100</td>\n",
              "    </tr>\n",
              "  </tbody>\n",
              "</table>\n",
              "</div>\n",
              "      <button class=\"colab-df-convert\" onclick=\"convertToInteractive('df-192ff6bb-1f29-4af3-8b56-69ee0f363090')\"\n",
              "              title=\"Convert this dataframe to an interactive table.\"\n",
              "              style=\"display:none;\">\n",
              "        \n",
              "  <svg xmlns=\"http://www.w3.org/2000/svg\" height=\"24px\"viewBox=\"0 0 24 24\"\n",
              "       width=\"24px\">\n",
              "    <path d=\"M0 0h24v24H0V0z\" fill=\"none\"/>\n",
              "    <path d=\"M18.56 5.44l.94 2.06.94-2.06 2.06-.94-2.06-.94-.94-2.06-.94 2.06-2.06.94zm-11 1L8.5 8.5l.94-2.06 2.06-.94-2.06-.94L8.5 2.5l-.94 2.06-2.06.94zm10 10l.94 2.06.94-2.06 2.06-.94-2.06-.94-.94-2.06-.94 2.06-2.06.94z\"/><path d=\"M17.41 7.96l-1.37-1.37c-.4-.4-.92-.59-1.43-.59-.52 0-1.04.2-1.43.59L10.3 9.45l-7.72 7.72c-.78.78-.78 2.05 0 2.83L4 21.41c.39.39.9.59 1.41.59.51 0 1.02-.2 1.41-.59l7.78-7.78 2.81-2.81c.8-.78.8-2.07 0-2.86zM5.41 20L4 18.59l7.72-7.72 1.47 1.35L5.41 20z\"/>\n",
              "  </svg>\n",
              "      </button>\n",
              "      \n",
              "  <style>\n",
              "    .colab-df-container {\n",
              "      display:flex;\n",
              "      flex-wrap:wrap;\n",
              "      gap: 12px;\n",
              "    }\n",
              "\n",
              "    .colab-df-convert {\n",
              "      background-color: #E8F0FE;\n",
              "      border: none;\n",
              "      border-radius: 50%;\n",
              "      cursor: pointer;\n",
              "      display: none;\n",
              "      fill: #1967D2;\n",
              "      height: 32px;\n",
              "      padding: 0 0 0 0;\n",
              "      width: 32px;\n",
              "    }\n",
              "\n",
              "    .colab-df-convert:hover {\n",
              "      background-color: #E2EBFA;\n",
              "      box-shadow: 0px 1px 2px rgba(60, 64, 67, 0.3), 0px 1px 3px 1px rgba(60, 64, 67, 0.15);\n",
              "      fill: #174EA6;\n",
              "    }\n",
              "\n",
              "    [theme=dark] .colab-df-convert {\n",
              "      background-color: #3B4455;\n",
              "      fill: #D2E3FC;\n",
              "    }\n",
              "\n",
              "    [theme=dark] .colab-df-convert:hover {\n",
              "      background-color: #434B5C;\n",
              "      box-shadow: 0px 1px 3px 1px rgba(0, 0, 0, 0.15);\n",
              "      filter: drop-shadow(0px 1px 2px rgba(0, 0, 0, 0.3));\n",
              "      fill: #FFFFFF;\n",
              "    }\n",
              "  </style>\n",
              "\n",
              "      <script>\n",
              "        const buttonEl =\n",
              "          document.querySelector('#df-192ff6bb-1f29-4af3-8b56-69ee0f363090 button.colab-df-convert');\n",
              "        buttonEl.style.display =\n",
              "          google.colab.kernel.accessAllowed ? 'block' : 'none';\n",
              "\n",
              "        async function convertToInteractive(key) {\n",
              "          const element = document.querySelector('#df-192ff6bb-1f29-4af3-8b56-69ee0f363090');\n",
              "          const dataTable =\n",
              "            await google.colab.kernel.invokeFunction('convertToInteractive',\n",
              "                                                     [key], {});\n",
              "          if (!dataTable) return;\n",
              "\n",
              "          const docLinkHtml = 'Like what you see? Visit the ' +\n",
              "            '<a target=\"_blank\" href=https://colab.research.google.com/notebooks/data_table.ipynb>data table notebook</a>'\n",
              "            + ' to learn more about interactive tables.';\n",
              "          element.innerHTML = '';\n",
              "          dataTable['output_type'] = 'display_data';\n",
              "          await google.colab.output.renderOutput(dataTable, element);\n",
              "          const docLink = document.createElement('div');\n",
              "          docLink.innerHTML = docLinkHtml;\n",
              "          element.appendChild(docLink);\n",
              "        }\n",
              "      </script>\n",
              "    </div>\n",
              "  </div>\n",
              "  "
            ]
          },
          "metadata": {},
          "execution_count": 8
        }
      ]
    },
    {
      "cell_type": "code",
      "metadata": {
        "id": "FJ6iijxzGpAu",
        "outputId": "88a3a335-df1a-43d9-bb9e-c08f089cae19",
        "colab": {
          "base_uri": "https://localhost:8080/",
          "height": 365
        }
      },
      "source": [
        "import warnings\n",
        "warnings.filterwarnings(\"ignore\")\n",
        "import seaborn as sns\n",
        "import matplotlib.pyplot as plt\n",
        "sns.set(style=\"whitegrid\")\n",
        "\n",
        "sns.lmplot(x=\"problem_size\", y=\"ellapsed_time\", hue=\"method\",order=2, data=df)\n",
        "plt.show()"
      ],
      "execution_count": null,
      "outputs": [
        {
          "output_type": "display_data",
          "data": {
            "text/plain": [
              "<Figure size 476.6x360 with 1 Axes>"
            ],
            "image/png": "[encoded data removed]"
          },
          "metadata": {}
        }
      ]
    },
    {
      "cell_type": "code",
      "metadata": {
        "id": "9_utFElmGpAv",
        "outputId": "a9397d76-6ab7-435f-ed25-67ff68f262c3",
        "colab": {
          "base_uri": "https://localhost:8080/",
          "height": 363
        }
      },
      "source": [
        "df.groupby(['method','problem_size']).mean()\n"
      ],
      "execution_count": null,
      "outputs": [
        {
          "output_type": "execute_result",
          "data": {
            "text/plain": [
              "                             ellapsed_time\n",
              "method         problem_size               \n",
              "insertion_sort 100                0.001917\n",
              "               200                0.013278\n",
              "               300                0.016086\n",
              "merge_sort     100                0.000524\n",
              "               200                0.001122\n",
              "               300                0.001798\n",
              "selection_sort 100                0.001172\n",
              "               200                0.004852\n",
              "               300                0.010586"
            ],
            "text/html": [
              "\n",
              "  <div id=\"df-d68ac48c-841d-46ad-9e87-6b0f25a6d1e7\">\n",
              "    <div class=\"colab-df-container\">\n",
              "      <div>\n",
              "<style scoped>\n",
              "    .dataframe tbody tr th:only-of-type {\n",
              "        vertical-align: middle;\n",
              "    }\n",
              "\n",
              "    .dataframe tbody tr th {\n",
              "        vertical-align: top;\n",
              "    }\n",
              "\n",
              "    .dataframe thead th {\n",
              "        text-align: right;\n",
              "    }\n",
              "</style>\n",
              "<table border=\"1\" class=\"dataframe\">\n",
              "  <thead>\n",
              "    <tr style=\"text-align: right;\">\n",
              "      <th></th>\n",
              "      <th></th>\n",
              "      <th>ellapsed_time</th>\n",
              "    </tr>\n",
              "    <tr>\n",
              "      <th>method</th>\n",
              "      <th>problem_size</th>\n",
              "      <th></th>\n",
              "    </tr>\n",
              "  </thead>\n",
              "  <tbody>\n",
              "    <tr>\n",
              "      <th rowspan=\"3\" valign=\"top\">insertion_sort</th>\n",
              "      <th>100</th>\n",
              "      <td>0.001917</td>\n",
              "    </tr>\n",
              "    <tr>\n",
              "      <th>200</th>\n",
              "      <td>0.013278</td>\n",
              "    </tr>\n",
              "    <tr>\n",
              "      <th>300</th>\n",
              "      <td>0.016086</td>\n",
              "    </tr>\n",
              "    <tr>\n",
              "      <th rowspan=\"3\" valign=\"top\">merge_sort</th>\n",
              "      <th>100</th>\n",
              "      <td>0.000524</td>\n",
              "    </tr>\n",
              "    <tr>\n",
              "      <th>200</th>\n",
              "      <td>0.001122</td>\n",
              "    </tr>\n",
              "    <tr>\n",
              "      <th>300</th>\n",
              "      <td>0.001798</td>\n",
              "    </tr>\n",
              "    <tr>\n",
              "      <th rowspan=\"3\" valign=\"top\">selection_sort</th>\n",
              "      <th>100</th>\n",
              "      <td>0.001172</td>\n",
              "    </tr>\n",
              "    <tr>\n",
              "      <th>200</th>\n",
              "      <td>0.004852</td>\n",
              "    </tr>\n",
              "    <tr>\n",
              "      <th>300</th>\n",
              "      <td>0.010586</td>\n",
              "    </tr>\n",
              "  </tbody>\n",
              "</table>\n",
              "</div>\n",
              "      <button class=\"colab-df-convert\" onclick=\"convertToInteractive('df-d68ac48c-841d-46ad-9e87-6b0f25a6d1e7')\"\n",
              "              title=\"Convert this dataframe to an interactive table.\"\n",
              "              style=\"display:none;\">\n",
              "        \n",
              "  <svg xmlns=\"http://www.w3.org/2000/svg\" height=\"24px\"viewBox=\"0 0 24 24\"\n",
              "       width=\"24px\">\n",
              "    <path d=\"M0 0h24v24H0V0z\" fill=\"none\"/>\n",
              "    <path d=\"M18.56 5.44l.94 2.06.94-2.06 2.06-.94-2.06-.94-.94-2.06-.94 2.06-2.06.94zm-11 1L8.5 8.5l.94-2.06 2.06-.94-2.06-.94L8.5 2.5l-.94 2.06-2.06.94zm10 10l.94 2.06.94-2.06 2.06-.94-2.06-.94-.94-2.06-.94 2.06-2.06.94z\"/><path d=\"M17.41 7.96l-1.37-1.37c-.4-.4-.92-.59-1.43-.59-.52 0-1.04.2-1.43.59L10.3 9.45l-7.72 7.72c-.78.78-.78 2.05 0 2.83L4 21.41c.39.39.9.59 1.41.59.51 0 1.02-.2 1.41-.59l7.78-7.78 2.81-2.81c.8-.78.8-2.07 0-2.86zM5.41 20L4 18.59l7.72-7.72 1.47 1.35L5.41 20z\"/>\n",
              "  </svg>\n",
              "      </button>\n",
              "      \n",
              "  <style>\n",
              "    .colab-df-container {\n",
              "      display:flex;\n",
              "      flex-wrap:wrap;\n",
              "      gap: 12px;\n",
              "    }\n",
              "\n",
              "    .colab-df-convert {\n",
              "      background-color: #E8F0FE;\n",
              "      border: none;\n",
              "      border-radius: 50%;\n",
              "      cursor: pointer;\n",
              "      display: none;\n",
              "      fill: #1967D2;\n",
              "      height: 32px;\n",
              "      padding: 0 0 0 0;\n",
              "      width: 32px;\n",
              "    }\n",
              "\n",
              "    .colab-df-convert:hover {\n",
              "      background-color: #E2EBFA;\n",
              "      box-shadow: 0px 1px 2px rgba(60, 64, 67, 0.3), 0px 1px 3px 1px rgba(60, 64, 67, 0.15);\n",
              "      fill: #174EA6;\n",
              "    }\n",
              "\n",
              "    [theme=dark] .colab-df-convert {\n",
              "      background-color: #3B4455;\n",
              "      fill: #D2E3FC;\n",
              "    }\n",
              "\n",
              "    [theme=dark] .colab-df-convert:hover {\n",
              "      background-color: #434B5C;\n",
              "      box-shadow: 0px 1px 3px 1px rgba(0, 0, 0, 0.15);\n",
              "      filter: drop-shadow(0px 1px 2px rgba(0, 0, 0, 0.3));\n",
              "      fill: #FFFFFF;\n",
              "    }\n",
              "  </style>\n",
              "\n",
              "      <script>\n",
              "        const buttonEl =\n",
              "          document.querySelector('#df-d68ac48c-841d-46ad-9e87-6b0f25a6d1e7 button.colab-df-convert');\n",
              "        buttonEl.style.display =\n",
              "          google.colab.kernel.accessAllowed ? 'block' : 'none';\n",
              "\n",
              "        async function convertToInteractive(key) {\n",
              "          const element = document.querySelector('#df-d68ac48c-841d-46ad-9e87-6b0f25a6d1e7');\n",
              "          const dataTable =\n",
              "            await google.colab.kernel.invokeFunction('convertToInteractive',\n",
              "                                                     [key], {});\n",
              "          if (!dataTable) return;\n",
              "\n",
              "          const docLinkHtml = 'Like what you see? Visit the ' +\n",
              "            '<a target=\"_blank\" href=https://colab.research.google.com/notebooks/data_table.ipynb>data table notebook</a>'\n",
              "            + ' to learn more about interactive tables.';\n",
              "          element.innerHTML = '';\n",
              "          dataTable['output_type'] = 'display_data';\n",
              "          await google.colab.output.renderOutput(dataTable, element);\n",
              "          const docLink = document.createElement('div');\n",
              "          docLink.innerHTML = docLinkHtml;\n",
              "          element.appendChild(docLink);\n",
              "        }\n",
              "      </script>\n",
              "    </div>\n",
              "  </div>\n",
              "  "
            ]
          },
          "metadata": {},
          "execution_count": 10
        }
      ]
    },
    {
      "cell_type": "markdown",
      "source": [],
      "metadata": {
        "id": "nntumv2XZy-U"
      }
    }
  ]
}