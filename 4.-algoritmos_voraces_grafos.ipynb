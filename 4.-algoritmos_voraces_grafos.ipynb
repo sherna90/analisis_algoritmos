{
  "cells": [
    {
      "cell_type": "markdown",
      "metadata": {
        "id": "F3CDYGWo7_HL"
      },
      "source": [
        "<h1>Algoritmos Voraces en Grafos</h1>\n",
        "\n",
        "Dado un grafo ponderado $(G , w )$ donde $G = (V , E )$ y $w : E  \\mapsto \\mathbb R$, un\n",
        "arbol de expansión mı́nima es un arbol de expansión en el que la suma\n",
        "de los pesos w de las aristas es mı́nima.\n",
        "\n",
        "<h2>Algoritmo Prim</h2>\n",
        "\n",
        "El algoritmo de Prim construye un arbol visitando vértices de\n",
        "manera iterativa hasta que se obtiene un árbol de expansión mı́nima.Se comienza desde un vértice cualquiera y en cada iteración se agrega la arista que tenga el mı́nimo peso y no complete un ciclo.\n",
        "La complejidad computacional del algoritmo de Prim es $O(V \\operatorname{log} V)$.\n",
        "El siguiente pseudo-código implementa el algoritmo mediante una cola de prioridad:\n",
        "\n",
        "\n",
        "\n",
        "<h2>Algoritmo Kruskal</h2>\n",
        "\n",
        "El algoritmo de Kruskal construye un arbol visitando aristas de\n",
        "manera iterativa hasta que se obtiene un árbol de expansión mı́nima.\n",
        "Se comienza desde un vértice cualquiera y en cada iteración se\n",
        "agrega la arista que tenga el mı́nimo peso y no complete un ciclo.\n",
        "La complejidad computacional del algoritmo de Kruskal es $O(E \\operatorname{log} E)$.\n",
        "\n",
        "\n"
      ]
    },
    {
      "cell_type": "code",
      "execution_count": 1,
      "metadata": {
        "id": "Q_Hfu_Sr7_HQ"
      },
      "outputs": [],
      "source": [
        "import numpy as np\n",
        "from heapq import heappush,heappop\n",
        "\n",
        "class abstract_graph:\n",
        "    \n",
        "    def __init__(self,_edges):\n",
        "        self.edges=_edges\n",
        "        self.nodes={u for u,v in self.edges} | {v for u,v in self.edges}\n",
        "        \n",
        "    def adjacency_matrix(self):\n",
        "        pass\n",
        "    \n",
        "    def adjacency_list(self):\n",
        "        pass\n",
        "\n",
        "    \n",
        "class simple_graph(abstract_graph):\n",
        "    \n",
        "    def __init__(self,_edges):\n",
        "        tmp=[]\n",
        "        for (u,v) in _edges:\n",
        "            tmp.append((u,v))\n",
        "            if (v,u) not in tmp and v!=u:\n",
        "                tmp.append((v,u))\n",
        "        self.edges=tmp\n",
        "        self.nodes={u for u,v in _edges} | {v for u,v in _edges}\n",
        "     \n",
        "    def adjacency_matrix(self):\n",
        "        # completar\n",
        "        n=len(self.nodes)\n",
        "        mat=np.zeros((n,n))\n",
        "        for i,v in enumerate(self.nodes):\n",
        "            for j,k in enumerate(self.nodes):\n",
        "                if (v,k) in self.edges:\n",
        "                    mat[i,j]=1\n",
        "        return mat\n",
        "    \n",
        "    \n",
        "    def adjacency_list(self):\n",
        "        adjacent=lambda n : {v for u,v in self.edges if u==n } \n",
        "        return {v:adjacent(v) for v in self.nodes}\n",
        "\n",
        "  \n",
        "\n",
        "  \n",
        "    \n"
      ]
    },
    {
      "cell_type": "code",
      "execution_count": null,
      "metadata": {
        "id": "b3hd7p7V7_HU",
        "outputId": "22a8f33e-0d77-441a-b3d6-4a57dc1d3c6b"
      },
      "outputs": [
        {
          "name": "stdout",
          "output_type": "stream",
          "text": [
            "Tarea : escribir requerimientos, Prioridad 1\n",
            "Tarea : crear tests, Prioridad 3\n",
            "Tarea : escribir codigo, Prioridad 5\n",
            "Tarea : pasar a produccion, Prioridad 7\n"
          ]
        }
      ],
      "source": [
        "import heapq\n",
        "\n",
        "h = []\n",
        "heappush(h, (5, 'escribir codigo'))\n",
        "heappush(h, (7, 'pasar a produccion'))\n",
        "heappush(h, (1, 'escribir requerimientos'))\n",
        "heappush(h, (3, 'crear tests'))\n",
        "while h:\n",
        "    i,v=heappop(h)\n",
        "    print('Tarea : {0}, Prioridad {1}'.format(v,i))"
      ]
    },
    {
      "cell_type": "code",
      "execution_count": null,
      "metadata": {
        "id": "noa3GcCL7_HW"
      },
      "outputs": [],
      "source": [
        "def prim_mst(graph,start):\n",
        "    frontier, visited = [], set()\n",
        "    tree=[]\n",
        "    heappush(frontier, (0, (None,start)))\n",
        "    adjacency=graph.adjacency_list()\n",
        "    while frontier:\n",
        "        weight,(u,v)=heappop(frontier)\n",
        "        if v in visited:\n",
        "            continue\n",
        "        print('Vertice padre: {0}, Prioridad {1}'.format(v,weight))\n",
        "        visited.update({v})\n",
        "        tree.append((u,v,{'weight':weight}))\n",
        "        for neighbor in adjacency[v]:\n",
        "            #print('Vertice vecino : {0}'.format(neighbor))\n",
        "            if neighbor not in visited:\n",
        "                if (v,neighbor) in graph.edges:\n",
        "                    new_edge=(v,neighbor)\n",
        "                else:\n",
        "                    new_edge=(neighbor,v)\n",
        "                heappush(frontier, (graph.edges[new_edge], (v,neighbor)))\n",
        "    return tree"
      ]
    },
    {
      "cell_type": "code",
      "execution_count": null,
      "metadata": {
        "id": "bk7ubXKi7_HY"
      },
      "outputs": [],
      "source": [
        "def naive_find(C, u):\n",
        "    while C[u] != u:\n",
        "        u = C[u]\n",
        "    return u\n",
        "\n",
        "def naive_union(C, u, v):\n",
        "    u = naive_find(C, u)\n",
        "    v = naive_find(C, v)\n",
        "    C[u] = v\n",
        "\n",
        "def naive_kruskal(G):\n",
        "    E = G.edges\n",
        "    tree=[]\n",
        "    C = {u:u for u in G.nodes}\n",
        "    for (u,v),weight in sorted(E.items(),key=lambda x: x[1]):\n",
        "        print('Vertice : ({0},{1}), Prioridad {2}'.format(u,v,weight))\n",
        "        if naive_find(C, u) != naive_find(C, v):\n",
        "            tree.append((u,v,{'weight':weight}))\n",
        "            naive_union(C, u, v)\n",
        "    return T"
      ]
    },
    {
      "cell_type": "code",
      "execution_count": null,
      "metadata": {
        "id": "KwSOQ9L27_Ha"
      },
      "outputs": [],
      "source": [
        "def find(C, u): \n",
        "    if C[u] != u:\n",
        "        C[u] = find(C, C[u])\n",
        "    return C[u]\n",
        "\n",
        "def union(C, R, u, v):\n",
        "    u, v = find(C, u), find(C, v)\n",
        "    if R[u] > R[v]:\n",
        "        C[v] = u \n",
        "    else:\n",
        "        C[u] = v\n",
        "    if R[u] == R[v]:\n",
        "        R[v] += 1\n",
        "        \n",
        "def kruskal(G):\n",
        "    E = G.edges\n",
        "    tree=[]\n",
        "    C,R = {u:u for u in G.nodes}, {u:0 for u in G.nodes} \n",
        "    for (u,v),weight in sorted(E.items(),key=lambda x: x[1]):\n",
        "        if find(C, u) != find(C, v): \n",
        "            T.add((u, v))\n",
        "            union(C, R, u, v)\n",
        "    return T"
      ]
    },
    {
      "cell_type": "code",
      "execution_count": null,
      "metadata": {
        "id": "DC6Kfqs47_Hc",
        "outputId": "a672c6e9-6746-462b-ff20-7e142a8bc2b2"
      },
      "outputs": [
        {
          "name": "stdout",
          "output_type": "stream",
          "text": [
            "aristas :  {('a', 'b'): 4, ('b', 'c'): 7, ('b', 'd'): 8, ('c', 'd'): 10, ('a', 'c'): 9}\n"
          ]
        }
      ],
      "source": [
        "import numpy as np\n",
        "\n",
        "E={('a','b'):4,('b','c'):7,('b','d'):8,('c','d'):10,('a','c'):9}\n",
        "G=weighted_graph(E)\n",
        "print('aristas : ',G.edges)\n"
      ]
    },
    {
      "cell_type": "code",
      "execution_count": null,
      "metadata": {
        "id": "ovAsv58B7_Hc",
        "outputId": "62bfc55b-ba5a-485e-d6b1-b4ecf170d407"
      },
      "outputs": [
        {
          "data": {
            "text/plain": [
              "{'d': {'b', 'c'}, 'b': {'a', 'c', 'd'}, 'c': {'a', 'b', 'd'}, 'a': {'b', 'c'}}"
            ]
          },
          "execution_count": 6,
          "metadata": {},
          "output_type": "execute_result"
        }
      ],
      "source": [
        "G.adjacency_list()"
      ]
    },
    {
      "cell_type": "code",
      "execution_count": null,
      "metadata": {
        "id": "-HhCpEJb7_He",
        "outputId": "10c900b4-2f0b-42cd-cb10-19fee890a18a"
      },
      "outputs": [
        {
          "name": "stdout",
          "output_type": "stream",
          "text": [
            "Vertice padre: a, Prioridad 0\n",
            "Vertice padre: b, Prioridad 4\n",
            "Vertice padre: c, Prioridad 7\n",
            "Vertice padre: d, Prioridad 8\n"
          ]
        }
      ],
      "source": [
        "T=prim_mst(G,'a')"
      ]
    },
    {
      "cell_type": "code",
      "execution_count": null,
      "metadata": {
        "id": "4mfqWzGK7_Hg",
        "outputId": "8b3a00f2-fc0c-4284-b47a-eb627ad426c5"
      },
      "outputs": [
        {
          "data": {
            "text/plain": [
              "[(None, 'a', {'weight': 0}),\n",
              " ('a', 'b', {'weight': 4}),\n",
              " ('b', 'c', {'weight': 7}),\n",
              " ('b', 'd', {'weight': 8})]"
            ]
          },
          "execution_count": 9,
          "metadata": {},
          "output_type": "execute_result"
        }
      ],
      "source": [
        "T"
      ]
    },
    {
      "cell_type": "code",
      "execution_count": null,
      "metadata": {
        "id": "l-Far9ks7_Hi",
        "outputId": "56ff2968-fbff-46fe-a4b4-3b55e7ef8580"
      },
      "outputs": [
        {
          "name": "stdout",
          "output_type": "stream",
          "text": [
            "Vertice : (a,b), Prioridad 4\n",
            "Vertice : (b,c), Prioridad 7\n",
            "Vertice : (b,d), Prioridad 8\n",
            "Vertice : (a,c), Prioridad 9\n",
            "Vertice : (c,d), Prioridad 10\n"
          ]
        }
      ],
      "source": [
        "T_kruskal=naive_kruskal(G)"
      ]
    },
    {
      "cell_type": "code",
      "execution_count": null,
      "metadata": {
        "id": "xggiQ0Mp7_Hj"
      },
      "outputs": [],
      "source": [
        "tree_weight = lambda T: np.sum([k['weight'] for (u,v,k) in T])"
      ]
    },
    {
      "cell_type": "code",
      "execution_count": null,
      "metadata": {
        "id": "z2e676p17_Hk",
        "outputId": "907e9d74-8383-4cec-ba6f-72c9848ddb2a"
      },
      "outputs": [
        {
          "name": "stdout",
          "output_type": "stream",
          "text": [
            "El costo del arbol recubridor Prim es : 19\n"
          ]
        }
      ],
      "source": [
        "print('El costo del arbol recubridor Prim es : {}'.format(tree_weight(T)))"
      ]
    },
    {
      "cell_type": "code",
      "execution_count": null,
      "metadata": {
        "id": "bOh7S1Sg7_Hl",
        "outputId": "4fc8129b-62c8-481a-c0c6-a721819a162c"
      },
      "outputs": [
        {
          "name": "stdout",
          "output_type": "stream",
          "text": [
            "El costo del arbol recubridor Kruskal es : 19\n"
          ]
        }
      ],
      "source": [
        "print('El costo del arbol recubridor Kruskal es : {}'.format(tree_weight(T_kruskal)))"
      ]
    },
    {
      "cell_type": "code",
      "execution_count": null,
      "metadata": {
        "id": "e-TCAHKM7_Hl"
      },
      "outputs": [],
      "source": [
        "E={('a','b'):4,('a','h'):8,('b','h'):11,\n",
        "   ('b','c'):8,('h','i'):7,('c','i'):2,('i','g'):6,\n",
        "  ('h','g'):1,('g','f'):2,('c','f'):4,('c','d'):7,\n",
        "  ('d','e'):9,('d','f'):14,('f','e'):9}\n",
        "G=weighted_graph(E)"
      ]
    },
    {
      "cell_type": "code",
      "execution_count": null,
      "metadata": {
        "id": "U2Tcwtby7_Hm",
        "outputId": "79282185-ac32-46d1-eaa4-a662ee01c7dc"
      },
      "outputs": [
        {
          "name": "stdout",
          "output_type": "stream",
          "text": [
            "Vertice padre: a, Prioridad 0\n",
            "Vertice padre: b, Prioridad 4\n",
            "Vertice padre: h, Prioridad 8\n",
            "Vertice padre: g, Prioridad 1\n",
            "Vertice padre: f, Prioridad 2\n",
            "Vertice padre: c, Prioridad 4\n",
            "Vertice padre: i, Prioridad 2\n",
            "Vertice padre: d, Prioridad 7\n",
            "Vertice padre: e, Prioridad 9\n"
          ]
        }
      ],
      "source": [
        "T=prim_mst(G,'a')"
      ]
    },
    {
      "cell_type": "code",
      "execution_count": null,
      "metadata": {
        "id": "ywiy1fKm7_Hm",
        "outputId": "c6b4f0ba-94f1-4865-8ac0-9b43077374dd"
      },
      "outputs": [
        {
          "data": {
            "text/plain": [
              "[(None, 'a', {'weight': 0}),\n",
              " ('a', 'b', {'weight': 4}),\n",
              " ('a', 'h', {'weight': 8}),\n",
              " ('h', 'g', {'weight': 1}),\n",
              " ('g', 'f', {'weight': 2}),\n",
              " ('f', 'c', {'weight': 4}),\n",
              " ('c', 'i', {'weight': 2}),\n",
              " ('c', 'd', {'weight': 7}),\n",
              " ('d', 'e', {'weight': 9})]"
            ]
          },
          "execution_count": 16,
          "metadata": {},
          "output_type": "execute_result"
        }
      ],
      "source": [
        "T"
      ]
    },
    {
      "cell_type": "code",
      "execution_count": null,
      "metadata": {
        "id": "wKOXVUi07_Hn",
        "outputId": "06b79e5a-b008-4cc0-e40f-c23aa67c9f5c"
      },
      "outputs": [
        {
          "name": "stdout",
          "output_type": "stream",
          "text": [
            "El costo del arbol recubridor Prim es : 37\n"
          ]
        }
      ],
      "source": [
        "print('El costo del arbol recubridor Prim es : {}'.format(tree_weight(T)))"
      ]
    },
    {
      "cell_type": "code",
      "execution_count": null,
      "metadata": {
        "id": "6xVw_zwE7_Ho",
        "outputId": "cf8fa91e-0d43-4b28-b0ae-533cbbfa6a23"
      },
      "outputs": [
        {
          "name": "stdout",
          "output_type": "stream",
          "text": [
            "Vertice : (h,g), Prioridad 1\n",
            "Vertice : (c,i), Prioridad 2\n",
            "Vertice : (g,f), Prioridad 2\n",
            "Vertice : (a,b), Prioridad 4\n",
            "Vertice : (c,f), Prioridad 4\n",
            "Vertice : (i,g), Prioridad 6\n",
            "Vertice : (h,i), Prioridad 7\n",
            "Vertice : (c,d), Prioridad 7\n",
            "Vertice : (a,h), Prioridad 8\n",
            "Vertice : (b,c), Prioridad 8\n",
            "Vertice : (d,e), Prioridad 9\n",
            "Vertice : (f,e), Prioridad 9\n",
            "Vertice : (b,h), Prioridad 11\n",
            "Vertice : (d,f), Prioridad 14\n",
            "El costo del arbol recubridor Kruskal es : 37\n"
          ]
        }
      ],
      "source": [
        "T_kruskal=naive_kruskal(G)\n",
        "print('El costo del arbol recubridor Kruskal es : {}'.format(tree_weight(T_kruskal)))"
      ]
    },
    {
      "cell_type": "code",
      "execution_count": null,
      "metadata": {
        "id": "Ngnz58Kb7_Ho"
      },
      "outputs": [],
      "source": [
        "import networkx as nx\n",
        "\n",
        "G_nx = nx.Graph()  # or DiGraph, MultiGraph, MultiDiGraph, etc\n",
        "G_nx.add_weighted_edges_from([(u,v,w) for ((u,v),w) in E.items()])"
      ]
    },
    {
      "cell_type": "code",
      "execution_count": null,
      "metadata": {
        "id": "3Ts-Ymx-7_Hp"
      },
      "outputs": [],
      "source": [
        "T_nx = nx.minimum_spanning_tree(G_nx)"
      ]
    },
    {
      "cell_type": "code",
      "execution_count": null,
      "metadata": {
        "id": "ClozNpTr7_Hp",
        "outputId": "e9805752-0775-40e1-fa85-447c54acdcf0"
      },
      "outputs": [
        {
          "data": {
            "text/plain": [
              "[('a', 'b', {'weight': 4}),\n",
              " ('a', 'h', {'weight': 8}),\n",
              " ('c', 'd', {'weight': 7}),\n",
              " ('c', 'f', {'weight': 4}),\n",
              " ('c', 'i', {'weight': 2}),\n",
              " ('f', 'e', {'weight': 9}),\n",
              " ('g', 'f', {'weight': 2}),\n",
              " ('h', 'g', {'weight': 1})]"
            ]
          },
          "execution_count": 23,
          "metadata": {},
          "output_type": "execute_result"
        }
      ],
      "source": [
        "sorted(T_nx.edges(data=True))"
      ]
    },
    {
      "cell_type": "code",
      "execution_count": null,
      "metadata": {
        "id": "KL6yTSiY7_Hq",
        "outputId": "70ca3d03-6757-4e9c-a2cf-ce52130bd4cd"
      },
      "outputs": [
        {
          "name": "stdout",
          "output_type": "stream",
          "text": [
            "El costo del arbol recubridor Prim es : 37\n"
          ]
        }
      ],
      "source": [
        "print('El costo del arbol recubridor Prim es : {}'.format(tree_weight(T)))"
      ]
    },
    {
      "cell_type": "code",
      "execution_count": null,
      "metadata": {
        "id": "OqsK6FMm7_Hq",
        "outputId": "ba08c3c0-9d3a-4749-f7bb-3fa71e6bdcc3"
      },
      "outputs": [
        {
          "name": "stdout",
          "output_type": "stream",
          "text": [
            "El costo del arbol recubridor Kruskal es : 37\n"
          ]
        }
      ],
      "source": [
        "print('El costo del arbol recubridor Kruskal es : {}'.format(tree_weight(T_kruskal)))"
      ]
    },
    {
      "cell_type": "markdown",
      "metadata": {
        "id": "J-RNl_pl7_Hr"
      },
      "source": [
        "# Grafos Aleatorios "
      ]
    },
    {
      "cell_type": "code",
      "execution_count": null,
      "metadata": {
        "id": "8k7Khr947_Hr",
        "outputId": "ca826f2a-ba54-474d-80a7-8ba7b36a2d7e"
      },
      "outputs": [
        {
          "data": {
            "image/png": "[encoded data removed]",
            "text/plain": [
              "<Figure size 432x288 with 2 Axes>"
            ]
          },
          "metadata": {},
          "output_type": "display_data"
        }
      ],
      "source": [
        "import matplotlib.pyplot as plt\n",
        "\n",
        "plt.Figure((8,15))\n",
        "while True:\n",
        "    G_nx = nx.erdos_renyi_graph(10, 0.25,directed=False)\n",
        "    if(nx.is_connected(G_nx)):\n",
        "        weights={edge:np.random.randint(1,10) for edge in G_nx.edges}\n",
        "        nx.set_edge_attributes(G_nx, values = weights, name = 'weight')\n",
        "        T_nx = nx.minimum_spanning_tree(G_nx)\n",
        "        subax1 = plt.subplot(121)\n",
        "        nx.draw(G_nx, with_labels=True, font_weight='bold')\n",
        "        subax2 = plt.subplot(122)\n",
        "        nx.draw_shell(T_nx, with_labels=True, font_weight='bold')\n",
        "        break\n",
        "        \n",
        "print()"
      ]
    },
    {
      "cell_type": "code",
      "execution_count": null,
      "metadata": {
        "id": "jvT3i6h07_Hs",
        "outputId": "2c12adfa-961d-4bbd-dead-be682327078b"
      },
      "outputs": [
        {
          "name": "stdout",
          "output_type": "stream",
          "text": [
            "El costo del MST de grafo aleatorio es : 35\n"
          ]
        }
      ],
      "source": [
        "cost=np.sum([k['weight'] for (u,v,k) in T_nx.edges(data=True)])\n",
        "print('El costo del MST de grafo aleatorio es : {}'.format(cost))"
      ]
    },
    {
      "cell_type": "code",
      "execution_count": null,
      "metadata": {
        "id": "lzc4mr1R7_Hs"
      },
      "outputs": [],
      "source": [
        "E={(u,v):k['weight'] for (u,v,k) in G_nx.edges(data=True)}"
      ]
    },
    {
      "cell_type": "code",
      "execution_count": null,
      "metadata": {
        "id": "sjYcvVJV7_Hs",
        "outputId": "6bfe5ceb-021a-4b7d-a02e-a19ce7dbcee0"
      },
      "outputs": [
        {
          "name": "stdout",
          "output_type": "stream",
          "text": [
            "Vertice padre: 1, Prioridad 0\n",
            "Vertice padre: 9, Prioridad 2\n",
            "Vertice padre: 3, Prioridad 4\n",
            "Vertice padre: 8, Prioridad 4\n",
            "Vertice padre: 0, Prioridad 5\n",
            "Vertice padre: 2, Prioridad 2\n",
            "Vertice padre: 4, Prioridad 1\n",
            "Vertice padre: 7, Prioridad 3\n",
            "Vertice padre: 5, Prioridad 6\n",
            "Vertice padre: 6, Prioridad 8\n",
            "El costo del arbol recubridor Prim es : 35\n"
          ]
        }
      ],
      "source": [
        "G=weighted_graph(E)\n",
        "T=prim_mst(G,1)\n",
        "print('El costo del arbol recubridor Prim es : {}'.format(tree_weight(T)))"
      ]
    },
    {
      "cell_type": "code",
      "execution_count": null,
      "metadata": {
        "id": "q8kVWUdf7_Ht",
        "outputId": "6b5e2371-5a5e-4cdb-ca5d-06fa3d09f9cd"
      },
      "outputs": [
        {
          "name": "stdout",
          "output_type": "stream",
          "text": [
            "Vertice : (2,4), Prioridad 1\n",
            "Vertice : (0,2), Prioridad 2\n",
            "Vertice : (1,9), Prioridad 2\n",
            "Vertice : (0,7), Prioridad 3\n",
            "Vertice : (3,8), Prioridad 4\n",
            "Vertice : (3,9), Prioridad 4\n",
            "Vertice : (0,3), Prioridad 5\n",
            "Vertice : (3,5), Prioridad 6\n",
            "Vertice : (4,9), Prioridad 6\n",
            "Vertice : (1,6), Prioridad 8\n",
            "El costo del arbol recubridor Kruskal es : 35\n"
          ]
        }
      ],
      "source": [
        "T=naive_kruskal(G)\n",
        "print('El costo del arbol recubridor Kruskal es : {}'.format(tree_weight(T)))"
      ]
    },
    {
      "cell_type": "markdown",
      "metadata": {
        "id": "VLpaDDJW7_Ht"
      },
      "source": [
        "<h2>Ejercicio</h2>\n",
        "\n",
        "Se desea construir un acueducto que una las ciudades de la region del Maule. El costo en distancia se encuentra en mm en un archivo csv."
      ]
    },
    {
      "cell_type": "code",
      "execution_count": null,
      "metadata": {
        "id": "GYi1C0Iv7_Ht",
        "outputId": "fe711117-ecf6-4f27-8a37-310de7212bc1"
      },
      "outputs": [
        {
          "data": {
            "text/html": [
              "<div>\n",
              "<style scoped>\n",
              "    .dataframe tbody tr th:only-of-type {\n",
              "        vertical-align: middle;\n",
              "    }\n",
              "\n",
              "    .dataframe tbody tr th {\n",
              "        vertical-align: top;\n",
              "    }\n",
              "\n",
              "    .dataframe thead th {\n",
              "        text-align: right;\n",
              "    }\n",
              "</style>\n",
              "<table border=\"1\" class=\"dataframe\">\n",
              "  <thead>\n",
              "    <tr style=\"text-align: right;\">\n",
              "      <th></th>\n",
              "      <th>WKT</th>\n",
              "      <th>InputID</th>\n",
              "      <th>TargetID</th>\n",
              "      <th>Distance</th>\n",
              "    </tr>\n",
              "  </thead>\n",
              "  <tbody>\n",
              "    <tr>\n",
              "      <th>0</th>\n",
              "      <td>MULTIPOINT ((-71.661999 -35.432349),(-71.59687...</td>\n",
              "      <td>TALCA</td>\n",
              "      <td>PANGUILEMO</td>\n",
              "      <td>9402.992976</td>\n",
              "    </tr>\n",
              "    <tr>\n",
              "      <th>1</th>\n",
              "      <td>MULTIPOINT ((-71.661999 -35.432349),(-71.56431...</td>\n",
              "      <td>TALCA</td>\n",
              "      <td>HUILQUILEMU</td>\n",
              "      <td>9026.792210</td>\n",
              "    </tr>\n",
              "    <tr>\n",
              "      <th>2</th>\n",
              "      <td>MULTIPOINT ((-72.412391 -35.335426),(-71.66199...</td>\n",
              "      <td>TALCA</td>\n",
              "      <td>CONSTITUCION</td>\n",
              "      <td>69023.063640</td>\n",
              "    </tr>\n",
              "    <tr>\n",
              "      <th>3</th>\n",
              "      <td>MULTIPOINT ((-72.333641 -35.427048),(-71.66199...</td>\n",
              "      <td>TALCA</td>\n",
              "      <td>SANTA OLGA</td>\n",
              "      <td>60993.437978</td>\n",
              "    </tr>\n",
              "    <tr>\n",
              "      <th>4</th>\n",
              "      <td>MULTIPOINT ((-72.494926 -35.469452),(-71.66199...</td>\n",
              "      <td>TALCA</td>\n",
              "      <td>LOS PELLINES</td>\n",
              "      <td>75728.660537</td>\n",
              "    </tr>\n",
              "  </tbody>\n",
              "</table>\n",
              "</div>"
            ],
            "text/plain": [
              "                                                 WKT InputID      TargetID  \\\n",
              "0  MULTIPOINT ((-71.661999 -35.432349),(-71.59687...   TALCA    PANGUILEMO   \n",
              "1  MULTIPOINT ((-71.661999 -35.432349),(-71.56431...   TALCA   HUILQUILEMU   \n",
              "2  MULTIPOINT ((-72.412391 -35.335426),(-71.66199...   TALCA  CONSTITUCION   \n",
              "3  MULTIPOINT ((-72.333641 -35.427048),(-71.66199...   TALCA    SANTA OLGA   \n",
              "4  MULTIPOINT ((-72.494926 -35.469452),(-71.66199...   TALCA  LOS PELLINES   \n",
              "\n",
              "       Distance  \n",
              "0   9402.992976  \n",
              "1   9026.792210  \n",
              "2  69023.063640  \n",
              "3  60993.437978  \n",
              "4  75728.660537  "
            ]
          },
          "execution_count": 85,
          "metadata": {},
          "output_type": "execute_result"
        }
      ],
      "source": [
        "import pandas as pd\n",
        "\n",
        "df=pd.read_csv('https://raw.githubusercontent.com/sherna90/matematicas_discretas/master/data/distancias_maule.csv', encoding = 'utf-8',dtype={'WKT':str,'InputID':str,'TargetID':str,'Distance':float}) \n",
        "\n",
        "df.loc[df['InputID']=='TALCA'].head()"
      ]
    },
    {
      "cell_type": "code",
      "execution_count": null,
      "metadata": {
        "id": "B6WI295q7_Hu",
        "outputId": "9914359c-6cf9-4a55-bbad-90e78759142f"
      },
      "outputs": [
        {
          "data": {
            "text/plain": [
              "array(['TALCA', 'PANGUILEMO', 'HUILQUILEMU', 'CONSTITUCION', 'SANTA OLGA',\n",
              "       'LOS PELLINES', 'CUREPTO', 'EMPEDRADO', 'MAULE', 'CULENAR',\n",
              "       'VILLA FRANCIA', 'CHACARILLAS', 'PELARCO', 'PENCAHUE', 'CUMPEO',\n",
              "       'SAN CLEMENTE', 'SAN RAFAEL', 'CAUQUENES', 'CHANCO', 'PELLUHUE',\n",
              "       'QUILICURA', 'CURICO', 'SARMIENTO', 'VILLA LOS NICHES',\n",
              "       'SAN ALBERTO', 'HUALAE', 'LICANTEN', 'ILOCA', 'MOLINA',\n",
              "       'ITAHUE UNO', 'RAUCO', 'ROMERAL', 'SAGRADA  FAMILIA', 'VILLA PRAT',\n",
              "       'TENO', 'LLICO', 'LAGO VICHUQUEN', 'LINARES', 'VARA GRUESA',\n",
              "       'LAS OBRAS', 'COLBUN', 'PANIMAVIDA', 'LONGAVI', 'PARRAL', 'RETIRO',\n",
              "       'COPIHUE', 'SAN JAVIER', 'BOBADILLA', 'VILLA ALEGRE',\n",
              "       'YERBAS BUENAS'], dtype=object)"
            ]
          },
          "execution_count": 87,
          "metadata": {},
          "output_type": "execute_result"
        }
      ],
      "source": [
        "df['WKT'] = df['WKT'].apply(lambda x: x.encode('ascii', 'ignore').decode('ascii'))\n",
        "df['InputID'] = df['InputID'].apply(lambda x: x.encode('ascii', 'ignore').decode('ascii'))\n",
        "df['TargetID'] = df['TargetID'].apply(lambda x: x.encode('ascii', 'ignore').decode('ascii'))\n",
        "df['InputID'].unique()"
      ]
    },
    {
      "cell_type": "code",
      "execution_count": null,
      "metadata": {
        "id": "6zggBw3N7_Hu"
      },
      "outputs": [],
      "source": [
        "E={}\n",
        "for index, row in df.iterrows():\n",
        "    E.update({(str(row['InputID']), str(row['TargetID'])):row['Distance']/1000})"
      ]
    },
    {
      "cell_type": "code",
      "execution_count": null,
      "metadata": {
        "id": "NPkEK2rP7_Hv"
      },
      "outputs": [],
      "source": [
        "G=weighted_graph(E)"
      ]
    },
    {
      "cell_type": "code",
      "execution_count": null,
      "metadata": {
        "id": "ixklZKc97_Hv",
        "outputId": "e26e77de-c57b-4174-8aa8-860d699c1a75"
      },
      "outputs": [
        {
          "name": "stdout",
          "output_type": "stream",
          "text": [
            "{'SAN JAVIER', 'SAN RAFAEL', 'BOBADILLA', 'LONGAVI', 'CURICO', 'LICANTEN', 'CUMPEO', 'CUREPTO', 'CULENAR', 'MAULE', 'COLBUN', 'PARRAL', 'SAN CLEMENTE', 'LAS OBRAS', 'YERBAS BUENAS', 'QUILICURA', 'CHANCO', 'COPIHUE', 'EMPEDRADO', 'LINARES', 'TALCA', 'VILLA FRANCIA', 'PELLUHUE', 'VARA GRUESA', 'TENO', 'SAN ALBERTO', 'HUILQUILEMU', 'SANTA OLGA', 'LLICO', 'RETIRO', 'SARMIENTO', 'PENCAHUE', 'CAUQUENES', 'ITAHUE UNO', 'ROMERAL', 'VILLA PRAT', 'PANIMAVIDA', 'PANGUILEMO', 'CHACARILLAS', 'LOS PELLINES', 'SAGRADA  FAMILIA', 'RAUCO', 'MOLINA', 'ILOCA', 'LAGO VICHUQUEN', 'PELARCO', 'CONSTITUCION', 'HUALAE', 'VILLA ALEGRE', 'VILLA LOS NICHES'}\n"
          ]
        }
      ],
      "source": [
        "print(G.nodes)"
      ]
    },
    {
      "cell_type": "code",
      "execution_count": null,
      "metadata": {
        "id": "yMrijX6u7_Hv",
        "outputId": "4206416e-1d75-4791-cecf-49ec4d3e5ad2"
      },
      "outputs": [
        {
          "name": "stdout",
          "output_type": "stream",
          "text": [
            "Vertice padre: TALCA, Prioridad 0\n",
            "Vertice padre: CULENAR, Prioridad 3.9649338381316803\n",
            "Vertice padre: VILLA FRANCIA, Prioridad 1.33428335842812\n",
            "Vertice padre: CHACARILLAS, Prioridad 4.46585695446726\n",
            "Vertice padre: MAULE, Prioridad 2.5950385329768\n",
            "Vertice padre: BOBADILLA, Prioridad 4.465889689069121\n",
            "Vertice padre: SAN JAVIER, Prioridad 4.59017254506704\n",
            "Vertice padre: HUILQUILEMU, Prioridad 9.026792209591079\n",
            "Vertice padre: VILLA ALEGRE, Prioridad 9.18977588004314\n",
            "Vertice padre: PANGUILEMO, Prioridad 9.40299297647628\n",
            "Vertice padre: SAN RAFAEL, Prioridad 9.18076991683921\n",
            "Vertice padre: PELARCO, Prioridad 10.7754701402999\n",
            "Vertice padre: PENCAHUE, Prioridad 11.4378358826853\n",
            "Vertice padre: SAN CLEMENTE, Prioridad 11.8953735732226\n",
            "Vertice padre: YERBAS BUENAS, Prioridad 16.4468074244873\n",
            "Vertice padre: LINARES, Prioridad 10.7962798998361\n",
            "Vertice padre: VARA GRUESA, Prioridad 8.408269680843619\n",
            "Vertice padre: LAS OBRAS, Prioridad 8.48362388917583\n",
            "Vertice padre: PANIMAVIDA, Prioridad 10.7193269370867\n",
            "Vertice padre: COLBUN, Prioridad 7.22485864136085\n",
            "Vertice padre: LONGAVI, Prioridad 13.1910016478016\n",
            "Vertice padre: RETIRO, Prioridad 11.7334951072981\n",
            "Vertice padre: COPIHUE, Prioridad 5.8227381088118\n",
            "Vertice padre: PARRAL, Prioridad 6.35181130986633\n",
            "Vertice padre: CUMPEO, Prioridad 20.6689717512939\n",
            "Vertice padre: ITAHUE UNO, Prioridad 18.4424693258925\n",
            "Vertice padre: MOLINA, Prioridad 7.25398445461394\n",
            "Vertice padre: SAGRADA  FAMILIA, Prioridad 13.1396608840502\n",
            "Vertice padre: VILLA LOS NICHES, Prioridad 7.56171644224313\n",
            "Vertice padre: RAUCO, Prioridad 1.78598419130831\n",
            "Vertice padre: CURICO, Prioridad 8.90446125363686\n",
            "Vertice padre: SARMIENTO, Prioridad 5.821907697423909\n",
            "Vertice padre: ROMERAL, Prioridad 6.26793791693322\n",
            "Vertice padre: SAN ALBERTO, Prioridad 3.04757217274264\n",
            "Vertice padre: TENO, Prioridad 8.13009963945093\n",
            "Vertice padre: VILLA PRAT, Prioridad 23.2324663656151\n",
            "Vertice padre: HUALAE, Prioridad 22.1383891313975\n",
            "Vertice padre: LICANTEN, Prioridad 16.566601177923598\n",
            "Vertice padre: LAGO VICHUQUEN, Prioridad 11.4546535002247\n",
            "Vertice padre: CUREPTO, Prioridad 12.7686662995542\n",
            "Vertice padre: LLICO, Prioridad 15.4798261540034\n",
            "Vertice padre: ILOCA, Prioridad 18.9543395814527\n",
            "Vertice padre: CONSTITUCION, Prioridad 44.4978754010726\n",
            "Vertice padre: SANTA OLGA, Prioridad 12.4311053826251\n",
            "Vertice padre: LOS PELLINES, Prioridad 15.3799105241416\n",
            "Vertice padre: EMPEDRADO, Prioridad 18.9179973431884\n",
            "Vertice padre: CHANCO, Prioridad 28.010189548645098\n",
            "Vertice padre: PELLUHUE, Prioridad 9.4650186739867\n",
            "Vertice padre: QUILICURA, Prioridad 18.014800503668297\n",
            "Vertice padre: CAUQUENES, Prioridad 28.6266913090228\n"
          ]
        }
      ],
      "source": [
        "T=prim_mst(G,'TALCA')"
      ]
    },
    {
      "cell_type": "code",
      "execution_count": null,
      "metadata": {
        "id": "iUllKFFq7_Hw",
        "outputId": "0365826d-a444-47d6-d56a-69e861d2c886"
      },
      "outputs": [
        {
          "name": "stdout",
          "output_type": "stream",
          "text": [
            "El costo del arbol recubridor es : 588.4666947699772\n"
          ]
        }
      ],
      "source": [
        "cost=np.sum([d['weight'] for (u,v,d) in T])\n",
        "print('El costo del arbol recubridor es : {}'.format(cost))"
      ]
    },
    {
      "cell_type": "code",
      "execution_count": null,
      "metadata": {
        "id": "o_xuS-3y7_Hw"
      },
      "outputs": [],
      "source": []
    }
  ],
  "metadata": {
    "kernelspec": {
      "display_name": "Python 3",
      "language": "python",
      "name": "python3"
    },
    "language_info": {
      "codemirror_mode": {
        "name": "ipython",
        "version": 3
      },
      "file_extension": ".py",
      "mimetype": "text/x-python",
      "name": "python",
      "nbconvert_exporter": "python",
      "pygments_lexer": "ipython3",
      "version": "3.9.2"
    },
    "colab": {
      "provenance": []
    }
  },
  "nbformat": 4,
  "nbformat_minor": 0
}