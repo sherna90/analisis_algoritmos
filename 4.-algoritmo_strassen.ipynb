{
  "cells": [
    {
      "cell_type": "markdown",
      "metadata": {
        "id": "rAPH0Nurbjg3"
      },
      "source": [
        "# Multiplicacion de matrices\n",
        "\n",
        "Sean $A$ y $B$ dos matrices de tamaño $n\\times n$. Ahora dividimos las matrices en submatrices $A_{i,j}$ y $B_{i,j}$ de tamaño $n/2 \\times n/2$ \n",
        "$$\t\n",
        "A = \\begin{pmatrix}\n",
        "    A_{1,1} & A_{1,2} \\\\\n",
        "    A_{2,1} & A_{2,2} \\\\\n",
        "    \\end{pmatrix}\n",
        "$$\n",
        "\n",
        "$$\n",
        "B = \\begin{pmatrix}\n",
        "\tB_{1,1} & B_{1,2} \\\\\n",
        "\tB_{2,1} & B_{2,2} \\\\\n",
        "\t\\end{pmatrix}\n",
        "$$\n",
        "    \n",
        "La multiplicaci\\'on de las dos matrices puede ser resuelto como:\n",
        "\n",
        "$$\n",
        "A  \\times B = \\begin{pmatrix}\n",
        "\tC_{1,1} & C_{1,2} \\\\\n",
        "\tC_{2,1} & C_{2,2} \\\\\n",
        "\t\\end{pmatrix}\n",
        "$$\n",
        "\n",
        "$$\n",
        "A =\\begin{pmatrix}\n",
        "\tA_{1,1} & A_{1,2} \\\\\n",
        "\tA_{2,1} & A_{2,2} \\\\\n",
        "\t\\end{pmatrix} \\times \\begin{pmatrix}\n",
        "\tB_{1,1} & B_{1,2} \\\\\n",
        "\tB_{2,1} & B_{2,2} \\\\\n",
        "\\end{pmatrix}\n",
        "$$\n",
        "\n",
        "$$\n",
        "C_{i,j}= \\sum_{k=1}^n A_{i,k} \\times B_{k,j}\n",
        "$$\n"
      ]
    },
    {
      "cell_type": "code",
      "execution_count": 10,
      "metadata": {
        "id": "6fslGri3bjg4"
      },
      "outputs": [],
      "source": [
        "import numpy as np \n",
        "\n",
        "def get_matrix_dimensions(A):\n",
        "  return np.shape(A)\n",
        "\n",
        "def default_matrix_multiplication(A, B):\n",
        "    if get_matrix_dimensions(A) != get_matrix_dimensions(B):\n",
        "        raise Exception(f'Both matrices are not the same dimension!')\n",
        "    n = A.shape[0]\n",
        "    C = [[0 for i in np.arange(n)] for j in np.arange(n)]\n",
        "    for i in np.arange(n):\n",
        "        for j in np.arange(n):\n",
        "            for k in np.arange(n):\n",
        "                C[i][j] += A[i,k] * B[k,j]\n",
        "    return np.matrix(C)"
      ]
    },
    {
      "cell_type": "code",
      "source": [
        "A=np.random.random((128,128))\n",
        "B=np.random.random((128,128))\n"
      ],
      "metadata": {
        "id": "cLRhM0oo7PKb"
      },
      "execution_count": 15,
      "outputs": []
    },
    {
      "cell_type": "code",
      "source": [
        "%time C=np.matmul(A,B)"
      ],
      "metadata": {
        "id": "t6gfGIxf7qVN",
        "outputId": "70faadc0-b4af-46aa-c20f-bb7caa9f6c2a",
        "colab": {
          "base_uri": "https://localhost:8080/"
        }
      },
      "execution_count": 16,
      "outputs": [
        {
          "output_type": "stream",
          "name": "stdout",
          "text": [
            "CPU times: user 2.61 ms, sys: 2.03 ms, total: 4.65 ms\n",
            "Wall time: 7.44 ms\n"
          ]
        }
      ]
    },
    {
      "cell_type": "code",
      "source": [
        "%time C=default_matrix_multiplication(A,B)"
      ],
      "metadata": {
        "id": "f9mMX6jl8B3O",
        "outputId": "b2df1b35-e781-4d32-a568-8d7321cc0ea6",
        "colab": {
          "base_uri": "https://localhost:8080/"
        }
      },
      "execution_count": 17,
      "outputs": [
        {
          "output_type": "stream",
          "name": "stdout",
          "text": [
            "CPU times: user 1.88 s, sys: 64 ms, total: 1.94 s\n",
            "Wall time: 1.79 s\n"
          ]
        }
      ]
    },
    {
      "cell_type": "markdown",
      "metadata": {
        "id": "cwuWrqN9bjg-"
      },
      "source": [
        "# Algoritmo Strassen\n",
        "\n",
        "El algoritmo Strassen es un metodo del tipo Divide y Vencer\\'as para resolver el problema de la multiplicacion de matrices cuadradas. El algoritmo Strassen calcula las siguientes operaciones:\n",
        "\n",
        "$$\n",
        "p_1 = (a_{11}) \\times (b_{12} - b_{22})\\\\\n",
        "p_2 = (a_{11} + a_{12}) \\times (b_{22})\\\\\n",
        "p_3 = (a_{21} + a_{22}) \\times (b_{11})\\\\         \n",
        "p_4 = (a_{22}) \\times (b_{21} - b_{11})\\\\         \n",
        "p_5 = (a{11} + a_{22}) \\times (b_{11} + b_{22})\\\\         \n",
        "p_6 = (a_{12} - a_{22}) \\times  (b_{21} + b_{22})\\\\   \n",
        "p_7 = (a{11} - a_{21}) \\times (b_{11} + b_{12})\n",
        "$$"
      ]
    },
    {
      "cell_type": "markdown",
      "metadata": {
        "id": "8iVIFi5pbjg_"
      },
      "source": [
        "$$\n",
        "C_{1,1}=p_5+p_4 - p_2 +p_6\\\\\n",
        "C_{1,2}=p_1 + p_2\\\\\n",
        "C_{2,1}=p_3 + p_4\\\\\n",
        "C_{2,2}=p_1 + p_5 - p_3 +p_7\n",
        "$$"
      ]
    },
    {
      "cell_type": "markdown",
      "metadata": {
        "id": "N655Rtw3bjhA"
      },
      "source": [
        "El siguiente codigo implementa una version recursiva del algoritmo Strassen:"
      ]
    },
    {
      "cell_type": "code",
      "execution_count": null,
      "metadata": {
        "id": "HR2rBTeBbjhA"
      },
      "outputs": [],
      "source": [
        "def split_matrix(A):\n",
        "    if A.shape[0] % 2 != 0 or A.shape[1] % 2 != 0:\n",
        "        raise Exception('Odd matrices are not supported!')\n",
        "    matrix_length = A.shape[0]\n",
        "    mid = matrix_length // 2\n",
        "    a11 = A[:mid,:mid]\n",
        "    a21 = A[mid:,:mid]\n",
        "    a22 = A[mid:,mid:]\n",
        "    a12 = A[:mid,mid:]\n",
        "    \n",
        "    return a11, a12, a21, a22\n",
        "\n",
        "def get_matrix_dimensions(matrix):\n",
        "    return matrix.shape\n",
        "\n",
        "def strassen(A,B,base_case=2): \n",
        "    # Base case when size of matrices is 1x1 \n",
        "    if get_matrix_dimensions(A) != get_matrix_dimensions(B):\n",
        "        raise Exception(f'Both matrices are not the same dimension!')\n",
        "    if get_matrix_dimensions(A) == (base_case, base_case):\n",
        "        return default_matrix_multiplication(A, B)\n",
        "\n",
        "    a11, a12, a21, a22 = split_matrix(A) \n",
        "    b11, b12, b21, b22 = split_matrix(B) \n",
        "  \n",
        "    p1 = strassen(a11, b12 - b22)   \n",
        "    p2 = strassen(a11 + a12, b22)         \n",
        "    p3 = strassen(a21 + a22, b11)         \n",
        "    p4 = strassen(a22, b21 - b11)         \n",
        "    p5 = strassen(a11 + a22, b11 + b22)         \n",
        "    p6 = strassen(a12 - a22, b21 + b22)   \n",
        "    p7 = strassen(a11 - a21, b11 + b12)   \n",
        "  \n",
        "    c11 = p5 + p4 - p2 + p6   \n",
        "    c12 = p1 + p2            \n",
        "    c21 = p3 + p4             \n",
        "    c22 = p1 + p5 - p3 - p7   \n",
        "  \n",
        "    C = np.vstack((np.hstack((c11, c12)), np.hstack((c21, c22))))  \n",
        "    return C "
      ]
    },
    {
      "cell_type": "markdown",
      "metadata": {
        "id": "CzFuF7YvbjhE"
      },
      "source": [
        "Los resultados de la implementacion iterativa y la version recursiva de los algoritmos de multiplicacion de matrices pueden ser comparados con los resutados de Numpy."
      ]
    },
    {
      "cell_type": "code",
      "execution_count": null,
      "metadata": {
        "id": "Uvy8UoOUbjhF"
      },
      "outputs": [],
      "source": [
        "def compare_results(C,A,B,decimals=2):\n",
        "    return np.array_equal(np.around(np.matmul(A,B), decimals=decimals),\n",
        "                          np.around(C,decimals=decimals))"
      ]
    },
    {
      "cell_type": "code",
      "execution_count": null,
      "metadata": {
        "id": "1Js278-56JvB"
      },
      "outputs": [],
      "source": [
        "def recursive_matrix_multiplication(A,B,base_case=2): \n",
        "    # Base case when size of matrices is 1x1 \n",
        "    if get_matrix_dimensions(A) != get_matrix_dimensions(B):\n",
        "        raise Exception(f'Both matrices are not the same dimension!')\n",
        "    if get_matrix_dimensions(A) == (base_case, base_case):\n",
        "        return default_matrix_multiplication(A, B)\n",
        "\n",
        "    a11, a12, a21, a22 = split_matrix(A) \n",
        "    b11, b12, b21, b22 = split_matrix(B)   \n",
        "  \n",
        "    c11 = recursive_matrix_multiplication(a11,b11)+recursive_matrix_multiplication(a12,b21)  \n",
        "    c12 = recursive_matrix_multiplication(a11,b12)+recursive_matrix_multiplication(a12,b22)            \n",
        "    c21 = recursive_matrix_multiplication(a21,b11)+recursive_matrix_multiplication(a22,b21)            \n",
        "    c22 = recursive_matrix_multiplication(a21,b12)+recursive_matrix_multiplication(a22,b22)  \n",
        "  \n",
        "    C = np.vstack((np.hstack((c11, c12)), np.hstack((c21, c22))))  \n",
        "    return C "
      ]
    },
    {
      "cell_type": "code",
      "execution_count": null,
      "metadata": {
        "id": "1xk9gBrnSAck"
      },
      "outputs": [],
      "source": [
        "import multiprocessing\n",
        "\n",
        "def parallel_strassen(A,B,base_case=2): \n",
        "    # Base case when size of matrices is 1x1 \n",
        "    if get_matrix_dimensions(A) != get_matrix_dimensions(B):\n",
        "        raise Exception(f'Both matrices are not the same dimension!')\n",
        "    if get_matrix_dimensions(A) == (base_case, base_case):\n",
        "        return default_matrix_multiplication(A, B)\n",
        "\n",
        "    a11, a12, a21, a22 = split_matrix(A) \n",
        "    b11, b12, b21, b22 = split_matrix(B) \n",
        "  \n",
        "    b1 =(a11, b12 - b22)   \n",
        "    b2 =(a11 + a12, b22)         \n",
        "    b3 = (a21 + a22, b11)         \n",
        "    b4 = (a22, b21 - b11)         \n",
        "    b5 = (a11 + a22, b11 + b22)         \n",
        "    b6 = (a12 - a22, b21 + b22)  \n",
        "    b7 = (a11 - a21, b11 + b12)\n",
        "    blocks=[b1,b2,b3,b4,b5,b6,b7] \n",
        "    pool = multiprocessing.Pool(processes=7)\n",
        "    pool_outputs = pool.starmap(strassen, blocks)\n",
        "    pool.close()\n",
        "    pool.join()  \n",
        "    c11 = pool_outputs[4] + pool_outputs[3] - pool_outputs[1] + pool_outputs[5]   \n",
        "    c12 = pool_outputs[0] + pool_outputs[1]            \n",
        "    c21 = pool_outputs[2] + pool_outputs[3]             \n",
        "    c22 = pool_outputs[0] + pool_outputs[4] - pool_outputs[2] - pool_outputs[6]   \n",
        "    C = np.vstack((np.hstack((c11, c12)), np.hstack((c21, c22))))  \n",
        "    return C "
      ]
    },
    {
      "cell_type": "code",
      "execution_count": null,
      "metadata": {
        "colab": {
          "base_uri": "https://localhost:8080/",
          "height": 89
        },
        "id": "3oFWgKtb7J60",
        "outputId": "e454fc58-4a34-463e-9b65-e05b56fe5110"
      },
      "outputs": [
        {
          "name": "stdout",
          "output_type": "stream",
          "text": [
            "Resultado correcto iterativo : True, Tiempo :13.93[s]\n",
            "Resultado correcto strassen : True, Tiempo :22.19[s]\n",
            "Resultado correcto recursivo : True, Tiempo :45.34[s]\n"
          ]
        }
      ],
      "source": [
        "n = 256\n",
        "A = np.matrix(np.random.uniform(0.0, 1.0, n*n).reshape(n,n))\n",
        "B = np.matrix(np.random.uniform(0.0, 1.0, n*n).reshape(n,n))\n",
        "\n",
        "import time \n",
        "\n",
        "t1=time.time()\n",
        "C=default_matrix_multiplication(A,B)\n",
        "print('Resultado correcto iterativo : {0}, Tiempo :{1:0.2f}[s]'.format(compare_results(C,A,B,2),time.time()-t1))\n",
        "\n",
        "t2=time.time()\n",
        "C2=strassen(A,B)\n",
        "print('Resultado correcto strassen : {0}, Tiempo :{1:0.2f}[s]'.format(compare_results(C2,A,B,2),time.time()-t2))\n",
        "\n",
        "t3=time.time()\n",
        "C3=recursive_matrix_multiplication(A,B)\n",
        "print('Resultado correcto recursivo : {0}, Tiempo :{1:0.2f}[s]'.format(compare_results(C3,A,B,2),time.time()-t3))\n",
        "\n",
        "t4=time.time()\n",
        "C4=parallel_strassen(A,B,base_case=2)\n",
        "print('Resultado correcto strassen paralelo : {0}, Tiempo :{1:0.2f}[s]'.format(compare_results(C4,A,B,2),time.time()-t4))"
      ]
    },
    {
      "cell_type": "code",
      "execution_count": null,
      "metadata": {
        "colab": {
          "base_uri": "https://localhost:8080/",
          "height": 1000
        },
        "id": "kkN4is0w7feO",
        "outputId": "cdff2797-b29a-42fb-c0e0-87faf43e9692"
      },
      "outputs": [
        {
          "name": "stderr",
          "output_type": "stream",
          "text": [
            "\n",
            "\n",
            "  0%|          | 0/3 [00:00<?, ?it/s]\u001b[A\u001b[A\n",
            "\n",
            "\n",
            "  0%|          | 0/10 [00:00<?, ?it/s]\u001b[A\u001b[A\u001b[A"
          ]
        },
        {
          "name": "stdout",
          "output_type": "stream",
          "text": [
            "Matrix Size : 32x32\n"
          ]
        },
        {
          "name": "stderr",
          "output_type": "stream",
          "text": [
            "\n",
            "\n",
            "\n",
            " 10%|█         | 1/10 [00:00<00:04,  2.00it/s]\u001b[A\u001b[A\u001b[A\n",
            "\n",
            "\n",
            " 20%|██        | 2/10 [00:00<00:03,  2.03it/s]\u001b[A\u001b[A\u001b[A\n",
            "\n",
            "\n",
            " 30%|███       | 3/10 [00:01<00:03,  1.99it/s]\u001b[A\u001b[A\u001b[A\n",
            "\n",
            "\n",
            " 40%|████      | 4/10 [00:01<00:02,  2.03it/s]\u001b[A\u001b[A\u001b[A\n",
            "\n",
            "\n",
            " 50%|█████     | 5/10 [00:02<00:02,  2.01it/s]\u001b[A\u001b[A\u001b[A\n",
            "\n",
            "\n",
            " 60%|██████    | 6/10 [00:02<00:01,  2.03it/s]\u001b[A\u001b[A\u001b[A\n",
            "\n",
            "\n",
            " 70%|███████   | 7/10 [00:03<00:01,  2.08it/s]\u001b[A\u001b[A\u001b[A\n",
            "\n",
            "\n",
            " 80%|████████  | 8/10 [00:03<00:00,  2.01it/s]\u001b[A\u001b[A\u001b[A\n",
            "\n",
            "\n",
            " 90%|█████████ | 9/10 [00:04<00:00,  2.04it/s]\u001b[A\u001b[A\u001b[A\n",
            "\n",
            "\n",
            "100%|██████████| 10/10 [00:04<00:00,  2.01it/s]\n",
            "\n",
            "\n",
            " 33%|███▎      | 1/3 [00:04<00:09,  4.97s/it]\u001b[A\u001b[A\n",
            "\n",
            "\n",
            "  0%|          | 0/10 [00:00<?, ?it/s]\u001b[A\u001b[A\u001b[A"
          ]
        },
        {
          "name": "stdout",
          "output_type": "stream",
          "text": [
            "Matrix Size : 64x64\n"
          ]
        },
        {
          "name": "stderr",
          "output_type": "stream",
          "text": [
            "\n",
            "\n",
            "\n",
            " 10%|█         | 1/10 [00:03<00:33,  3.75s/it]\u001b[A\u001b[A\u001b[A\n",
            "\n",
            "\n",
            " 20%|██        | 2/10 [00:07<00:29,  3.72s/it]\u001b[A\u001b[A\u001b[A\n",
            "\n",
            "\n",
            " 30%|███       | 3/10 [00:10<00:25,  3.63s/it]\u001b[A\u001b[A\u001b[A\n",
            "\n",
            "\n",
            " 40%|████      | 4/10 [00:14<00:21,  3.58s/it]\u001b[A\u001b[A\u001b[A\n",
            "\n",
            "\n",
            " 50%|█████     | 5/10 [00:17<00:17,  3.57s/it]\u001b[A\u001b[A\u001b[A\n",
            "\n",
            "\n",
            " 60%|██████    | 6/10 [00:21<00:14,  3.56s/it]\u001b[A\u001b[A\u001b[A\n",
            "\n",
            "\n",
            " 70%|███████   | 7/10 [00:25<00:10,  3.59s/it]\u001b[A\u001b[A\u001b[A\n",
            "\n",
            "\n",
            " 80%|████████  | 8/10 [00:28<00:07,  3.56s/it]\u001b[A\u001b[A\u001b[A\n",
            "\n",
            "\n",
            " 90%|█████████ | 9/10 [00:31<00:03,  3.53s/it]\u001b[A\u001b[A\u001b[A\n",
            "\n",
            "\n",
            "100%|██████████| 10/10 [00:35<00:00,  3.55s/it]\n",
            "\n",
            "\n",
            " 67%|██████▋   | 2/3 [00:40<00:14, 14.13s/it]\u001b[A\u001b[A\n",
            "\n",
            "\n",
            "  0%|          | 0/10 [00:00<?, ?it/s]\u001b[A\u001b[A\u001b[A"
          ]
        },
        {
          "name": "stdout",
          "output_type": "stream",
          "text": [
            "Matrix Size : 128x128\n"
          ]
        },
        {
          "name": "stderr",
          "output_type": "stream",
          "text": [
            "\n",
            "\n",
            "\n",
            " 10%|█         | 1/10 [00:26<03:55, 26.17s/it]\u001b[A\u001b[A\u001b[A\n",
            "\n",
            "\n",
            " 20%|██        | 2/10 [00:52<03:29, 26.19s/it]\u001b[A\u001b[A\u001b[A\n",
            "\n",
            "\n",
            " 30%|███       | 3/10 [01:18<03:02, 26.13s/it]\u001b[A\u001b[A\u001b[A\n",
            "\n",
            "\n",
            " 40%|████      | 4/10 [01:45<02:37, 26.30s/it]\u001b[A\u001b[A\u001b[A\n",
            "\n",
            "\n",
            " 50%|█████     | 5/10 [02:12<02:13, 26.62s/it]\u001b[A\u001b[A\u001b[A\n",
            "\n",
            "\n",
            " 60%|██████    | 6/10 [02:38<01:46, 26.52s/it]\u001b[A\u001b[A\u001b[A\n",
            "\n",
            "\n",
            " 70%|███████   | 7/10 [03:05<01:19, 26.60s/it]\u001b[A\u001b[A\u001b[A\n",
            "\n",
            "\n",
            " 80%|████████  | 8/10 [03:31<00:52, 26.41s/it]\u001b[A\u001b[A\u001b[A\n",
            "\n",
            "\n",
            " 90%|█████████ | 9/10 [03:57<00:26, 26.23s/it]\u001b[A\u001b[A\u001b[A\n",
            "\n",
            "\n",
            "100%|██████████| 10/10 [04:23<00:00, 26.34s/it]\n",
            "\n",
            "\n",
            "100%|██████████| 3/3 [05:03<00:00, 101.28s/it]\n"
          ]
        }
      ],
      "source": [
        "import time\n",
        "from tqdm import tqdm\n",
        "n_dims=[32,64,128]\n",
        "samples=10\n",
        "\n",
        "iterative_time={n:list() for n in n_dims}\n",
        "strassen_time={n:list()for n in n_dims}\n",
        "recursive_time={n:list()for n in n_dims}\n",
        "\n",
        "for n in tqdm(n_dims):\n",
        "  print('Matrix Size : {0}x{0}'.format(n))\n",
        "  for s in tqdm(range(samples)):\n",
        "    A = np.matrix(np.random.uniform(0.0, 1.0, n*n).reshape(n,n))\n",
        "    B = np.matrix(np.random.uniform(0.0, 1.0, n*n).reshape(n,n))\n",
        "    t1=time.time()\n",
        "    C1=default_matrix_multiplication(A,B)\n",
        "    iterative_time[n].append(time.time()-t1)\n",
        "    t2=time.time()\n",
        "    C2=strassen(A,B)\n",
        "    strassen_time[n].append(time.time()-t2)\n",
        "    t3=time.time()\n",
        "    C3=recursive_matrix_multiplication(A,B)\n",
        "    recursive_time[n].append(time.time()-t3)"
      ]
    },
    {
      "cell_type": "code",
      "execution_count": null,
      "metadata": {
        "id": "Lqc6l8zQ78z4"
      },
      "outputs": [],
      "source": [
        "df_strassen=pd.DataFrame(strassen_time)\n",
        "df_iterative=pd.DataFrame(iterative_time)\n",
        "df_recursive=pd.DataFrame(recursive_time)\n",
        "df_strassen['method']='strassen'\n",
        "df_iterative['method']='iterative'\n",
        "df_recursive['method']='recursive'\n",
        "df_results=pd.concat([df_strassen,df_iterative,df_recursive],axis=0)\n",
        "df=pd.melt(df_results, id_vars=['method'], value_vars=n_dims)\n",
        "df['method']=df['method'].astype('category')\n",
        "df['variable']=df['variable'].astype('int')"
      ]
    },
    {
      "cell_type": "code",
      "execution_count": null,
      "metadata": {
        "colab": {
          "base_uri": "https://localhost:8080/",
          "height": 365
        },
        "id": "0orazyf18uU6",
        "outputId": "9a87a8f2-17d7-46a7-a161-1bc33996a087"
      },
      "outputs": [
        {
          "data": {
            "image/png": "[encoded data removed]",
            "text/plain": [
              "<Figure size 450.725x360 with 1 Axes>"
            ]
          },
          "metadata": {
            "tags": []
          },
          "output_type": "display_data"
        }
      ],
      "source": [
        "import warnings\n",
        "warnings.filterwarnings(\"ignore\")\n",
        "import seaborn as sns\n",
        "import matplotlib.pyplot as plt\n",
        "sns.set(style=\"whitegrid\")\n",
        "\n",
        "sns.lmplot(x=\"variable\", y=\"value\", hue=\"method\",order=3, data=df)\n",
        "plt.show()"
      ]
    },
    {
      "cell_type": "code",
      "execution_count": null,
      "metadata": {
        "colab": {
          "base_uri": "https://localhost:8080/",
          "height": 171
        },
        "id": "N2s31HuPAawu",
        "outputId": "84e6bc44-7449-4114-c426-8acb736f7b84"
      },
      "outputs": [
        {
          "data": {
            "text/html": [
              "<div>\n",
              "<style scoped>\n",
              "    .dataframe tbody tr th:only-of-type {\n",
              "        vertical-align: middle;\n",
              "    }\n",
              "\n",
              "    .dataframe tbody tr th {\n",
              "        vertical-align: top;\n",
              "    }\n",
              "\n",
              "    .dataframe thead th {\n",
              "        text-align: right;\n",
              "    }\n",
              "</style>\n",
              "<table border=\"1\" class=\"dataframe\">\n",
              "  <thead>\n",
              "    <tr style=\"text-align: right;\">\n",
              "      <th></th>\n",
              "      <th>32</th>\n",
              "      <th>64</th>\n",
              "      <th>128</th>\n",
              "    </tr>\n",
              "    <tr>\n",
              "      <th>method</th>\n",
              "      <th></th>\n",
              "      <th></th>\n",
              "      <th></th>\n",
              "    </tr>\n",
              "  </thead>\n",
              "  <tbody>\n",
              "    <tr>\n",
              "      <th>iterative</th>\n",
              "      <td>0.091748</td>\n",
              "      <td>0.611627</td>\n",
              "      <td>4.130548</td>\n",
              "    </tr>\n",
              "    <tr>\n",
              "      <th>recursive</th>\n",
              "      <td>0.228908</td>\n",
              "      <td>1.765066</td>\n",
              "      <td>14.187838</td>\n",
              "    </tr>\n",
              "    <tr>\n",
              "      <th>strassen</th>\n",
              "      <td>0.169709</td>\n",
              "      <td>1.137683</td>\n",
              "      <td>7.861472</td>\n",
              "    </tr>\n",
              "  </tbody>\n",
              "</table>\n",
              "</div>"
            ],
            "text/plain": [
              "                32        64         128\n",
              "method                                  \n",
              "iterative  0.091748  0.611627   4.130548\n",
              "recursive  0.228908  1.765066  14.187838\n",
              "strassen   0.169709  1.137683   7.861472"
            ]
          },
          "execution_count": 73,
          "metadata": {
            "tags": []
          },
          "output_type": "execute_result"
        }
      ],
      "source": [
        "df_results.groupby('method').median()"
      ]
    }
  ],
  "metadata": {
    "colab": {
      "name": "4.-algoritmo_strassen.ipynb",
      "provenance": []
    },
    "kernelspec": {
      "display_name": "Python 3",
      "language": "python",
      "name": "python3"
    },
    "language_info": {
      "codemirror_mode": {
        "name": "ipython",
        "version": 3
      },
      "file_extension": ".py",
      "mimetype": "text/x-python",
      "name": "python",
      "nbconvert_exporter": "python",
      "pygments_lexer": "ipython3",
      "version": "3.8.6"
    }
  },
  "nbformat": 4,
  "nbformat_minor": 0
}