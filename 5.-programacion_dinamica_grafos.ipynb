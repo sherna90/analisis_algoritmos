{
  "cells": [
    {
      "attachments": {},
      "cell_type": "markdown",
      "metadata": {
        "id": "4CwHTitPo3-r"
      },
      "source": [
        "# Programacion Dinamica Grafos\n",
        "\n"
      ]
    },
    {
      "cell_type": "code",
      "execution_count": 4,
      "metadata": {
        "id": "wiSRWTvLo3-s"
      },
      "outputs": [],
      "source": [
        "import numpy as np \n",
        "\n",
        "class abstract_graph:\n",
        "    \n",
        "    def __init__(self,_edges):\n",
        "        self.edges=_edges\n",
        "        self.nodes={u for u,v in self.edges} | {v for u,v in self.edges}\n",
        "        \n",
        "    def adjacency_matrix(self):\n",
        "        pass\n",
        "    \n",
        "    def adjacency_list(self):\n",
        "        pass\n",
        "\n",
        "    \n",
        "class simple_graph(abstract_graph):\n",
        "    \n",
        "    def __init__(self,_edges):\n",
        "        tmp=[]\n",
        "        for (u,v) in _edges:\n",
        "            tmp.append((u,v))\n",
        "            if (v,u) not in tmp and v!=u:\n",
        "                tmp.append((v,u))\n",
        "        self.edges=tmp\n",
        "        self.nodes={u for u,v in _edges} | {v for u,v in _edges}\n",
        "     \n",
        "    def adjacency_matrix(self):\n",
        "        # completar\n",
        "        n=len(self.nodes)\n",
        "        mat=np.zeros((n,n))\n",
        "        for i,v in enumerate(self.nodes):\n",
        "            for j,k in enumerate(self.nodes):\n",
        "                if (v,k) in self.edges:\n",
        "                    mat.at[i,j]=1.0\n",
        "        return mat\n",
        "    \n",
        "    \n",
        "    def adjacency_list(self):\n",
        "        adjacent=lambda n : {v for u,v in self.edges if u==n } \n",
        "        return {v:adjacent(v) for v in self.nodes}\n",
        "\n",
        "  \n",
        "class weighted_graph(simple_graph):\n",
        "    \n",
        "    def __init__(self,_edges):\n",
        "        tmp=dict()\n",
        "        for (u,v),w in _edges.items():\n",
        "            tmp.update({(u,v):w})\n",
        "            if (v,u) not in tmp.keys() and v!=u:\n",
        "                tmp.update({(v,u):w})\n",
        "        self.edges=tmp\n",
        "        self.nodes={u for u,v in _edges} | {v for u,v in _edges}\n",
        "\n",
        "    def adjacency_matrix(self):\n",
        "        # completar\n",
        "        n=len(self.nodes)\n",
        "        mat=np.zeros((n,n))\n",
        "        for i,v in enumerate(self.nodes):\n",
        "            for j,k in enumerate(self.nodes):\n",
        "                if (v,k) in self.edges:\n",
        "                    mat.at[i,j]=self.edges[(v,k)]\n",
        "        return mat"
      ]
    },
    {
      "cell_type": "code",
      "execution_count": 6,
      "metadata": {
        "id": "7qegarACo3-t"
      },
      "outputs": [],
      "source": [
        "from heapq import heappush,heappop\n",
        "import numpy as np\n",
        "\n",
        "def dijkstra(G,start):\n",
        "    if start not in G.nodes:\n",
        "        return None\n",
        "    neighbors=G.adjacency_list()\n",
        "    path={}    \n",
        "    path.update({start:None})\n",
        "    distance={v:float('inf') for v in G.nodes}\n",
        "    distance.update({start:0})\n",
        "    frontier=[]\n",
        "    heappush(frontier,(0,start))\n",
        "    while frontier:\n",
        "        dist_u,u=heappop(frontier)\n",
        "        for v in neighbors[u]:\n",
        "            dist_v=dist_u+G.edges[(u,v)]\n",
        "            if dist_v<distance[v]:\n",
        "                path.update({v:u})\n",
        "                distance.update({v:dist_v})\n",
        "                heappush(frontier,(dist_v,v))\n",
        "    return path,distance\n",
        "\n",
        "def bellman_ford(G,start):\n",
        "    if start not in G.nodes:\n",
        "        return None\n",
        "    neighbors=G.adjacency_list()\n",
        "    path={}    \n",
        "    path.update({start:None})\n",
        "    distance={v:float('inf') for v in G.nodes}\n",
        "    distance.update({start:0})\n",
        "    for i in range(len(G.nodes)-1):\n",
        "        for (u,v) in G.edges.keys():\n",
        "            dist_v=distance[u]+G.edges[(u,v)]\n",
        "            if dist_v<distance[v]:\n",
        "                path.update({v:u})\n",
        "                distance.update({v:dist_v})\n",
        "    return path,distance\n",
        "\n",
        "def shortest_path(parent,end):\n",
        "    path=[end]\n",
        "    k=end\n",
        "    while k is not None:\n",
        "        path.append(parent[k])\n",
        "        k=parent[k]\n",
        "    return path[:-1][::-1]"
      ]
    },
    {
      "cell_type": "code",
      "execution_count": 16,
      "metadata": {
        "id": "RkiEL9qao3-u"
      },
      "outputs": [],
      "source": [
        "import networkx as nx\n",
        "\n",
        "def gen_random_graph(n,p):\n",
        "    not_connected=True\n",
        "    while not_connected:\n",
        "        G_nx = nx.erdos_renyi_graph(int(n),p,directed=False)\n",
        "        not_connected=nx.is_connected(G_nx)\n",
        "        weights={edge:np.random.randint(1,10) for edge in G_nx.edges}\n",
        "        nx.set_edge_attributes(G_nx, values = weights, name = 'weight')\n",
        "        break\n",
        "    return G_nx\n",
        "# cantidad de vértices\n",
        "n=10\n",
        "# 1- probabilidad de crear aristas\n",
        "p=0.5\n",
        "\n",
        "G_nx=gen_random_graph(n,p)\n",
        "E={(u,v):k['weight'] for (u,v,k) in G_nx.edges(data=True)}\n",
        "G=weighted_graph(E)\n",
        "# chequear que el grafo sea conexo y que el vértice inicial exista!"
      ]
    },
    {
      "cell_type": "code",
      "execution_count": 17,
      "metadata": {
        "colab": {
          "base_uri": "https://localhost:8080/",
          "height": 319
        },
        "id": "_Eu1anz-o3-u",
        "outputId": "e110011e-fdb1-47c3-9cbd-2574642a3c7a"
      },
      "outputs": [
        {
          "data": {
            "image/png": "[encoded data removed]",
            "text/plain": [
              "<Figure size 432x288 with 1 Axes>"
            ]
          },
          "metadata": {},
          "output_type": "display_data"
        }
      ],
      "source": [
        "import networkx as nx\n",
        "import matplotlib.pyplot as plt\n",
        "\n",
        "pos = nx.circular_layout(G_nx)  # positions for all nodes\n",
        "nx.draw(G_nx,with_labels=True,pos=pos)\n",
        "labels = nx.get_edge_attributes(G_nx,'weight')\n",
        "nx.draw_networkx_edge_labels(G_nx,pos,edge_labels=labels)\n",
        "\n",
        "plt.show()"
      ]
    },
    {
      "cell_type": "code",
      "execution_count": 18,
      "metadata": {
        "colab": {
          "base_uri": "https://localhost:8080/"
        },
        "id": "oAmjxynao3-v",
        "outputId": "7a220f2c-6eb4-445f-c112-d3e1e4e1d18a"
      },
      "outputs": [
        {
          "data": {
            "text/plain": [
              "{0: 0, 1: 5, 2: 8, 3: 4, 4: 1, 5: 5, 6: 3, 7: 4, 8: 5, 9: 4}"
            ]
          },
          "execution_count": 18,
          "metadata": {},
          "output_type": "execute_result"
        }
      ],
      "source": [
        "start=0\n",
        "path,distance=dijkstra(G,start)\n",
        "distance"
      ]
    },
    {
      "cell_type": "code",
      "execution_count": 19,
      "metadata": {
        "colab": {
          "base_uri": "https://localhost:8080/"
        },
        "id": "mCArBN8Ho3-v",
        "outputId": "9c2ebfce-ec77-420a-b1d1-67fa70011ada"
      },
      "outputs": [
        {
          "data": {
            "text/plain": [
              "{0: 0, 1: 5, 2: 8, 3: 4, 4: 1, 5: 5, 6: 3, 7: 4, 8: 5, 9: 4}"
            ]
          },
          "execution_count": 19,
          "metadata": {},
          "output_type": "execute_result"
        }
      ],
      "source": [
        "path,distance=bellman_ford(G,start)\n",
        "distance"
      ]
    },
    {
      "cell_type": "code",
      "execution_count": 20,
      "metadata": {
        "colab": {
          "base_uri": "https://localhost:8080/"
        },
        "id": "4jH3adpso3-v",
        "outputId": "a1ed1613-81eb-45b7-ccd5-66ca795178ff"
      },
      "outputs": [
        {
          "data": {
            "text/plain": [
              "{0: 0, 4: 1, 6: 3, 3: 4, 7: 4, 9: 4, 8: 5, 5: 5, 1: 5, 2: 8}"
            ]
          },
          "execution_count": 20,
          "metadata": {},
          "output_type": "execute_result"
        }
      ],
      "source": [
        "length, path = nx.single_source_dijkstra(G_nx, 0,weight='weight')\n",
        "length"
      ]
    },
    {
      "cell_type": "code",
      "execution_count": 14,
      "metadata": {
        "colab": {
          "base_uri": "https://localhost:8080/"
        },
        "id": "gISm2gCPo3-v",
        "outputId": "e6c562d5-9f84-42c0-91e1-08f85ac41062"
      },
      "outputs": [
        {
          "name": "stdout",
          "output_type": "stream",
          "text": [
            "Dijkstra Tiempo : 0.02300\n",
            "Bellman Ford Tiempo : 0.11891\n"
          ]
        }
      ],
      "source": [
        "import time\n",
        "\n",
        "n=100\n",
        "# 1- probabilidad de crear aristas\n",
        "p=0.3\n",
        "\n",
        "G_nx=gen_random_graph(n,p)\n",
        "E={(u,v):k['weight'] for (u,v,k) in G_nx.edges(data=True)}\n",
        "G=weighted_graph(E)\n",
        "\n",
        "t1=time.time()\n",
        "p,d=dijkstra(G,0)\n",
        "t2=time.time()\n",
        "print('Dijkstra Tiempo : {0:0.5f}'.format(t2-t1))\n",
        "\n",
        "t3=time.time()\n",
        "p,d=bellman_ford(G,0)\n",
        "t4=time.time()\n",
        "print('Bellman Ford Tiempo : {0:0.5f}'.format(t4-t3))"
      ]
    },
    {
      "attachments": {},
      "cell_type": "markdown",
      "metadata": {
        "id": "qokZKtgAo3-w"
      },
      "source": [
        "# Tarea\n",
        "\n",
        "En esta tarea Ud. debe comprobar las siguientes hipótesis:\n",
        "\n",
        "    1.) La complejidad del algoritmo Dijsktra depende de la cantidad de aristas del grafo.\n",
        "    2.) El peor caso del algoritmo Bellman-Ford se produce cuando el grafo es denso (gran cantidad de aristas).\n",
        "    3.) Cuando se requiere calcular las distancias más cortas entre todos los vértices del grafo, independiente de la cantidad de vértices el algoritmo Floyd-Warshall mejora el tiempo de ejecución de la fuerza bruta."
      ]
    }
  ],
  "metadata": {
    "colab": {
      "name": "5.-programacion_dinamica_grafos.ipynb",
      "provenance": []
    },
    "kernelspec": {
      "display_name": "Python 3",
      "language": "python",
      "name": "python3"
    },
    "language_info": {
      "codemirror_mode": {
        "name": "ipython",
        "version": 3
      },
      "file_extension": ".py",
      "mimetype": "text/x-python",
      "name": "python",
      "nbconvert_exporter": "python",
      "pygments_lexer": "ipython3",
      "version": "3.10.6"
    }
  },
  "nbformat": 4,
  "nbformat_minor": 0
}
