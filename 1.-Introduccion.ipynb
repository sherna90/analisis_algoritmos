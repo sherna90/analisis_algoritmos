{
  "nbformat": 4,
  "nbformat_minor": 0,
  "metadata": {
    "colab": {
      "name": "1.-Introduccion.ipynb",
      "provenance": []
    },
    "kernelspec": {
      "display_name": "Python 3",
      "language": "python",
      "name": "python3"
    },
    "language_info": {
      "codemirror_mode": {
        "name": "ipython",
        "version": 3
      },
      "file_extension": ".py",
      "mimetype": "text/x-python",
      "name": "python",
      "nbconvert_exporter": "python",
      "pygments_lexer": "ipython3",
      "version": "3.6.9"
    }
  },
  "cells": [
    {
      "cell_type": "markdown",
      "metadata": {
        "id": "1P1Mmvjfxjt8"
      },
      "source": [
        "# Diseño y Análisis de Algoritmos INF413\n",
        "\n",
        "Los programas resuelven problemas, pero existen muchas formas de resolver un problema. Cómo saber cuándo un programa es mejor que otro?\n",
        "\n",
        "El análisis de algoritmos es la manera de determinar los requerimientos de tiempo y espacio requeridos por un programa.\n",
        "\n",
        "La notación O Grande o $\\mathcal{O}(f(n))$ se utliza para definir una cota superior del comportamiento asintótico del crecimiento del tiempo de ejecución de un programa."
      ]
    },
    {
      "cell_type": "code",
      "metadata": {
        "colab": {
          "base_uri": "https://localhost:8080/"
        },
        "id": "qi6xfBa8xjt9",
        "outputId": "4b82b101-9096-4897-daed-5203f5a55748"
      },
      "source": [
        "from platform import python_version\n",
        "\n",
        "print(python_version())\n",
        "\n",
        "import time\n",
        "\n",
        "help(time.time)"
      ],
      "execution_count": 1,
      "outputs": [
        {
          "output_type": "stream",
          "name": "stdout",
          "text": [
            "3.8.10\n",
            "Help on built-in function time in module time:\n",
            "\n",
            "time(...)\n",
            "    time() -> floating point number\n",
            "    \n",
            "    Return the current time in seconds since the Epoch.\n",
            "    Fractions of a second may be present if the system clock provides them.\n",
            "\n"
          ]
        }
      ]
    },
    {
      "cell_type": "code",
      "source": [
        "import math\n",
        "\n",
        "\n",
        "def binary_search(arr, low, high, x):\n",
        "  if high >= low:\n",
        "    mid = (high + low) // 2\n",
        "    if arr[mid] == x:\n",
        "      return mid\n",
        "    elif arr[mid] > x:\n",
        "      return binary_search(arr, low, mid - 1, x)\n",
        "    else:\n",
        "      return binary_search(arr, mid + 1, high, x)\n",
        "  else:\n",
        "    return -1\n",
        " \n",
        "def linear_search(arr,low, high,x):\n",
        "  j=len(arr)\n",
        "  for pos,a in enumerate(arr):\n",
        "    if a==x:\n",
        "      return pos\n",
        "  return -1"
      ],
      "metadata": {
        "id": "Y6MHgxHDqyd9"
      },
      "execution_count": 2,
      "outputs": []
    },
    {
      "cell_type": "code",
      "source": [
        "import numpy as np \n",
        "\n",
        "arr=sorted(np.random.randint(1e6,size=int(1e2)).tolist())"
      ],
      "metadata": {
        "id": "Lt47JZc_rrmJ"
      },
      "execution_count": 24,
      "outputs": []
    },
    {
      "cell_type": "code",
      "source": [
        "val=arr[1]"
      ],
      "metadata": {
        "id": "b5TxEq31gboE"
      },
      "execution_count": 25,
      "outputs": []
    },
    {
      "cell_type": "code",
      "source": [
        "%%time\n",
        "\n",
        "binary_search(arr,0,len(arr),val)"
      ],
      "metadata": {
        "id": "SXEzptKGuhL_",
        "outputId": "3540d632-186a-4760-ccc3-fc6a6f5417c2",
        "colab": {
          "base_uri": "https://localhost:8080/"
        }
      },
      "execution_count": 26,
      "outputs": [
        {
          "output_type": "stream",
          "name": "stdout",
          "text": [
            "CPU times: user 24 µs, sys: 3 µs, total: 27 µs\n",
            "Wall time: 31 µs\n"
          ]
        },
        {
          "output_type": "execute_result",
          "data": {
            "text/plain": [
              "1"
            ]
          },
          "metadata": {},
          "execution_count": 26
        }
      ]
    },
    {
      "cell_type": "code",
      "source": [
        "%%time\n",
        "\n",
        "linear_search(arr,0,len(arr),val)"
      ],
      "metadata": {
        "id": "GLMZPhzagUUq",
        "outputId": "78add5be-c23d-4242-a741-4a030b24be83",
        "colab": {
          "base_uri": "https://localhost:8080/"
        }
      },
      "execution_count": 27,
      "outputs": [
        {
          "output_type": "stream",
          "name": "stdout",
          "text": [
            "CPU times: user 0 ns, sys: 16 µs, total: 16 µs\n",
            "Wall time: 20 µs\n"
          ]
        },
        {
          "output_type": "execute_result",
          "data": {
            "text/plain": [
              "1"
            ]
          },
          "metadata": {},
          "execution_count": 27
        }
      ]
    },
    {
      "cell_type": "markdown",
      "metadata": {
        "id": "QYz_pC3zxjuD"
      },
      "source": [
        "# Costo Lineal\n",
        "\n",
        "El costo constante se refiere al caso cuando el algoritmo tiene costo lineal al tamaño del problema $\\mathcal{O}(n)$"
      ]
    },
    {
      "cell_type": "code",
      "metadata": {
        "id": "XIT5P2RExjuE"
      },
      "source": [
        "import time\n",
        "import numpy as np\n",
        "\n",
        "\n",
        "time_data={'method':list(),'ellapsed_time':list(),'problem_size':list()}\n",
        "problems={1e2,1e3,1e4,1e5}\n",
        "methods=['binary_search','linear_search']\n",
        "sample_size=1000\n",
        "for m in methods:\n",
        "  for p in problems:\n",
        "    for i in range(sample_size):\n",
        "      arr=sorted(np.random.randint(1e6,size=np.int64(p)).tolist())\n",
        "      pos=np.random.randint(p)\n",
        "      val=arr[pos]\n",
        "      t1=time.time()\n",
        "      eval(m)(arr,0,len(arr),val)\n",
        "      ellapsed_time=time.time()-t1\n",
        "      time_data['problem_size'].append(p)\n",
        "      time_data['method'].append(m)\n",
        "      time_data['ellapsed_time'].append(ellapsed_time)"
      ],
      "execution_count": 28,
      "outputs": []
    },
    {
      "cell_type": "code",
      "source": [
        "import pandas as pd\n",
        "\n",
        "df=pd.DataFrame(time_data,columns=time_data.keys())"
      ],
      "metadata": {
        "id": "U8xeSDK5nyuv"
      },
      "execution_count": null,
      "outputs": []
    },
    {
      "cell_type": "code",
      "source": [
        "df['problem_size']=df['problem_size'].astype('int64')"
      ],
      "metadata": {
        "id": "JYUNuQn-oDaI"
      },
      "execution_count": null,
      "outputs": []
    },
    {
      "cell_type": "code",
      "metadata": {
        "colab": {
          "base_uri": "https://localhost:8080/",
          "height": 369
        },
        "id": "7gjMmqVHyxST",
        "outputId": "5c178651-f6a8-4161-f611-cb4f73db746e"
      },
      "source": [
        "import matplotlib.pyplot as plt\n",
        "import seaborn as sns\n",
        "\n",
        "g = sns.catplot(x=\"method\", y=\"ellapsed_time\", col=\"problem_size\",data=df, saturation=.5,\n",
        "                kind=\"bar\", col_wrap=3, height=2.5, aspect=.8)"
      ],
      "execution_count": null,
      "outputs": [
        {
          "output_type": "display_data",
          "data": {
            "text/plain": [
              "<Figure size 432x360 with 4 Axes>"
            ],
            "image/png": "[encoded data removed]"
          },
          "metadata": {
            "needs_background": "light"
          }
        }
      ]
    },
    {
      "cell_type": "code",
      "source": [
        "df.groupby(['method','problem_size']).mean()"
      ],
      "metadata": {
        "id": "0N3eIk44imdm",
        "outputId": "715bf181-5e45-4e84-a047-6a2114b9f134",
        "colab": {
          "base_uri": "https://localhost:8080/",
          "height": 331
        }
      },
      "execution_count": null,
      "outputs": [
        {
          "output_type": "execute_result",
          "data": {
            "text/plain": [
              "                            ellapsed_time\n",
              "method        problem_size               \n",
              "binary_search 100                0.000014\n",
              "              1000               0.000015\n",
              "              10000              0.000030\n",
              "              100000             0.000096\n",
              "linear_search 100                0.000011\n",
              "              1000               0.000046\n",
              "              10000              0.000393\n",
              "              100000             0.007008"
            ],
            "text/html": [
              "\n",
              "  <div id=\"df-73735b0f-c0e2-4119-b7ef-92397e7bf5c0\">\n",
              "    <div class=\"colab-df-container\">\n",
              "      <div>\n",
              "<style scoped>\n",
              "    .dataframe tbody tr th:only-of-type {\n",
              "        vertical-align: middle;\n",
              "    }\n",
              "\n",
              "    .dataframe tbody tr th {\n",
              "        vertical-align: top;\n",
              "    }\n",
              "\n",
              "    .dataframe thead th {\n",
              "        text-align: right;\n",
              "    }\n",
              "</style>\n",
              "<table border=\"1\" class=\"dataframe\">\n",
              "  <thead>\n",
              "    <tr style=\"text-align: right;\">\n",
              "      <th></th>\n",
              "      <th></th>\n",
              "      <th>ellapsed_time</th>\n",
              "    </tr>\n",
              "    <tr>\n",
              "      <th>method</th>\n",
              "      <th>problem_size</th>\n",
              "      <th></th>\n",
              "    </tr>\n",
              "  </thead>\n",
              "  <tbody>\n",
              "    <tr>\n",
              "      <th rowspan=\"4\" valign=\"top\">binary_search</th>\n",
              "      <th>100</th>\n",
              "      <td>0.000014</td>\n",
              "    </tr>\n",
              "    <tr>\n",
              "      <th>1000</th>\n",
              "      <td>0.000015</td>\n",
              "    </tr>\n",
              "    <tr>\n",
              "      <th>10000</th>\n",
              "      <td>0.000030</td>\n",
              "    </tr>\n",
              "    <tr>\n",
              "      <th>100000</th>\n",
              "      <td>0.000096</td>\n",
              "    </tr>\n",
              "    <tr>\n",
              "      <th rowspan=\"4\" valign=\"top\">linear_search</th>\n",
              "      <th>100</th>\n",
              "      <td>0.000011</td>\n",
              "    </tr>\n",
              "    <tr>\n",
              "      <th>1000</th>\n",
              "      <td>0.000046</td>\n",
              "    </tr>\n",
              "    <tr>\n",
              "      <th>10000</th>\n",
              "      <td>0.000393</td>\n",
              "    </tr>\n",
              "    <tr>\n",
              "      <th>100000</th>\n",
              "      <td>0.007008</td>\n",
              "    </tr>\n",
              "  </tbody>\n",
              "</table>\n",
              "</div>\n",
              "      <button class=\"colab-df-convert\" onclick=\"convertToInteractive('df-73735b0f-c0e2-4119-b7ef-92397e7bf5c0')\"\n",
              "              title=\"Convert this dataframe to an interactive table.\"\n",
              "              style=\"display:none;\">\n",
              "        \n",
              "  <svg xmlns=\"http://www.w3.org/2000/svg\" height=\"24px\"viewBox=\"0 0 24 24\"\n",
              "       width=\"24px\">\n",
              "    <path d=\"M0 0h24v24H0V0z\" fill=\"none\"/>\n",
              "    <path d=\"M18.56 5.44l.94 2.06.94-2.06 2.06-.94-2.06-.94-.94-2.06-.94 2.06-2.06.94zm-11 1L8.5 8.5l.94-2.06 2.06-.94-2.06-.94L8.5 2.5l-.94 2.06-2.06.94zm10 10l.94 2.06.94-2.06 2.06-.94-2.06-.94-.94-2.06-.94 2.06-2.06.94z\"/><path d=\"M17.41 7.96l-1.37-1.37c-.4-.4-.92-.59-1.43-.59-.52 0-1.04.2-1.43.59L10.3 9.45l-7.72 7.72c-.78.78-.78 2.05 0 2.83L4 21.41c.39.39.9.59 1.41.59.51 0 1.02-.2 1.41-.59l7.78-7.78 2.81-2.81c.8-.78.8-2.07 0-2.86zM5.41 20L4 18.59l7.72-7.72 1.47 1.35L5.41 20z\"/>\n",
              "  </svg>\n",
              "      </button>\n",
              "      \n",
              "  <style>\n",
              "    .colab-df-container {\n",
              "      display:flex;\n",
              "      flex-wrap:wrap;\n",
              "      gap: 12px;\n",
              "    }\n",
              "\n",
              "    .colab-df-convert {\n",
              "      background-color: #E8F0FE;\n",
              "      border: none;\n",
              "      border-radius: 50%;\n",
              "      cursor: pointer;\n",
              "      display: none;\n",
              "      fill: #1967D2;\n",
              "      height: 32px;\n",
              "      padding: 0 0 0 0;\n",
              "      width: 32px;\n",
              "    }\n",
              "\n",
              "    .colab-df-convert:hover {\n",
              "      background-color: #E2EBFA;\n",
              "      box-shadow: 0px 1px 2px rgba(60, 64, 67, 0.3), 0px 1px 3px 1px rgba(60, 64, 67, 0.15);\n",
              "      fill: #174EA6;\n",
              "    }\n",
              "\n",
              "    [theme=dark] .colab-df-convert {\n",
              "      background-color: #3B4455;\n",
              "      fill: #D2E3FC;\n",
              "    }\n",
              "\n",
              "    [theme=dark] .colab-df-convert:hover {\n",
              "      background-color: #434B5C;\n",
              "      box-shadow: 0px 1px 3px 1px rgba(0, 0, 0, 0.15);\n",
              "      filter: drop-shadow(0px 1px 2px rgba(0, 0, 0, 0.3));\n",
              "      fill: #FFFFFF;\n",
              "    }\n",
              "  </style>\n",
              "\n",
              "      <script>\n",
              "        const buttonEl =\n",
              "          document.querySelector('#df-73735b0f-c0e2-4119-b7ef-92397e7bf5c0 button.colab-df-convert');\n",
              "        buttonEl.style.display =\n",
              "          google.colab.kernel.accessAllowed ? 'block' : 'none';\n",
              "\n",
              "        async function convertToInteractive(key) {\n",
              "          const element = document.querySelector('#df-73735b0f-c0e2-4119-b7ef-92397e7bf5c0');\n",
              "          const dataTable =\n",
              "            await google.colab.kernel.invokeFunction('convertToInteractive',\n",
              "                                                     [key], {});\n",
              "          if (!dataTable) return;\n",
              "\n",
              "          const docLinkHtml = 'Like what you see? Visit the ' +\n",
              "            '<a target=\"_blank\" href=https://colab.research.google.com/notebooks/data_table.ipynb>data table notebook</a>'\n",
              "            + ' to learn more about interactive tables.';\n",
              "          element.innerHTML = '';\n",
              "          dataTable['output_type'] = 'display_data';\n",
              "          await google.colab.output.renderOutput(dataTable, element);\n",
              "          const docLink = document.createElement('div');\n",
              "          docLink.innerHTML = docLinkHtml;\n",
              "          element.appendChild(docLink);\n",
              "        }\n",
              "      </script>\n",
              "    </div>\n",
              "  </div>\n",
              "  "
            ]
          },
          "metadata": {},
          "execution_count": 130
        }
      ]
    },
    {
      "cell_type": "markdown",
      "metadata": {
        "id": "axUy55HVlR2b"
      },
      "source": [
        "Primero comprobamos que para un mismo tamaño de entrada, ambos metodos entregan resultados diferentes de tiempo de ejecucion"
      ]
    },
    {
      "cell_type": "code",
      "metadata": {
        "colab": {
          "base_uri": "https://localhost:8080/"
        },
        "id": "5k3mgqgIxjuY",
        "outputId": "e662796b-48d9-4ef8-b5e5-257f8e80d04b"
      },
      "source": [
        "from scipy import stats\n",
        "\n",
        "# Student’s t-test\n",
        "# Tests whether the means of two independent samples are significantly different.\n",
        "\n",
        "for n in sorted(problems):\n",
        "    pvalue=stats.ttest_ind(df.loc[(df['method'] == 'binary_search') & (df['problem_size'] ==n)]['ellapsed_time'],\n",
        "                           df.loc[(df['method'] == 'linear_search') & (df['problem_size'] ==n)]['ellapsed_time'])[1]\n",
        "    print('n={0}, valor-p : {1:06.8f}'.format(n,pvalue))\n",
        "    if pvalue > 0.05:\n",
        "        print('Datos provienen de la misma distribucion')\n",
        "    else:\n",
        "        print('Datos provienen de distribuciones diferentes')\n",
        "    print('----------------------------------------')"
      ],
      "execution_count": null,
      "outputs": [
        {
          "output_type": "stream",
          "name": "stdout",
          "text": [
            "n=100.0, valor-p : 0.00000000\n",
            "Datos provienen de distribuciones diferentes\n",
            "----------------------------------------\n",
            "n=1000.0, valor-p : 0.00000000\n",
            "Datos provienen de distribuciones diferentes\n",
            "----------------------------------------\n",
            "n=10000.0, valor-p : 0.00000000\n",
            "Datos provienen de distribuciones diferentes\n",
            "----------------------------------------\n",
            "n=100000.0, valor-p : 0.00000000\n",
            "Datos provienen de distribuciones diferentes\n",
            "----------------------------------------\n"
          ]
        }
      ]
    },
    {
      "cell_type": "markdown",
      "metadata": {
        "id": "g_c0AEdUmKQu"
      },
      "source": [
        "Una consideracion importante al comparar poblaciones es el tamaño muestreal. En poblaciones pequeñas, no es posible determinar variaciones en sus medias o varianzas."
      ]
    },
    {
      "cell_type": "code",
      "metadata": {
        "colab": {
          "base_uri": "https://localhost:8080/"
        },
        "id": "MxvKouCQxjuc",
        "outputId": "6b412697-ba34-4a6d-c0c7-9ef0a3322813"
      },
      "source": [
        "from scipy.stats import ttest_ind\n",
        "import numpy as np\n",
        "\n",
        "# problema con tama~{n}os de muestra peque~{n}os!\n",
        "\n",
        "samples=5\n",
        "data1 = np.random.normal(1,1,samples)\n",
        "data2 = np.random.normal(0,1,samples)\n",
        "stat, p = ttest_ind(data1, data2)\n",
        "\n",
        "print('stat=%.3f, p=%.3f' % (stat, p))\n",
        "if p > 0.05:\n",
        "    print('Datos provienen de la misma distribucion')\n",
        "else:\n",
        "    print('Datos provienen de distribuciones diferentes')"
      ],
      "execution_count": null,
      "outputs": [
        {
          "output_type": "stream",
          "name": "stdout",
          "text": [
            "stat=0.716, p=0.495\n",
            "Datos provienen de la misma distribucion\n"
          ]
        }
      ]
    },
    {
      "cell_type": "markdown",
      "metadata": {
        "id": "q1lDQNAAdki0"
      },
      "source": [
        "# Tarea\n",
        "\n",
        "En este laboratorio Ud debe completar las siguientes tareas:\n",
        "\n",
        "    1.) Comparar dos implementaciones distintas para una funcion de costo lineal.\n",
        "    2.) Reportar los tiempos de ejecucion para distintos tamaños de problema.\n",
        "    3.) Evaluar los valores-p para cada tamaño de problema e implementación.\n",
        "\n",
        "https://stackoverflow.com/questions/20458132/recursive-cumulative-sum"
      ]
    },
    {
      "cell_type": "code",
      "metadata": {
        "id": "uxNdro3-dki0"
      },
      "source": [],
      "execution_count": null,
      "outputs": []
    }
  ]
}