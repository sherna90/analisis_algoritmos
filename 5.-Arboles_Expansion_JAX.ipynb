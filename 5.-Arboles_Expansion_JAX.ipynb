{
  "cells": [
    {
      "cell_type": "code",
      "execution_count": 1,
      "metadata": {
        "id": "tUBpdDXL82ZO",
        "outputId": "da00ae2d-7d09-4460-e171-554dae5a61fc",
        "colab": {
          "base_uri": "https://localhost:8080/"
        }
      },
      "outputs": [
        {
          "output_type": "stream",
          "name": "stdout",
          "text": [
            "793 µs ± 102 µs per loop (mean ± std. dev. of 7 runs, 1000 loops each)\n"
          ]
        }
      ],
      "source": [
        "import numpy as np\n",
        "\n",
        "size=8000\n",
        "x=np.random.normal(size=size).astype(np.float32)\n",
        "\n",
        "%timeit np.sort(x,kind='heapsort')"
      ]
    },
    {
      "cell_type": "code",
      "execution_count": 2,
      "metadata": {
        "id": "TMD_bqwk82ZQ",
        "outputId": "c60f07e4-0f9c-4c23-a55d-a32f26523a34",
        "colab": {
          "base_uri": "https://localhost:8080/"
        }
      },
      "outputs": [
        {
          "output_type": "stream",
          "name": "stderr",
          "text": [
            "/usr/local/lib/python3.10/dist-packages/jax/_src/numpy/lax_numpy.py:3570: UserWarning: 'kind' argument to sort is ignored.\n",
            "  warnings.warn(\"'kind' argument to sort is ignored.\")\n"
          ]
        },
        {
          "output_type": "stream",
          "name": "stdout",
          "text": [
            "272 µs ± 25.6 µs per loop (mean ± std. dev. of 7 runs, 1 loop each)\n"
          ]
        }
      ],
      "source": [
        "import jax \n",
        "import jax.numpy as jnp\n",
        "\n",
        "key = jax.random.PRNGKey(0)\n",
        "x = jax.random.normal(key, (size,))\n",
        "%timeit jnp.sort(x,kind='heapsort').block_until_ready()"
      ]
    },
    {
      "cell_type": "code",
      "source": [
        "x.device()"
      ],
      "metadata": {
        "id": "RaILs3r39Riw",
        "outputId": "91058716-3983-4d37-9f66-44d371629c90",
        "colab": {
          "base_uri": "https://localhost:8080/"
        }
      },
      "execution_count": 6,
      "outputs": [
        {
          "output_type": "execute_result",
          "data": {
            "text/plain": [
              "StreamExecutorGpuDevice(id=0, process_index=0, slice_index=0)"
            ]
          },
          "metadata": {},
          "execution_count": 6
        }
      ]
    },
    {
      "cell_type": "code",
      "execution_count": 7,
      "metadata": {
        "id": "udI_RzG682ZR"
      },
      "outputs": [],
      "source": [
        "class abstract_graph:\n",
        "    \n",
        "    def __init__(self,_edges):\n",
        "        self.edges=_edges\n",
        "        self.nodes={u for u,v in self.edges} | {v for u,v in self.edges}\n",
        "        \n",
        "    def adjacency_matrix(self):\n",
        "        pass\n",
        "    \n",
        "    def adjacency_list(self):\n",
        "        pass\n",
        "\n",
        "    \n",
        "class simple_graph(abstract_graph):\n",
        "    \n",
        "    def __init__(self,_edges):\n",
        "        tmp=[]\n",
        "        for (u,v) in _edges:\n",
        "            tmp.append((u,v))\n",
        "            if (v,u) not in tmp and v!=u:\n",
        "                tmp.append((v,u))\n",
        "        self.edges=tmp\n",
        "        self.nodes={u for u,v in _edges} | {v for u,v in _edges}\n",
        "     \n",
        "    def adjacency_matrix(self):\n",
        "        # completar\n",
        "        n=len(self.nodes)\n",
        "        mat=np.zeros((n,n))\n",
        "        for i,v in enumerate(self.nodes):\n",
        "            for j,k in enumerate(self.nodes):\n",
        "                if (v,k) in self.edges:\n",
        "                    mat[i,j]=1\n",
        "        return mat\n",
        "    \n",
        "    \n",
        "    def adjacency_list(self):\n",
        "        adjacent=lambda n : {v for u,v in self.edges if u==n } \n",
        "        return {v:adjacent(v) for v in self.nodes}\n",
        "\n",
        "  \n",
        "class weighted_graph(simple_graph):\n",
        "    \n",
        "    def __init__(self,_edges):\n",
        "        tmp=dict()\n",
        "        for (u,v),w in _edges.items():\n",
        "            tmp.update({(u,v):w})\n",
        "            if (v,u) not in tmp.keys() and v!=u:\n",
        "                tmp.update({(v,u):w})\n",
        "        self.edges=tmp\n",
        "        self.nodes={u for u,v in _edges} | {v for u,v in _edges}"
      ]
    },
    {
      "cell_type": "code",
      "execution_count": 52,
      "metadata": {
        "id": "ZXevcFYX82ZU"
      },
      "outputs": [],
      "source": [
        "def find(C, u): \n",
        "    if C[u] != u:\n",
        "        C[u] = find(C, C[u])\n",
        "    return C[u]\n",
        "\n",
        "def union(C, R, u, v):\n",
        "    u, v = find(C, u), find(C, v)\n",
        "    if R[u] > R[v]:\n",
        "        C[v] = u \n",
        "    else:\n",
        "        C[u] = v\n",
        "    if R[u] == R[v]:\n",
        "        R[v] += 1\n",
        "        \n",
        "def jax_kruskal(G):\n",
        "    E = G.edges\n",
        "    T=[]\n",
        "    values=jnp.array([*E.values()])\n",
        "    items=[*E.keys()]\n",
        "    C,R = {u:u for u in G.nodes}, {u:0 for u in G.nodes}\n",
        "    sorted_edges=[(items[c.item()],w.item()) for c,w in zip(jnp.argsort(values),jnp.sort(values))] \n",
        "    for (u,v),weight in sorted_edges:\n",
        "        if find(C, u) != find(C, v): \n",
        "            T.append((u,v,{'weight':weight}))\n",
        "            union(C, R, u, v)\n",
        "    return T"
      ]
    },
    {
      "cell_type": "markdown",
      "metadata": {
        "id": "EgqHLT7j82ZS"
      },
      "source": [
        "# Algoritmo Kruskal en JAX"
      ]
    },
    {
      "cell_type": "code",
      "execution_count": 53,
      "metadata": {
        "id": "4vr-J6JO82ZW",
        "outputId": "bbd024b9-ef88-4ebd-ec94-7c2ead34d61d",
        "colab": {
          "base_uri": "https://localhost:8080/"
        }
      },
      "outputs": [
        {
          "output_type": "stream",
          "name": "stdout",
          "text": [
            "aristas :  {('a', 'b'): 4, ('b', 'a'): 4, ('b', 'c'): 7, ('c', 'b'): 7, ('b', 'd'): 8, ('d', 'b'): 8, ('c', 'd'): 10, ('d', 'c'): 10, ('a', 'c'): 9, ('c', 'a'): 9}\n"
          ]
        }
      ],
      "source": [
        "E={('a','b'):4,('b','c'):7,('b','d'):8,('c','d'):10,('a','c'):9}\n",
        "G=weighted_graph(E)\n",
        "print('aristas : ',G.edges)"
      ]
    },
    {
      "cell_type": "code",
      "execution_count": 54,
      "metadata": {
        "id": "oACdSR-o82ZX"
      },
      "outputs": [],
      "source": [
        "T=jax_kruskal(G)"
      ]
    },
    {
      "cell_type": "code",
      "execution_count": 55,
      "metadata": {
        "id": "o88MkbKx82ZY",
        "outputId": "be0652dc-aecf-4df1-c8d0-bf4964a5a889",
        "colab": {
          "base_uri": "https://localhost:8080/"
        }
      },
      "outputs": [
        {
          "output_type": "execute_result",
          "data": {
            "text/plain": [
              "[('a', 'b', {'weight': 4}),\n",
              " ('b', 'c', {'weight': 7}),\n",
              " ('b', 'd', {'weight': 8})]"
            ]
          },
          "metadata": {},
          "execution_count": 55
        }
      ],
      "source": [
        "T"
      ]
    },
    {
      "cell_type": "code",
      "source": [
        "import networkx as nx\n",
        "\n",
        "G_nx=nx.Graph()\n",
        "G_nx.add_weighted_edges_from([(u,v,w) for ((u,v),w) in E.items()])\n",
        "T_nx=nx.minimum_spanning_tree(G_nx,algorithm='kruskal')"
      ],
      "metadata": {
        "id": "B13lyX6y9mVJ"
      },
      "execution_count": 56,
      "outputs": []
    },
    {
      "cell_type": "code",
      "source": [
        "T_nx.edges()"
      ],
      "metadata": {
        "id": "VqUmmIMz-sxM",
        "outputId": "ffabe7ed-b9d5-4f83-9939-8a94bf64dcaf",
        "colab": {
          "base_uri": "https://localhost:8080/"
        }
      },
      "execution_count": 57,
      "outputs": [
        {
          "output_type": "execute_result",
          "data": {
            "text/plain": [
              "EdgeView([('a', 'b'), ('b', 'c'), ('b', 'd')])"
            ]
          },
          "metadata": {},
          "execution_count": 57
        }
      ]
    },
    {
      "cell_type": "markdown",
      "source": [
        "# Algoritmo Prim en JAX"
      ],
      "metadata": {
        "id": "FFJY1P35_SO2"
      }
    },
    {
      "cell_type": "code",
      "source": [
        "def prim_mst(graph,start):\n",
        "    nodes=list(G.nodes)\n",
        "    parents={n:None for n in nodes}\n",
        "    tree=[]\n",
        "    frontier=jnp.array([jnp.inf]*len(nodes))\n",
        "    pos=nodes.index(start)\n",
        "    frontier=frontier.at[pos].set(0.0)\n",
        "    adjacency=graph.adjacency_list()\n",
        "    visited=set()\n",
        "    for _ in range(len(nodes)):\n",
        "        pos=jnp.argmin(frontier).item()\n",
        "        weight=frontier.at[pos].get().item()\n",
        "        v=nodes[pos]\n",
        "        if v in visited:\n",
        "            continue\n",
        "        visited.update({v})\n",
        "        u=parents[v]\n",
        "        tree.append((u,v,{'weight':weight}))\n",
        "        for neighbor in adjacency[v]:\n",
        "            if neighbor not in visited:\n",
        "                n_pos=nodes.index(neighbor)\n",
        "                n_weight=frontier.at[n_pos].get().item()\n",
        "                if graph.edges[(v,neighbor)]<n_weight:\n",
        "                  parents[neighbor]=v\n",
        "                  frontier=frontier.at[n_pos].set(graph.edges[(v,neighbor)])\n",
        "    return tree\n",
        "\n"
      ],
      "metadata": {
        "id": "f81y__Mg_Vbv"
      },
      "execution_count": 65,
      "outputs": []
    }
  ],
  "metadata": {
    "kernelspec": {
      "display_name": "Python 3",
      "name": "python3"
    },
    "language_info": {
      "codemirror_mode": {
        "name": "ipython",
        "version": 3
      },
      "file_extension": ".py",
      "mimetype": "text/x-python",
      "name": "python",
      "nbconvert_exporter": "python",
      "pygments_lexer": "ipython3",
      "version": "3.11.3"
    },
    "orig_nbformat": 4,
    "colab": {
      "provenance": [],
      "gpuType": "T4"
    },
    "accelerator": "GPU"
  },
  "nbformat": 4,
  "nbformat_minor": 0
}