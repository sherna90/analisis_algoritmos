{
  "cells": [
    {
      "cell_type": "code",
      "execution_count": 1,
      "metadata": {
        "colab": {
          "base_uri": "https://localhost:8080/"
        },
        "id": "tUBpdDXL82ZO",
        "outputId": "3bd112cd-48ba-47df-87b2-7da562951627"
      },
      "outputs": [
        {
          "output_type": "stream",
          "name": "stdout",
          "text": [
            "811 µs ± 150 µs per loop (mean ± std. dev. of 7 runs, 1000 loops each)\n"
          ]
        }
      ],
      "source": [
        "import numpy as np\n",
        "\n",
        "size=8000\n",
        "x=np.random.normal(size=size).astype(np.float32)\n",
        "\n",
        "%timeit np.sort(x,kind='heapsort')"
      ]
    },
    {
      "cell_type": "code",
      "execution_count": 2,
      "metadata": {
        "colab": {
          "base_uri": "https://localhost:8080/"
        },
        "id": "TMD_bqwk82ZQ",
        "outputId": "825d8194-6745-4702-aa55-f8d28e6db390"
      },
      "outputs": [
        {
          "output_type": "stream",
          "name": "stderr",
          "text": [
            "/usr/local/lib/python3.10/dist-packages/jax/_src/numpy/lax_numpy.py:3570: UserWarning: 'kind' argument to sort is ignored.\n",
            "  warnings.warn(\"'kind' argument to sort is ignored.\")\n"
          ]
        },
        {
          "output_type": "stream",
          "name": "stdout",
          "text": [
            "342 µs ± 97.9 µs per loop (mean ± std. dev. of 7 runs, 1 loop each)\n"
          ]
        }
      ],
      "source": [
        "import jax \n",
        "import jax.numpy as jnp\n",
        "\n",
        "key = jax.random.PRNGKey(0)\n",
        "x = jax.random.normal(key, (size,))\n",
        "%timeit jnp.sort(x,kind='heapsort').block_until_ready()"
      ]
    },
    {
      "cell_type": "code",
      "execution_count": 3,
      "metadata": {
        "colab": {
          "base_uri": "https://localhost:8080/"
        },
        "id": "RaILs3r39Riw",
        "outputId": "bba99946-ec13-4340-f65b-f2dc05fac810"
      },
      "outputs": [
        {
          "output_type": "execute_result",
          "data": {
            "text/plain": [
              "StreamExecutorGpuDevice(id=0, process_index=0, slice_index=0)"
            ]
          },
          "metadata": {},
          "execution_count": 3
        }
      ],
      "source": [
        "x.device()"
      ]
    },
    {
      "cell_type": "code",
      "execution_count": 4,
      "metadata": {
        "id": "udI_RzG682ZR"
      },
      "outputs": [],
      "source": [
        "class abstract_graph:\n",
        "    \n",
        "    def __init__(self,_edges):\n",
        "        self.edges=_edges\n",
        "        self.nodes={u for u,v in self.edges} | {v for u,v in self.edges}\n",
        "        \n",
        "    def adjacency_matrix(self):\n",
        "        pass\n",
        "    \n",
        "    def adjacency_list(self):\n",
        "        pass\n",
        "\n",
        "    \n",
        "class simple_graph(abstract_graph):\n",
        "    \n",
        "    def __init__(self,_edges):\n",
        "        tmp=[]\n",
        "        for (u,v) in _edges:\n",
        "            tmp.append((u,v))\n",
        "            if (v,u) not in tmp and v!=u:\n",
        "                tmp.append((v,u))\n",
        "        self.edges=tmp\n",
        "        self.nodes={u for u,v in _edges} | {v for u,v in _edges}\n",
        "     \n",
        "    def adjacency_matrix(self):\n",
        "        # completar\n",
        "        n=len(self.nodes)\n",
        "        mat=np.zeros((n,n))\n",
        "        for i,v in enumerate(self.nodes):\n",
        "            for j,k in enumerate(self.nodes):\n",
        "                if (v,k) in self.edges:\n",
        "                    mat[i,j]=1\n",
        "        return mat\n",
        "    \n",
        "    \n",
        "    def adjacency_list(self):\n",
        "        adjacent=lambda n : {v for u,v in self.edges if u==n } \n",
        "        return {v:adjacent(v) for v in self.nodes}\n",
        "\n",
        "  \n",
        "class weighted_graph(simple_graph):\n",
        "    \n",
        "    def __init__(self,_edges):\n",
        "        tmp=dict()\n",
        "        for (u,v),w in _edges.items():\n",
        "            tmp.update({(u,v):w})\n",
        "            if (v,u) not in tmp.keys() and v!=u:\n",
        "                tmp.update({(v,u):w})\n",
        "        self.edges=tmp\n",
        "        self.nodes={u for u,v in _edges} | {v for u,v in _edges}"
      ]
    },
    {
      "cell_type": "code",
      "execution_count": 7,
      "metadata": {
        "id": "ZXevcFYX82ZU"
      },
      "outputs": [],
      "source": [
        "def find(C, u): \n",
        "    if C[u] != u:\n",
        "        C[u] = find(C, C[u])\n",
        "    return C[u]\n",
        "\n",
        "def union(C, R, u, v):\n",
        "    u, v = find(C, u), find(C, v)\n",
        "    if R[u] > R[v]:\n",
        "        C[v] = u \n",
        "    else:\n",
        "        C[u] = v\n",
        "    if R[u] == R[v]:\n",
        "        R[v] += 1\n",
        "        \n",
        "def jax_kruskal(G):\n",
        "    E = G.edges\n",
        "    T=[]\n",
        "    values=jnp.array([*E.values()])\n",
        "    items=[*E.keys()]\n",
        "    C,R = {u:u for u in G.nodes}, {u:0 for u in G.nodes}\n",
        "    sorted_edges=[(items[c.item()],w.item()) for c,w in zip(jnp.argsort(values),jnp.sort(values))] \n",
        "    for (u,v),weight in sorted_edges:\n",
        "        if find(C, u) != find(C, v): \n",
        "            T.append((u,v,{'weight':weight}))\n",
        "            union(C, R, u, v)\n",
        "    return T"
      ]
    },
    {
      "cell_type": "markdown",
      "metadata": {
        "id": "EgqHLT7j82ZS"
      },
      "source": [
        "# Algoritmo Kruskal en JAX"
      ]
    },
    {
      "cell_type": "code",
      "execution_count": 8,
      "metadata": {
        "colab": {
          "base_uri": "https://localhost:8080/"
        },
        "id": "4vr-J6JO82ZW",
        "outputId": "98337466-ad30-4a8b-b6fd-c0b392e6c044"
      },
      "outputs": [
        {
          "output_type": "stream",
          "name": "stdout",
          "text": [
            "aristas :  {('a', 'b'): 4, ('b', 'a'): 4, ('b', 'c'): 7, ('c', 'b'): 7, ('b', 'd'): 8, ('d', 'b'): 8, ('c', 'd'): 10, ('d', 'c'): 10, ('a', 'c'): 9, ('c', 'a'): 9}\n"
          ]
        }
      ],
      "source": [
        "E={('a','b'):4,('b','c'):7,('b','d'):8,('c','d'):10,('a','c'):9}\n",
        "G=weighted_graph(E)\n",
        "print('aristas : ',G.edges)"
      ]
    },
    {
      "cell_type": "code",
      "execution_count": 9,
      "metadata": {
        "id": "oACdSR-o82ZX"
      },
      "outputs": [],
      "source": [
        "T=jax_kruskal(G)"
      ]
    },
    {
      "cell_type": "code",
      "execution_count": 10,
      "metadata": {
        "colab": {
          "base_uri": "https://localhost:8080/"
        },
        "id": "o88MkbKx82ZY",
        "outputId": "0fafa311-07ed-495a-ba85-e08f870a055c"
      },
      "outputs": [
        {
          "output_type": "execute_result",
          "data": {
            "text/plain": [
              "[('a', 'b', {'weight': 4}),\n",
              " ('b', 'c', {'weight': 7}),\n",
              " ('b', 'd', {'weight': 8})]"
            ]
          },
          "metadata": {},
          "execution_count": 10
        }
      ],
      "source": [
        "T"
      ]
    },
    {
      "cell_type": "code",
      "execution_count": 11,
      "metadata": {
        "id": "B13lyX6y9mVJ"
      },
      "outputs": [],
      "source": [
        "import networkx as nx\n",
        "\n",
        "G_nx=nx.Graph()\n",
        "G_nx.add_weighted_edges_from([(u,v,w) for ((u,v),w) in E.items()])\n",
        "T_nx=nx.minimum_spanning_tree(G_nx,algorithm='kruskal')"
      ]
    },
    {
      "cell_type": "code",
      "execution_count": 12,
      "metadata": {
        "colab": {
          "base_uri": "https://localhost:8080/"
        },
        "id": "VqUmmIMz-sxM",
        "outputId": "caac6187-fe33-429c-f3ac-e83d49c348ae"
      },
      "outputs": [
        {
          "output_type": "execute_result",
          "data": {
            "text/plain": [
              "EdgeView([('a', 'b'), ('b', 'c'), ('b', 'd')])"
            ]
          },
          "metadata": {},
          "execution_count": 12
        }
      ],
      "source": [
        "T_nx.edges()"
      ]
    },
    {
      "cell_type": "markdown",
      "metadata": {
        "id": "FFJY1P35_SO2"
      },
      "source": [
        "# Algoritmo Prim en JAX"
      ]
    },
    {
      "cell_type": "code",
      "execution_count": 14,
      "metadata": {
        "id": "f81y__Mg_Vbv"
      },
      "outputs": [],
      "source": [
        "def jax_prim(graph,start):\n",
        "    nodes=list(G.nodes)\n",
        "    parents={n:None for n in nodes}\n",
        "    tree=[]\n",
        "    frontier=jnp.array([jnp.inf]*len(nodes))\n",
        "    pos=nodes.index(start)\n",
        "    frontier=frontier.at[pos].set(0.0)\n",
        "    adjacency=graph.adjacency_list()\n",
        "    visited=set()\n",
        "    for _ in range(len(nodes)+1):\n",
        "        pos=jnp.argmin(frontier).item()\n",
        "        weight=frontier.at[pos].get().item()\n",
        "        v=nodes[pos]\n",
        "        if v in visited:\n",
        "            continue\n",
        "        visited.update({v})\n",
        "        frontier=frontier.at[pos].set(jnp.inf)\n",
        "        u=parents[v]\n",
        "        tree.append((u,v,{'weight':weight}))\n",
        "        for neighbor in adjacency[v]:\n",
        "            if neighbor not in visited:\n",
        "                n_pos=nodes.index(neighbor)\n",
        "                n_weight=frontier.at[n_pos].get().item()\n",
        "                if graph.edges[(v,neighbor)]<n_weight:\n",
        "                  parents[neighbor]=v\n",
        "                  frontier=frontier.at[n_pos].set(graph.edges[(v,neighbor)])\n",
        "    return tree\n",
        "\n"
      ]
    },
    {
      "cell_type": "code",
      "execution_count": 15,
      "metadata": {
        "colab": {
          "base_uri": "https://localhost:8080/"
        },
        "id": "ZWP9zu61Hm8i",
        "outputId": "118c3552-a43c-49ce-dd6b-e7057d43c8aa"
      },
      "outputs": [
        {
          "output_type": "execute_result",
          "data": {
            "text/plain": [
              "[(None, 'a', {'weight': 0.0}),\n",
              " ('a', 'b', {'weight': 4.0}),\n",
              " ('b', 'c', {'weight': 7.0}),\n",
              " ('b', 'd', {'weight': 8.0})]"
            ]
          },
          "metadata": {},
          "execution_count": 15
        }
      ],
      "source": [
        "jax_prim(G,'a')"
      ]
    }
  ],
  "metadata": {
    "accelerator": "GPU",
    "colab": {
      "gpuType": "T4",
      "provenance": []
    },
    "kernelspec": {
      "display_name": "Python 3",
      "name": "python3"
    },
    "language_info": {
      "codemirror_mode": {
        "name": "ipython",
        "version": 3
      },
      "file_extension": ".py",
      "mimetype": "text/x-python",
      "name": "python",
      "nbconvert_exporter": "python",
      "pygments_lexer": "ipython3",
      "version": "3.11.3"
    },
    "orig_nbformat": 4
  },
  "nbformat": 4,
  "nbformat_minor": 0
}