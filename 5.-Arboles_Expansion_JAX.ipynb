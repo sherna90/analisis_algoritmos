{
  "cells": [
    {
      "cell_type": "code",
      "execution_count": 1,
      "metadata": {
        "colab": {
          "base_uri": "https://localhost:8080/"
        },
        "id": "tUBpdDXL82ZO",
        "outputId": "6f9b6b8f-003a-470e-a800-dc6fd1817ec8"
      },
      "outputs": [
        {
          "name": "stdout",
          "output_type": "stream",
          "text": [
            "794 µs ± 12 µs per loop (mean ± std. dev. of 7 runs, 1000 loops each)\n"
          ]
        }
      ],
      "source": [
        "import numpy as np\n",
        "\n",
        "size=8000\n",
        "x=np.random.normal(size=size).astype(np.float32)\n",
        "\n",
        "%timeit np.sort(x,kind='heapsort')"
      ]
    },
    {
      "cell_type": "code",
      "execution_count": 2,
      "metadata": {
        "colab": {
          "base_uri": "https://localhost:8080/"
        },
        "id": "TMD_bqwk82ZQ",
        "outputId": "bed2d9fa-1c92-4d5a-d42a-030a61915d74"
      },
      "outputs": [
        {
          "name": "stderr",
          "output_type": "stream",
          "text": [
            "2023-06-06 10:01:22.896382: W external/xla/xla/service/gpu/nvptx_compiler.cc:564] The NVIDIA driver's CUDA version is 12.0 which is older than the ptxas CUDA version (12.1.105). Because the driver is older than the ptxas version, XLA is disabling parallel compilation, which may slow down compilation. You should update your NVIDIA driver or use the NVIDIA-provided CUDA forward compatibility packages.\n",
            "/home/sergio/.local/lib/python3.10/site-packages/jax/_src/numpy/lax_numpy.py:3570: UserWarning: 'kind' argument to sort is ignored.\n",
            "  warnings.warn(\"'kind' argument to sort is ignored.\")\n"
          ]
        },
        {
          "name": "stdout",
          "output_type": "stream",
          "text": [
            "172 µs ± 29.1 µs per loop (mean ± std. dev. of 7 runs, 1 loop each)\n"
          ]
        }
      ],
      "source": [
        "import jax \n",
        "import jax.numpy as jnp\n",
        "\n",
        "key = jax.random.PRNGKey(0)\n",
        "x = jax.random.normal(key, (size,))\n",
        "%timeit jnp.sort(x,kind='heapsort').block_until_ready()"
      ]
    },
    {
      "cell_type": "code",
      "execution_count": 4,
      "metadata": {
        "colab": {
          "base_uri": "https://localhost:8080/"
        },
        "id": "RaILs3r39Riw",
        "outputId": "1639c520-24f2-4681-e43e-0c0dfcab5a23"
      },
      "outputs": [
        {
          "data": {
            "text/plain": [
              "StreamExecutorGpuDevice(id=0, process_index=0, slice_index=0)"
            ]
          },
          "execution_count": 4,
          "metadata": {},
          "output_type": "execute_result"
        }
      ],
      "source": [
        "x.device()"
      ]
    },
    {
      "cell_type": "code",
      "execution_count": 5,
      "metadata": {
        "id": "udI_RzG682ZR"
      },
      "outputs": [],
      "source": [
        "class abstract_graph:\n",
        "    \n",
        "    def __init__(self,_edges):\n",
        "        self.edges=_edges\n",
        "        self.nodes={u for u,v in self.edges} | {v for u,v in self.edges}\n",
        "        \n",
        "    def adjacency_matrix(self):\n",
        "        pass\n",
        "    \n",
        "    def adjacency_list(self):\n",
        "        pass\n",
        "\n",
        "    \n",
        "class simple_graph(abstract_graph):\n",
        "    \n",
        "    def __init__(self,_edges):\n",
        "        tmp=[]\n",
        "        for (u,v) in _edges:\n",
        "            tmp.append((u,v))\n",
        "            if (v,u) not in tmp and v!=u:\n",
        "                tmp.append((v,u))\n",
        "        self.edges=tmp\n",
        "        self.nodes={u for u,v in _edges} | {v for u,v in _edges}\n",
        "     \n",
        "    def adjacency_matrix(self):\n",
        "        # completar\n",
        "        n=len(self.nodes)\n",
        "        mat=jnp.zeros((n,n))\n",
        "        for i,v in enumerate(self.nodes):\n",
        "            for j,k in enumerate(self.nodes):\n",
        "                if (v,k) in self.edges:\n",
        "                    mat.at[i,j].set(1)\n",
        "        return mat\n",
        "    \n",
        "    \n",
        "    def adjacency_list(self):\n",
        "        adjacent=lambda n : {v for u,v in self.edges if u==n } \n",
        "        return {v:adjacent(v) for v in self.nodes}\n",
        "\n",
        "  \n",
        "class weighted_graph(simple_graph):\n",
        "    \n",
        "    def __init__(self,_edges):\n",
        "        tmp=dict()\n",
        "        for (u,v),w in _edges.items():\n",
        "            tmp.update({(u,v):w})\n",
        "            if (v,u) not in tmp.keys() and v!=u:\n",
        "                tmp.update({(v,u):w})\n",
        "        self.edges=tmp\n",
        "        self.nodes={u for u,v in _edges} | {v for u,v in _edges}"
      ]
    },
    {
      "attachments": {},
      "cell_type": "markdown",
      "metadata": {
        "id": "EgqHLT7j82ZS"
      },
      "source": [
        "# Algoritmo Kruskal en JAX"
      ]
    },
    {
      "cell_type": "code",
      "execution_count": 136,
      "metadata": {
        "id": "ZXevcFYX82ZU"
      },
      "outputs": [],
      "source": [
        "def naive_find(C, u):\n",
        "    while C.at[u].get() != u:\n",
        "        u = C.at[u].get().item()\n",
        "    return u\n",
        "\n",
        "def naive_union(C, u, v):\n",
        "    u = naive_find(C, u)\n",
        "    v = naive_find(C, v)\n",
        "    return C.at[u].set(v)\n",
        "        \n",
        "def jax_kruskal(G):\n",
        "    E = G.edges\n",
        "    T=[]\n",
        "    values=jnp.array([*E.values()])\n",
        "    items=[*E.keys()]\n",
        "    C= jnp.arange(len(G.nodes))\n",
        "    i_sort=jnp.argsort(values)\n",
        "    for ix in i_sort:\n",
        "        (u,v),weight=items[ix.item()],values[ix.item()].item()\n",
        "        if naive_find(C, u) != naive_find(C, v): \n",
        "            T.append((u,v,{'weight':weight}))\n",
        "            C=naive_union(C, u, v)\n",
        "    return T"
      ]
    },
    {
      "cell_type": "code",
      "execution_count": 137,
      "metadata": {
        "colab": {
          "base_uri": "https://localhost:8080/"
        },
        "id": "4vr-J6JO82ZW",
        "outputId": "23c8943f-7921-4ab9-8770-c29f58e26a96"
      },
      "outputs": [
        {
          "name": "stdout",
          "output_type": "stream",
          "text": [
            "aristas :  {(1, 2): 4, (2, 1): 4, (2, 3): 7, (3, 2): 7, (3, 4): 8, (4, 3): 8, (3, 5): 10, (5, 3): 10, (4, 5): 9, (5, 4): 9}\n"
          ]
        }
      ],
      "source": [
        "E={(1,2):4,(2,3):7,(3,4):8,(3,5):10,(4,5):9}\n",
        "G=weighted_graph(E)\n",
        "print('aristas : ',G.edges)"
      ]
    },
    {
      "cell_type": "code",
      "execution_count": 138,
      "metadata": {
        "colab": {
          "base_uri": "https://localhost:8080/"
        },
        "id": "o88MkbKx82ZY",
        "outputId": "dd94ef58-8071-418f-892f-2ee9bc1ad7a6"
      },
      "outputs": [],
      "source": [
        "T=jax_kruskal(G)"
      ]
    },
    {
      "cell_type": "code",
      "execution_count": 139,
      "metadata": {},
      "outputs": [
        {
          "data": {
            "text/plain": [
              "[(1, 2, {'weight': 4}), (2, 3, {'weight': 7}), (3, 4, {'weight': 8})]"
            ]
          },
          "execution_count": 139,
          "metadata": {},
          "output_type": "execute_result"
        }
      ],
      "source": [
        "T"
      ]
    },
    {
      "cell_type": "code",
      "execution_count": 140,
      "metadata": {
        "id": "B13lyX6y9mVJ"
      },
      "outputs": [],
      "source": [
        "import networkx as nx\n",
        "\n",
        "G_nx=nx.Graph()\n",
        "G_nx.add_weighted_edges_from([(u,v,w) for ((u,v),w) in E.items()])\n",
        "T_nx=nx.minimum_spanning_tree(G_nx,algorithm='kruskal')"
      ]
    },
    {
      "cell_type": "code",
      "execution_count": 141,
      "metadata": {
        "colab": {
          "base_uri": "https://localhost:8080/"
        },
        "id": "VqUmmIMz-sxM",
        "outputId": "caac6187-fe33-429c-f3ac-e83d49c348ae"
      },
      "outputs": [
        {
          "data": {
            "text/plain": [
              "EdgeDataView([(1, 2, {'weight': 4}), (2, 3, {'weight': 7}), (3, 4, {'weight': 8}), (4, 5, {'weight': 9})])"
            ]
          },
          "execution_count": 141,
          "metadata": {},
          "output_type": "execute_result"
        }
      ],
      "source": [
        "T_nx.edges(data=True)"
      ]
    },
    {
      "attachments": {},
      "cell_type": "markdown",
      "metadata": {
        "id": "FFJY1P35_SO2"
      },
      "source": [
        "# Algoritmo Prim en JAX"
      ]
    },
    {
      "cell_type": "code",
      "execution_count": null,
      "metadata": {
        "id": "f81y__Mg_Vbv"
      },
      "outputs": [],
      "source": [
        "def jax_prim(graph,start):\n",
        "    nodes=list(G.nodes)\n",
        "    parents={n:None for n in nodes}\n",
        "    tree=[]\n",
        "    frontier=jnp.array([jnp.inf]*len(nodes))\n",
        "    pos=nodes.index(start)\n",
        "    frontier=frontier.at[pos].set(0.0)\n",
        "    adjacency=graph.adjacency_list()\n",
        "    visited=set()\n",
        "    for _ in range(len(nodes)+1):\n",
        "        pos=jnp.argmin(frontier).item()\n",
        "        weight=frontier.at[pos].get().item()\n",
        "        v=nodes[pos]\n",
        "        if v in visited:\n",
        "            continue\n",
        "        visited.update({v})\n",
        "        frontier=frontier.at[pos].set(jnp.inf)\n",
        "        u=parents[v]\n",
        "        tree.append((u,v,{'weight':weight}))\n",
        "        for neighbor in adjacency[v]:\n",
        "            if neighbor not in visited:\n",
        "                n_pos=nodes.index(neighbor)\n",
        "                n_weight=frontier.at[n_pos].get().item()\n",
        "                if graph.edges[(v,neighbor)]<n_weight:\n",
        "                  parents[neighbor]=v\n",
        "                  frontier=frontier.at[n_pos].set(graph.edges[(v,neighbor)])\n",
        "    return tree\n",
        "\n"
      ]
    },
    {
      "cell_type": "code",
      "execution_count": 142,
      "metadata": {
        "colab": {
          "base_uri": "https://localhost:8080/"
        },
        "id": "ZWP9zu61Hm8i",
        "outputId": "cf9990d3-7048-46cc-a7ba-1624a6dac2d8"
      },
      "outputs": [
        {
          "data": {
            "text/plain": [
              "[(None, 1, {'weight': 0.0}),\n",
              " (1, 2, {'weight': 4.0}),\n",
              " (2, 3, {'weight': 7.0}),\n",
              " (3, 4, {'weight': 8.0}),\n",
              " (4, 5, {'weight': 9.0})]"
            ]
          },
          "execution_count": 142,
          "metadata": {},
          "output_type": "execute_result"
        }
      ],
      "source": [
        "jax_prim(G,1)"
      ]
    },
    {
      "attachments": {},
      "cell_type": "markdown",
      "metadata": {},
      "source": [
        "# Algoritmo Kruskal en Grafos Aleatorios"
      ]
    },
    {
      "cell_type": "code",
      "execution_count": 143,
      "metadata": {
        "id": "zjoAEMk9Ytc_"
      },
      "outputs": [],
      "source": [
        "import networkx as nx\n",
        "\n",
        "def gen_random_graph(n,p):\n",
        "    not_connected=True\n",
        "    while not_connected:\n",
        "        G_nx = nx.erdos_renyi_graph(int(n),p,directed=False)\n",
        "        not_connected=nx.is_connected(G_nx)\n",
        "        weights={edge:np.random.randint(1,10) for edge in G_nx.edges}\n",
        "        nx.set_edge_attributes(G_nx, values = weights, name = 'weight')\n",
        "        break\n",
        "    return G_nx"
      ]
    },
    {
      "cell_type": "code",
      "execution_count": 150,
      "metadata": {
        "id": "Wgfa051qcz5c"
      },
      "outputs": [],
      "source": [
        "G_nx=gen_random_graph(1e2,0.2)"
      ]
    },
    {
      "cell_type": "code",
      "execution_count": 151,
      "metadata": {
        "id": "Fnx8dGMle4bM"
      },
      "outputs": [],
      "source": [
        "E={(u,v):k['weight'] for (u,v,k) in G_nx.edges(data=True)}\n",
        "G=weighted_graph(E)"
      ]
    },
    {
      "cell_type": "code",
      "execution_count": 152,
      "metadata": {},
      "outputs": [
        {
          "data": {
            "text/plain": [
              "1022"
            ]
          },
          "execution_count": 152,
          "metadata": {},
          "output_type": "execute_result"
        }
      ],
      "source": [
        "len(E)"
      ]
    },
    {
      "cell_type": "code",
      "execution_count": 153,
      "metadata": {
        "colab": {
          "base_uri": "https://localhost:8080/"
        },
        "id": "5mAw6XBifhKV",
        "outputId": "e3a244bd-0212-4ad8-b3de-a9db1dcd4aaa"
      },
      "outputs": [
        {
          "name": "stdout",
          "output_type": "stream",
          "text": [
            "Algoritmo Kruskal NX Tiempo : 0.005584[s], Peso : 108\n"
          ]
        }
      ],
      "source": [
        "import time \n",
        "\n",
        "t1=time.time()\n",
        "T_nx_kruskal=nx.minimum_spanning_tree(G_nx,algorithm='kruskal')\n",
        "t2=time.time()\n",
        "print('Algoritmo Kruskal NX Tiempo : {0:2f}[s], Peso : {1}'.format(t2-t1,sum([k['weight'] for (u,v,k) in T_nx_kruskal.edges(data=True)])))"
      ]
    },
    {
      "cell_type": "code",
      "execution_count": 154,
      "metadata": {
        "colab": {
          "base_uri": "https://localhost:8080/"
        },
        "id": "10K-8LaKe6MY",
        "outputId": "0a79e477-ba58-4336-e2bf-06b3e674f1db"
      },
      "outputs": [
        {
          "name": "stdout",
          "output_type": "stream",
          "text": [
            "Algoritmo Kruskal JAX Tiempo : 118.177597[s], Peso : 108\n"
          ]
        }
      ],
      "source": [
        "t1=time.time()\n",
        "T_jax_kruskal=jax_kruskal(G)\n",
        "t2=time.time()\n",
        "print('Algoritmo Kruskal JAX Tiempo : {0:2f}[s], Peso : {1}'.format(t2-t1,sum([k['weight'] for (u,v,k) in T_jax_kruskal])))"
      ]
    },
    {
      "cell_type": "code",
      "execution_count": 155,
      "metadata": {},
      "outputs": [
        {
          "name": "stdout",
          "output_type": "stream",
          "text": [
            "Algoritmo Kruskal SciPy Tiempo : 0.000951[s], Peso : 108.0\n"
          ]
        }
      ],
      "source": [
        "import scipy as sp\n",
        "from scipy.sparse.csgraph import minimum_spanning_tree\n",
        "\n",
        "M = nx.adjacency_matrix(G_nx)\n",
        "t1=time.time()\n",
        "T_sp=minimum_spanning_tree(M)\n",
        "t2=time.time()\n",
        "print('Algoritmo Kruskal SciPy Tiempo : {0:2f}[s], Peso : {1}'.format(t2-t1,np.sum(T_sp)))"
      ]
    }
  ],
  "metadata": {
    "accelerator": "GPU",
    "colab": {
      "gpuType": "T4",
      "provenance": []
    },
    "kernelspec": {
      "display_name": "Python 3",
      "name": "python3"
    },
    "language_info": {
      "codemirror_mode": {
        "name": "ipython",
        "version": 3
      },
      "file_extension": ".py",
      "mimetype": "text/x-python",
      "name": "python",
      "nbconvert_exporter": "python",
      "pygments_lexer": "ipython3",
      "version": "3.10.6"
    },
    "orig_nbformat": 4
  },
  "nbformat": 4,
  "nbformat_minor": 0
}
