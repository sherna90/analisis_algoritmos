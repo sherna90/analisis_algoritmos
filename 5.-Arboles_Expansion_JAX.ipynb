{
  "cells": [
    {
      "cell_type": "code",
      "execution_count": 1,
      "metadata": {
        "colab": {
          "base_uri": "https://localhost:8080/"
        },
        "id": "tUBpdDXL82ZO",
        "outputId": "6f9b6b8f-003a-470e-a800-dc6fd1817ec8"
      },
      "outputs": [
        {
          "name": "stdout",
          "output_type": "stream",
          "text": [
            "778 µs ± 23.5 µs per loop (mean ± std. dev. of 7 runs, 1000 loops each)\n"
          ]
        }
      ],
      "source": [
        "import numpy as np\n",
        "\n",
        "size=8000\n",
        "x=np.random.normal(size=size).astype(np.float32)\n",
        "\n",
        "%timeit np.sort(x,kind='heapsort')"
      ]
    },
    {
      "cell_type": "code",
      "execution_count": 2,
      "metadata": {
        "colab": {
          "base_uri": "https://localhost:8080/"
        },
        "id": "TMD_bqwk82ZQ",
        "outputId": "bed2d9fa-1c92-4d5a-d42a-030a61915d74"
      },
      "outputs": [
        {
          "name": "stderr",
          "output_type": "stream",
          "text": [
            "2023-06-05 10:38:36.609534: W external/xla/xla/service/gpu/nvptx_compiler.cc:564] The NVIDIA driver's CUDA version is 12.0 which is older than the ptxas CUDA version (12.1.105). Because the driver is older than the ptxas version, XLA is disabling parallel compilation, which may slow down compilation. You should update your NVIDIA driver or use the NVIDIA-provided CUDA forward compatibility packages.\n",
            "/home/sergio/.local/lib/python3.10/site-packages/jax/_src/numpy/lax_numpy.py:3570: UserWarning: 'kind' argument to sort is ignored.\n",
            "  warnings.warn(\"'kind' argument to sort is ignored.\")\n"
          ]
        },
        {
          "name": "stdout",
          "output_type": "stream",
          "text": [
            "172 µs ± 23.1 µs per loop (mean ± std. dev. of 7 runs, 1 loop each)\n"
          ]
        }
      ],
      "source": [
        "import jax \n",
        "import jax.numpy as jnp\n",
        "\n",
        "key = jax.random.PRNGKey(0)\n",
        "x = jax.random.normal(key, (size,))\n",
        "%timeit jnp.sort(x,kind='heapsort').block_until_ready()"
      ]
    },
    {
      "cell_type": "code",
      "execution_count": 3,
      "metadata": {
        "colab": {
          "base_uri": "https://localhost:8080/"
        },
        "id": "RaILs3r39Riw",
        "outputId": "1639c520-24f2-4681-e43e-0c0dfcab5a23"
      },
      "outputs": [
        {
          "data": {
            "text/plain": [
              "StreamExecutorGpuDevice(id=0, process_index=0, slice_index=0)"
            ]
          },
          "execution_count": 3,
          "metadata": {},
          "output_type": "execute_result"
        }
      ],
      "source": [
        "x.device()"
      ]
    },
    {
      "cell_type": "code",
      "execution_count": 4,
      "metadata": {
        "id": "udI_RzG682ZR"
      },
      "outputs": [],
      "source": [
        "class abstract_graph:\n",
        "    \n",
        "    def __init__(self,_edges):\n",
        "        self.edges=_edges\n",
        "        self.nodes={u for u,v in self.edges} | {v for u,v in self.edges}\n",
        "        \n",
        "    def adjacency_matrix(self):\n",
        "        pass\n",
        "    \n",
        "    def adjacency_list(self):\n",
        "        pass\n",
        "\n",
        "    \n",
        "class simple_graph(abstract_graph):\n",
        "    \n",
        "    def __init__(self,_edges):\n",
        "        tmp=[]\n",
        "        for (u,v) in _edges:\n",
        "            tmp.append((u,v))\n",
        "            if (v,u) not in tmp and v!=u:\n",
        "                tmp.append((v,u))\n",
        "        self.edges=tmp\n",
        "        self.nodes={u for u,v in _edges} | {v for u,v in _edges}\n",
        "     \n",
        "    def adjacency_matrix(self):\n",
        "        # completar\n",
        "        n=len(self.nodes)\n",
        "        mat=jnp.zeros((n,n))\n",
        "        for i,v in enumerate(self.nodes):\n",
        "            for j,k in enumerate(self.nodes):\n",
        "                if (v,k) in self.edges:\n",
        "                    mat.at[i,j].set(1)\n",
        "        return mat\n",
        "    \n",
        "    \n",
        "    def adjacency_list(self):\n",
        "        adjacent=lambda n : {v for u,v in self.edges if u==n } \n",
        "        return {v:adjacent(v) for v in self.nodes}\n",
        "\n",
        "  \n",
        "class weighted_graph(simple_graph):\n",
        "    \n",
        "    def __init__(self,_edges):\n",
        "        tmp=dict()\n",
        "        for (u,v),w in _edges.items():\n",
        "            tmp.update({(u,v):w})\n",
        "            if (v,u) not in tmp.keys() and v!=u:\n",
        "                tmp.update({(v,u):w})\n",
        "        self.edges=tmp\n",
        "        self.nodes={u for u,v in _edges} | {v for u,v in _edges}"
      ]
    },
    {
      "cell_type": "code",
      "execution_count": 49,
      "metadata": {
        "id": "ZXevcFYX82ZU"
      },
      "outputs": [],
      "source": [
        "\n",
        "from functools import partial\n",
        "from jax.tree_util import tree_structure\n",
        "\n",
        "#@partial(jax.jit, static_argnames=['u'])\n",
        "def naive_find(C, u):\n",
        "    while C[u] != u:\n",
        "        u = C[u]\n",
        "    return u\n",
        "\n",
        "def naive_union(C, u, v):\n",
        "    u = naive_find(C, u)\n",
        "    v = naive_find(C, v)\n",
        "    C[u] = v\n",
        "        \n",
        "def jax_kruskal(G):\n",
        "    E = G.edges\n",
        "    T=[]\n",
        "    values=jnp.array([*E.values()])\n",
        "    items=[*E.keys()]\n",
        "    C,R = tree_structure({u:u for u in G.nodes}), {u:0 for u in G.nodes}\n",
        "    sorted_edges=[(items[c.item()],w.item()) for c,w in zip(jnp.argsort(values),jnp.sort(values))] \n",
        "    for (u,v),weight in sorted_edges:\n",
        "        if naive_find(C, u) != naive_find(C, v): \n",
        "            T.append((u,v,{'weight':weight}))\n",
        "            naive_union(C, u, v)\n",
        "    return T"
      ]
    },
    {
      "attachments": {},
      "cell_type": "markdown",
      "metadata": {
        "id": "EgqHLT7j82ZS"
      },
      "source": [
        "# Algoritmo Kruskal en JAX"
      ]
    },
    {
      "cell_type": "code",
      "execution_count": 50,
      "metadata": {
        "colab": {
          "base_uri": "https://localhost:8080/"
        },
        "id": "4vr-J6JO82ZW",
        "outputId": "23c8943f-7921-4ab9-8770-c29f58e26a96"
      },
      "outputs": [
        {
          "name": "stdout",
          "output_type": "stream",
          "text": [
            "aristas :  {('a', 'b'): 4, ('b', 'a'): 4, ('b', 'c'): 7, ('c', 'b'): 7, ('b', 'd'): 8, ('d', 'b'): 8, ('c', 'd'): 10, ('d', 'c'): 10, ('a', 'c'): 9, ('c', 'a'): 9}\n"
          ]
        }
      ],
      "source": [
        "E={('a','b'):4,('b','c'):7,('b','d'):8,('c','d'):10,('a','c'):9}\n",
        "G=weighted_graph(E)\n",
        "print('aristas : ',G.edges)"
      ]
    },
    {
      "cell_type": "code",
      "execution_count": 51,
      "metadata": {
        "id": "oACdSR-o82ZX"
      },
      "outputs": [
        {
          "ename": "TypeError",
          "evalue": "Cannot interpret value of type <class 'jaxlib.xla_extension.pytree.PyTreeDef'> as an abstract array; it does not have a dtype attribute",
          "output_type": "error",
          "traceback": [
            "\u001b[0;31m---------------------------------------------------------------------------\u001b[0m",
            "\u001b[0;31mKeyError\u001b[0m                                  Traceback (most recent call last)",
            "\u001b[0;32m~/.local/lib/python3.10/site-packages/jax/_src/api_util.py\u001b[0m in \u001b[0;36mshaped_abstractify\u001b[0;34m(x)\u001b[0m\n\u001b[1;32m    562\u001b[0m   \u001b[0;32mtry\u001b[0m\u001b[0;34m:\u001b[0m\u001b[0;34m\u001b[0m\u001b[0;34m\u001b[0m\u001b[0m\n\u001b[0;32m--> 563\u001b[0;31m     \u001b[0;32mreturn\u001b[0m \u001b[0m_shaped_abstractify_handlers\u001b[0m\u001b[0;34m[\u001b[0m\u001b[0mtype\u001b[0m\u001b[0;34m(\u001b[0m\u001b[0mx\u001b[0m\u001b[0;34m)\u001b[0m\u001b[0;34m]\u001b[0m\u001b[0;34m(\u001b[0m\u001b[0mx\u001b[0m\u001b[0;34m)\u001b[0m\u001b[0;34m\u001b[0m\u001b[0;34m\u001b[0m\u001b[0m\n\u001b[0m\u001b[1;32m    564\u001b[0m   \u001b[0;32mexcept\u001b[0m \u001b[0mKeyError\u001b[0m\u001b[0;34m:\u001b[0m\u001b[0;34m\u001b[0m\u001b[0;34m\u001b[0m\u001b[0m\n",
            "\u001b[0;31mKeyError\u001b[0m: <class 'jaxlib.xla_extension.pytree.PyTreeDef'>",
            "\nDuring handling of the above exception, another exception occurred:\n",
            "\u001b[0;31mTypeError\u001b[0m                                 Traceback (most recent call last)",
            "\u001b[0;32m/tmp/ipykernel_7756/1444940189.py\u001b[0m in \u001b[0;36m<module>\u001b[0;34m\u001b[0m\n\u001b[0;32m----> 1\u001b[0;31m \u001b[0mT\u001b[0m\u001b[0;34m=\u001b[0m\u001b[0mjax_kruskal\u001b[0m\u001b[0;34m(\u001b[0m\u001b[0mG\u001b[0m\u001b[0;34m)\u001b[0m\u001b[0;34m\u001b[0m\u001b[0;34m\u001b[0m\u001b[0m\n\u001b[0m",
            "\u001b[0;32m/tmp/ipykernel_7756/442030523.py\u001b[0m in \u001b[0;36mjax_kruskal\u001b[0;34m(G)\u001b[0m\n\u001b[1;32m     21\u001b[0m     \u001b[0msorted_edges\u001b[0m\u001b[0;34m=\u001b[0m\u001b[0;34m[\u001b[0m\u001b[0;34m(\u001b[0m\u001b[0mitems\u001b[0m\u001b[0;34m[\u001b[0m\u001b[0mc\u001b[0m\u001b[0;34m.\u001b[0m\u001b[0mitem\u001b[0m\u001b[0;34m(\u001b[0m\u001b[0;34m)\u001b[0m\u001b[0;34m]\u001b[0m\u001b[0;34m,\u001b[0m\u001b[0mw\u001b[0m\u001b[0;34m.\u001b[0m\u001b[0mitem\u001b[0m\u001b[0;34m(\u001b[0m\u001b[0;34m)\u001b[0m\u001b[0;34m)\u001b[0m \u001b[0;32mfor\u001b[0m \u001b[0mc\u001b[0m\u001b[0;34m,\u001b[0m\u001b[0mw\u001b[0m \u001b[0;32min\u001b[0m \u001b[0mzip\u001b[0m\u001b[0;34m(\u001b[0m\u001b[0mjnp\u001b[0m\u001b[0;34m.\u001b[0m\u001b[0margsort\u001b[0m\u001b[0;34m(\u001b[0m\u001b[0mvalues\u001b[0m\u001b[0;34m)\u001b[0m\u001b[0;34m,\u001b[0m\u001b[0mjnp\u001b[0m\u001b[0;34m.\u001b[0m\u001b[0msort\u001b[0m\u001b[0;34m(\u001b[0m\u001b[0mvalues\u001b[0m\u001b[0;34m)\u001b[0m\u001b[0;34m)\u001b[0m\u001b[0;34m]\u001b[0m\u001b[0;34m\u001b[0m\u001b[0;34m\u001b[0m\u001b[0m\n\u001b[1;32m     22\u001b[0m     \u001b[0;32mfor\u001b[0m \u001b[0;34m(\u001b[0m\u001b[0mu\u001b[0m\u001b[0;34m,\u001b[0m\u001b[0mv\u001b[0m\u001b[0;34m)\u001b[0m\u001b[0;34m,\u001b[0m\u001b[0mweight\u001b[0m \u001b[0;32min\u001b[0m \u001b[0msorted_edges\u001b[0m\u001b[0;34m:\u001b[0m\u001b[0;34m\u001b[0m\u001b[0;34m\u001b[0m\u001b[0m\n\u001b[0;32m---> 23\u001b[0;31m         \u001b[0;32mif\u001b[0m \u001b[0mnaive_find\u001b[0m\u001b[0;34m(\u001b[0m\u001b[0mC\u001b[0m\u001b[0;34m,\u001b[0m \u001b[0mu\u001b[0m\u001b[0;34m)\u001b[0m \u001b[0;34m!=\u001b[0m \u001b[0mnaive_find\u001b[0m\u001b[0;34m(\u001b[0m\u001b[0mC\u001b[0m\u001b[0;34m,\u001b[0m \u001b[0mv\u001b[0m\u001b[0;34m)\u001b[0m\u001b[0;34m:\u001b[0m\u001b[0;34m\u001b[0m\u001b[0;34m\u001b[0m\u001b[0m\n\u001b[0m\u001b[1;32m     24\u001b[0m             \u001b[0mT\u001b[0m\u001b[0;34m.\u001b[0m\u001b[0mappend\u001b[0m\u001b[0;34m(\u001b[0m\u001b[0;34m(\u001b[0m\u001b[0mu\u001b[0m\u001b[0;34m,\u001b[0m\u001b[0mv\u001b[0m\u001b[0;34m,\u001b[0m\u001b[0;34m{\u001b[0m\u001b[0;34m'weight'\u001b[0m\u001b[0;34m:\u001b[0m\u001b[0mweight\u001b[0m\u001b[0;34m}\u001b[0m\u001b[0;34m)\u001b[0m\u001b[0;34m)\u001b[0m\u001b[0;34m\u001b[0m\u001b[0;34m\u001b[0m\u001b[0m\n\u001b[1;32m     25\u001b[0m             \u001b[0mnaive_union\u001b[0m\u001b[0;34m(\u001b[0m\u001b[0mC\u001b[0m\u001b[0;34m,\u001b[0m \u001b[0mu\u001b[0m\u001b[0;34m,\u001b[0m \u001b[0mv\u001b[0m\u001b[0;34m)\u001b[0m\u001b[0;34m\u001b[0m\u001b[0;34m\u001b[0m\u001b[0m\n",
            "    \u001b[0;31m[... skipping hidden 6 frame]\u001b[0m\n",
            "\u001b[0;32m~/.local/lib/python3.10/site-packages/jax/_src/api_util.py\u001b[0m in \u001b[0;36m_shaped_abstractify_slow\u001b[0;34m(x)\u001b[0m\n\u001b[1;32m    552\u001b[0m     \u001b[0mdtype\u001b[0m \u001b[0;34m=\u001b[0m \u001b[0mdtypes\u001b[0m\u001b[0;34m.\u001b[0m\u001b[0mcanonicalize_dtype\u001b[0m\u001b[0;34m(\u001b[0m\u001b[0mx\u001b[0m\u001b[0;34m.\u001b[0m\u001b[0mdtype\u001b[0m\u001b[0;34m,\u001b[0m \u001b[0mallow_opaque_dtype\u001b[0m\u001b[0;34m=\u001b[0m\u001b[0;32mTrue\u001b[0m\u001b[0;34m)\u001b[0m\u001b[0;34m\u001b[0m\u001b[0;34m\u001b[0m\u001b[0m\n\u001b[1;32m    553\u001b[0m   \u001b[0;32melse\u001b[0m\u001b[0;34m:\u001b[0m\u001b[0;34m\u001b[0m\u001b[0;34m\u001b[0m\u001b[0m\n\u001b[0;32m--> 554\u001b[0;31m     raise TypeError(\n\u001b[0m\u001b[1;32m    555\u001b[0m         \u001b[0;34mf\"Cannot interpret value of type {type(x)} as an abstract array; it \"\u001b[0m\u001b[0;34m\u001b[0m\u001b[0;34m\u001b[0m\u001b[0m\n\u001b[1;32m    556\u001b[0m         \"does not have a dtype attribute\")\n",
            "\u001b[0;31mTypeError\u001b[0m: Cannot interpret value of type <class 'jaxlib.xla_extension.pytree.PyTreeDef'> as an abstract array; it does not have a dtype attribute"
          ]
        }
      ],
      "source": [
        "T=jax_kruskal(G)"
      ]
    },
    {
      "cell_type": "code",
      "execution_count": 46,
      "metadata": {
        "colab": {
          "base_uri": "https://localhost:8080/"
        },
        "id": "o88MkbKx82ZY",
        "outputId": "dd94ef58-8071-418f-892f-2ee9bc1ad7a6"
      },
      "outputs": [
        {
          "data": {
            "text/plain": [
              "[('a', 'b', {'weight': 4}),\n",
              " ('b', 'c', {'weight': 7}),\n",
              " ('b', 'd', {'weight': 8})]"
            ]
          },
          "execution_count": 46,
          "metadata": {},
          "output_type": "execute_result"
        }
      ],
      "source": [
        "T"
      ]
    },
    {
      "cell_type": "code",
      "execution_count": 10,
      "metadata": {},
      "outputs": [
        {
          "data": {
            "text/plain": [
              "jaxlib.xla_extension.ArrayImpl"
            ]
          },
          "execution_count": 10,
          "metadata": {},
          "output_type": "execute_result"
        }
      ],
      "source": [
        "type(G.adjacency_matrix())"
      ]
    },
    {
      "cell_type": "code",
      "execution_count": 12,
      "metadata": {
        "id": "B13lyX6y9mVJ"
      },
      "outputs": [],
      "source": [
        "import networkx as nx\n",
        "\n",
        "G_nx=nx.Graph()\n",
        "G_nx.add_weighted_edges_from([(u,v,w) for ((u,v),w) in E.items()])\n",
        "T_nx=nx.minimum_spanning_tree(G_nx,algorithm='kruskal')"
      ]
    },
    {
      "cell_type": "code",
      "execution_count": 13,
      "metadata": {
        "colab": {
          "base_uri": "https://localhost:8080/"
        },
        "id": "VqUmmIMz-sxM",
        "outputId": "caac6187-fe33-429c-f3ac-e83d49c348ae"
      },
      "outputs": [
        {
          "data": {
            "text/plain": [
              "EdgeView([('a', 'b'), ('b', 'c'), ('b', 'd')])"
            ]
          },
          "execution_count": 13,
          "metadata": {},
          "output_type": "execute_result"
        }
      ],
      "source": [
        "T_nx.edges()"
      ]
    },
    {
      "attachments": {},
      "cell_type": "markdown",
      "metadata": {
        "id": "FFJY1P35_SO2"
      },
      "source": [
        "# Algoritmo Prim en JAX"
      ]
    },
    {
      "cell_type": "code",
      "execution_count": 14,
      "metadata": {
        "id": "f81y__Mg_Vbv"
      },
      "outputs": [],
      "source": [
        "def jax_prim(graph,start):\n",
        "    nodes=list(G.nodes)\n",
        "    parents={n:None for n in nodes}\n",
        "    tree=[]\n",
        "    frontier=jnp.array([jnp.inf]*len(nodes))\n",
        "    pos=nodes.index(start)\n",
        "    frontier=frontier.at[pos].set(0.0)\n",
        "    adjacency=graph.adjacency_list()\n",
        "    visited=set()\n",
        "    for _ in range(len(nodes)+1):\n",
        "        pos=jnp.argmin(frontier).item()\n",
        "        weight=frontier.at[pos].get().item()\n",
        "        v=nodes[pos]\n",
        "        if v in visited:\n",
        "            continue\n",
        "        visited.update({v})\n",
        "        frontier=frontier.at[pos].set(jnp.inf)\n",
        "        u=parents[v]\n",
        "        tree.append((u,v,{'weight':weight}))\n",
        "        for neighbor in adjacency[v]:\n",
        "            if neighbor not in visited:\n",
        "                n_pos=nodes.index(neighbor)\n",
        "                n_weight=frontier.at[n_pos].get().item()\n",
        "                if graph.edges[(v,neighbor)]<n_weight:\n",
        "                  parents[neighbor]=v\n",
        "                  frontier=frontier.at[n_pos].set(graph.edges[(v,neighbor)])\n",
        "    return tree\n",
        "\n"
      ]
    },
    {
      "cell_type": "code",
      "execution_count": 15,
      "metadata": {
        "colab": {
          "base_uri": "https://localhost:8080/"
        },
        "id": "ZWP9zu61Hm8i",
        "outputId": "cf9990d3-7048-46cc-a7ba-1624a6dac2d8"
      },
      "outputs": [
        {
          "data": {
            "text/plain": [
              "[(None, 'a', {'weight': 0.0}),\n",
              " ('a', 'b', {'weight': 4.0}),\n",
              " ('b', 'c', {'weight': 7.0}),\n",
              " ('b', 'd', {'weight': 8.0})]"
            ]
          },
          "execution_count": 15,
          "metadata": {},
          "output_type": "execute_result"
        }
      ],
      "source": [
        "jax_prim(G,'a')"
      ]
    },
    {
      "cell_type": "code",
      "execution_count": 16,
      "metadata": {
        "id": "zjoAEMk9Ytc_"
      },
      "outputs": [],
      "source": [
        "import networkx as nx\n",
        "\n",
        "def gen_random_graph(n,p):\n",
        "    not_connected=True\n",
        "    while not_connected:\n",
        "        G_nx = nx.erdos_renyi_graph(int(n),p,directed=False)\n",
        "        not_connected=nx.is_connected(G_nx)\n",
        "        weights={edge:np.random.randint(1,10) for edge in G_nx.edges}\n",
        "        nx.set_edge_attributes(G_nx, values = weights, name = 'weight')\n",
        "        break\n",
        "    return G_nx"
      ]
    },
    {
      "attachments": {},
      "cell_type": "markdown",
      "metadata": {
        "id": "Vq1rq_aLd-xD"
      },
      "source": []
    },
    {
      "cell_type": "code",
      "execution_count": 17,
      "metadata": {
        "id": "Wgfa051qcz5c"
      },
      "outputs": [],
      "source": [
        "G_nx=gen_random_graph(1e2,0.8)"
      ]
    },
    {
      "cell_type": "code",
      "execution_count": 18,
      "metadata": {
        "id": "Fnx8dGMle4bM"
      },
      "outputs": [],
      "source": [
        "E={(u,v):k['weight'] for (u,v,k) in G_nx.edges(data=True)}\n",
        "G=weighted_graph(E)"
      ]
    },
    {
      "cell_type": "code",
      "execution_count": 19,
      "metadata": {
        "colab": {
          "base_uri": "https://localhost:8080/"
        },
        "id": "5mAw6XBifhKV",
        "outputId": "e3a244bd-0212-4ad8-b3de-a9db1dcd4aaa"
      },
      "outputs": [
        {
          "name": "stdout",
          "output_type": "stream",
          "text": [
            "8.25 ms ± 497 µs per loop (mean ± std. dev. of 7 runs, 100 loops each)\n"
          ]
        }
      ],
      "source": [
        "%timeit T_nx_kruskal=nx.minimum_spanning_tree(G_nx,algorithm='kruskal')"
      ]
    },
    {
      "cell_type": "code",
      "execution_count": 20,
      "metadata": {
        "colab": {
          "base_uri": "https://localhost:8080/"
        },
        "id": "10K-8LaKe6MY",
        "outputId": "0a79e477-ba58-4336-e2bf-06b3e674f1db"
      },
      "outputs": [
        {
          "name": "stdout",
          "output_type": "stream",
          "text": [
            "1.63 s ± 61.3 ms per loop (mean ± std. dev. of 7 runs, 1 loop each)\n"
          ]
        }
      ],
      "source": [
        "%timeit T_jax_kruskal=jax_kruskal(G)"
      ]
    },
    {
      "cell_type": "code",
      "execution_count": 23,
      "metadata": {},
      "outputs": [],
      "source": [
        "T_nx_kruskal=nx.minimum_spanning_tree(G_nx,algorithm='kruskal')"
      ]
    },
    {
      "cell_type": "code",
      "execution_count": 35,
      "metadata": {},
      "outputs": [
        {
          "data": {
            "text/plain": [
              "99"
            ]
          },
          "execution_count": 35,
          "metadata": {},
          "output_type": "execute_result"
        }
      ],
      "source": [
        "sum([k['weight'] for (u,v,k) in T_nx_kruskal.edges(data=True)])"
      ]
    },
    {
      "cell_type": "code",
      "execution_count": 26,
      "metadata": {},
      "outputs": [],
      "source": [
        "T_jax_kruskal=jax_kruskal(G)"
      ]
    },
    {
      "cell_type": "code",
      "execution_count": 31,
      "metadata": {},
      "outputs": [
        {
          "data": {
            "text/plain": [
              "99"
            ]
          },
          "execution_count": 31,
          "metadata": {},
          "output_type": "execute_result"
        }
      ],
      "source": [
        "sum([k['weight'] for (u,v,k) in T_jax_kruskal])"
      ]
    }
  ],
  "metadata": {
    "accelerator": "GPU",
    "colab": {
      "gpuType": "T4",
      "provenance": []
    },
    "kernelspec": {
      "display_name": "Python 3",
      "name": "python3"
    },
    "language_info": {
      "codemirror_mode": {
        "name": "ipython",
        "version": 3
      },
      "file_extension": ".py",
      "mimetype": "text/x-python",
      "name": "python",
      "nbconvert_exporter": "python",
      "pygments_lexer": "ipython3",
      "version": "3.10.6"
    },
    "orig_nbformat": 4
  },
  "nbformat": 4,
  "nbformat_minor": 0
}
