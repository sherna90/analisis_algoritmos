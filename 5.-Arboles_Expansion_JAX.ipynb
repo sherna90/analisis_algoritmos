{
  "cells": [
    {
      "cell_type": "code",
      "execution_count": 1,
      "metadata": {
        "colab": {
          "base_uri": "https://localhost:8080/"
        },
        "id": "tUBpdDXL82ZO",
        "outputId": "4be33214-6f49-4765-ea35-f1775b88469b"
      },
      "outputs": [
        {
          "name": "stdout",
          "output_type": "stream",
          "text": [
            "376 µs ± 5.3 µs per loop (mean ± std. dev. of 7 runs, 1,000 loops each)\n"
          ]
        }
      ],
      "source": [
        "import numpy as np\n",
        "\n",
        "size=8000\n",
        "x=np.random.normal(size=size).astype(np.float32)\n",
        "\n",
        "%timeit np.sort(x,kind='heapsort')"
      ]
    },
    {
      "cell_type": "code",
      "execution_count": 4,
      "metadata": {
        "colab": {
          "base_uri": "https://localhost:8080/"
        },
        "id": "TMD_bqwk82ZQ",
        "outputId": "55fe6c98-f649-4f47-c09a-feaef4f71219"
      },
      "outputs": [
        {
          "name": "stdout",
          "output_type": "stream",
          "text": [
            "2.96 ms ± 13.2 µs per loop (mean ± std. dev. of 7 runs, 100 loops each)\n"
          ]
        }
      ],
      "source": [
        "import jax \n",
        "import jax.numpy as jnp\n",
        "\n",
        "key = jax.random.PRNGKey(0)\n",
        "x = jax.random.normal(key, (size,))\n",
        "%timeit jnp.sort(x,kind='heapsort').block_until_ready()"
      ]
    },
    {
      "cell_type": "code",
      "execution_count": 5,
      "metadata": {
        "colab": {
          "base_uri": "https://localhost:8080/"
        },
        "id": "RaILs3r39Riw",
        "outputId": "d1be665d-54ff-4d84-e2d1-589e789c6803"
      },
      "outputs": [
        {
          "data": {
            "text/plain": [
              "CpuDevice(id=0)"
            ]
          },
          "execution_count": 5,
          "metadata": {},
          "output_type": "execute_result"
        }
      ],
      "source": [
        "x.device()"
      ]
    },
    {
      "cell_type": "code",
      "execution_count": 7,
      "metadata": {
        "id": "udI_RzG682ZR"
      },
      "outputs": [],
      "source": [
        "class abstract_graph:\n",
        "    \n",
        "    def __init__(self,_edges):\n",
        "        self.edges=_edges\n",
        "        self.nodes={u for u,v in self.edges} | {v for u,v in self.edges}\n",
        "        \n",
        "    def adjacency_matrix(self):\n",
        "        pass\n",
        "    \n",
        "    def adjacency_list(self):\n",
        "        pass\n",
        "\n",
        "    \n",
        "class simple_graph(abstract_graph):\n",
        "    \n",
        "    def __init__(self,_edges):\n",
        "        tmp=[]\n",
        "        for (u,v) in _edges:\n",
        "            tmp.append((u,v))\n",
        "            if (v,u) not in tmp and v!=u:\n",
        "                tmp.append((v,u))\n",
        "        self.edges=tmp\n",
        "        self.nodes={u for u,v in _edges} | {v for u,v in _edges}\n",
        "     \n",
        "    def adjacency_matrix(self):\n",
        "        # completar\n",
        "        n=len(self.nodes)\n",
        "        mat=np.zeros((n,n))\n",
        "        for i,v in enumerate(self.nodes):\n",
        "            for j,k in enumerate(self.nodes):\n",
        "                if (v,k) in self.edges:\n",
        "                    mat[i,j]=1\n",
        "        return mat\n",
        "    \n",
        "    \n",
        "    def adjacency_list(self):\n",
        "        adjacent=lambda n : {v for u,v in self.edges if u==n } \n",
        "        return {v:adjacent(v) for v in self.nodes}\n",
        "\n",
        "  \n",
        "class weighted_graph(simple_graph):\n",
        "    \n",
        "    def __init__(self,_edges):\n",
        "        tmp=dict()\n",
        "        for (u,v),w in _edges.items():\n",
        "            tmp.update({(u,v):w})\n",
        "            if (v,u) not in tmp.keys() and v!=u:\n",
        "                tmp.update({(v,u):w})\n",
        "        self.edges=tmp\n",
        "        self.nodes={u for u,v in _edges} | {v for u,v in _edges}"
      ]
    },
    {
      "cell_type": "code",
      "execution_count": 8,
      "metadata": {
        "id": "ZXevcFYX82ZU"
      },
      "outputs": [],
      "source": [
        "def find(C, u): \n",
        "    if C[u] != u:\n",
        "        C[u] = find(C, C[u])\n",
        "    return C[u]\n",
        "\n",
        "def union(C, R, u, v):\n",
        "    u, v = find(C, u), find(C, v)\n",
        "    if R[u] > R[v]:\n",
        "        C[v] = u \n",
        "    else:\n",
        "        C[u] = v\n",
        "    if R[u] == R[v]:\n",
        "        R[v] += 1\n",
        "        \n",
        "def jax_kruskal(G):\n",
        "    E = G.edges\n",
        "    T=[]\n",
        "    values=jnp.array([*E.values()])\n",
        "    items=[*E.keys()]\n",
        "    C,R = {u:u for u in G.nodes}, {u:0 for u in G.nodes}\n",
        "    sorted_edges=[(items[c.item()],w.item()) for c,w in zip(jnp.argsort(values),jnp.sort(values))] \n",
        "    for (u,v),weight in sorted_edges:\n",
        "        if find(C, u) != find(C, v): \n",
        "            T.append((u,v,{'weight':weight}))\n",
        "            union(C, R, u, v)\n",
        "    return T"
      ]
    },
    {
      "attachments": {},
      "cell_type": "markdown",
      "metadata": {
        "id": "EgqHLT7j82ZS"
      },
      "source": [
        "# Algoritmo Kruskal en JAX"
      ]
    },
    {
      "cell_type": "code",
      "execution_count": 9,
      "metadata": {
        "colab": {
          "base_uri": "https://localhost:8080/"
        },
        "id": "4vr-J6JO82ZW",
        "outputId": "3be81c25-3bfa-4e1a-a8de-5b4ddd4200a0"
      },
      "outputs": [
        {
          "name": "stdout",
          "output_type": "stream",
          "text": [
            "aristas :  {('a', 'b'): 4, ('b', 'a'): 4, ('b', 'c'): 7, ('c', 'b'): 7, ('b', 'd'): 8, ('d', 'b'): 8, ('c', 'd'): 10, ('d', 'c'): 10, ('a', 'c'): 9, ('c', 'a'): 9}\n"
          ]
        }
      ],
      "source": [
        "E={('a','b'):4,('b','c'):7,('b','d'):8,('c','d'):10,('a','c'):9}\n",
        "G=weighted_graph(E)\n",
        "print('aristas : ',G.edges)"
      ]
    },
    {
      "cell_type": "code",
      "execution_count": 10,
      "metadata": {
        "id": "oACdSR-o82ZX"
      },
      "outputs": [],
      "source": [
        "T=jax_kruskal(G)"
      ]
    },
    {
      "cell_type": "code",
      "execution_count": 11,
      "metadata": {
        "colab": {
          "base_uri": "https://localhost:8080/"
        },
        "id": "o88MkbKx82ZY",
        "outputId": "b69d9663-e8dc-48f4-883a-4e3580bab8ff"
      },
      "outputs": [
        {
          "data": {
            "text/plain": [
              "[('a', 'b', {'weight': 4}),\n",
              " ('b', 'c', {'weight': 7}),\n",
              " ('b', 'd', {'weight': 8})]"
            ]
          },
          "execution_count": 11,
          "metadata": {},
          "output_type": "execute_result"
        }
      ],
      "source": [
        "T"
      ]
    },
    {
      "cell_type": "code",
      "execution_count": 13,
      "metadata": {
        "id": "B13lyX6y9mVJ"
      },
      "outputs": [],
      "source": [
        "import networkx as nx\n",
        "\n",
        "G_nx=nx.Graph()\n",
        "G_nx.add_weighted_edges_from([(u,v,w) for ((u,v),w) in E.items()])\n",
        "T_nx=nx.minimum_spanning_tree(G_nx,algorithm='kruskal')"
      ]
    },
    {
      "cell_type": "code",
      "execution_count": 14,
      "metadata": {
        "colab": {
          "base_uri": "https://localhost:8080/"
        },
        "id": "VqUmmIMz-sxM",
        "outputId": "643e650c-9d65-4785-94f6-9cb100613390"
      },
      "outputs": [
        {
          "data": {
            "text/plain": [
              "EdgeView([('a', 'b'), ('b', 'c'), ('b', 'd')])"
            ]
          },
          "execution_count": 14,
          "metadata": {},
          "output_type": "execute_result"
        }
      ],
      "source": [
        "T_nx.edges()"
      ]
    },
    {
      "attachments": {},
      "cell_type": "markdown",
      "metadata": {
        "id": "FFJY1P35_SO2"
      },
      "source": [
        "# Algoritmo Prim en JAX"
      ]
    },
    {
      "cell_type": "code",
      "execution_count": 49,
      "metadata": {
        "id": "f81y__Mg_Vbv"
      },
      "outputs": [],
      "source": [
        "def jax_prim(graph,start):\n",
        "    nodes=list(G.nodes)\n",
        "    parents={n:None for n in nodes}\n",
        "    tree=[]\n",
        "    frontier=jnp.array([jnp.inf]*len(nodes))\n",
        "    pos=nodes.index(start)\n",
        "    frontier=frontier.at[pos].set(0.0)\n",
        "    adjacency=graph.adjacency_list()\n",
        "    visited=set()\n",
        "    for _ in range(len(nodes)+1):\n",
        "        pos=jnp.argmin(frontier[jnp.where(frontier >= 0)]).item()\n",
        "        weight=frontier.at[pos].get().item()\n",
        "        v=nodes[pos]\n",
        "        print(v,visited,frontier)\n",
        "        if v in visited:\n",
        "            continue\n",
        "        visited.update({v})\n",
        "        frontier=frontier.at[pos].set(-jnp.inf)\n",
        "        u=parents[v]\n",
        "        tree.append((u,v,{'weight':weight}))\n",
        "        for neighbor in adjacency[v]:\n",
        "            print(parents)\n",
        "            print(pos,neighbor)\n",
        "            if neighbor not in visited:\n",
        "                n_pos=nodes.index(neighbor)\n",
        "                n_weight=frontier.at[n_pos].get().item()\n",
        "                if graph.edges[(v,neighbor)]<n_weight:\n",
        "                  parents[neighbor]=v\n",
        "                  frontier=frontier.at[n_pos].set(graph.edges[(v,neighbor)])\n",
        "    return tree\n",
        "\n"
      ]
    },
    {
      "cell_type": "code",
      "execution_count": 35,
      "metadata": {
        "id": "WhN7m1TqBQdW"
      },
      "outputs": [],
      "source": [
        "frontier=jnp.array([jnp.inf]*10)\n",
        "frontier=frontier.at[3].set(0.0)"
      ]
    },
    {
      "cell_type": "code",
      "execution_count": 36,
      "metadata": {
        "colab": {
          "base_uri": "https://localhost:8080/"
        },
        "id": "ykqj7oU7BW5O",
        "outputId": "1b9165df-da1f-48a8-9b24-f6bcf3370c25"
      },
      "outputs": [
        {
          "data": {
            "text/plain": [
              "Array([inf, inf, inf,  0., inf, inf, inf, inf, inf, inf], dtype=float32)"
            ]
          },
          "execution_count": 36,
          "metadata": {},
          "output_type": "execute_result"
        }
      ],
      "source": [
        "frontier"
      ]
    },
    {
      "cell_type": "code",
      "execution_count": 37,
      "metadata": {
        "colab": {
          "base_uri": "https://localhost:8080/"
        },
        "id": "3wRHasaaHgnx",
        "outputId": "1f870e08-72d2-45d9-db44-03bea95f9a89"
      },
      "outputs": [
        {
          "data": {
            "text/plain": [
              "0"
            ]
          },
          "execution_count": 37,
          "metadata": {},
          "output_type": "execute_result"
        }
      ],
      "source": [
        "jnp.argmin(frontier[jnp.where(frontier>0)]).item()"
      ]
    },
    {
      "cell_type": "code",
      "execution_count": 38,
      "metadata": {
        "id": "CnjzgYNcCxC7"
      },
      "outputs": [],
      "source": [
        "frontier=frontier.at[5].set(3.0)"
      ]
    },
    {
      "cell_type": "code",
      "execution_count": 32,
      "metadata": {
        "id": "MvECIV3CCzjm"
      },
      "outputs": [
        {
          "data": {
            "text/plain": [
              "{('a', 'b'): 4,\n",
              " ('b', 'a'): 4,\n",
              " ('b', 'c'): 7,\n",
              " ('c', 'b'): 7,\n",
              " ('b', 'd'): 8,\n",
              " ('d', 'b'): 8,\n",
              " ('c', 'd'): 10,\n",
              " ('d', 'c'): 10,\n",
              " ('a', 'c'): 9,\n",
              " ('c', 'a'): 9}"
            ]
          },
          "execution_count": 32,
          "metadata": {},
          "output_type": "execute_result"
        }
      ],
      "source": [
        "G.edges"
      ]
    },
    {
      "cell_type": "code",
      "execution_count": 21,
      "metadata": {
        "colab": {
          "base_uri": "https://localhost:8080/"
        },
        "id": "uDyQIFiUCOPx",
        "outputId": "05b3cf84-a355-487f-e272-16b013e7bea7"
      },
      "outputs": [
        {
          "data": {
            "text/plain": [
              "{'a', 'b', 'c', 'd'}"
            ]
          },
          "execution_count": 21,
          "metadata": {},
          "output_type": "execute_result"
        }
      ],
      "source": [
        "G.nodes"
      ]
    },
    {
      "cell_type": "code",
      "execution_count": 23,
      "metadata": {
        "colab": {
          "base_uri": "https://localhost:8080/"
        },
        "id": "xSXJNJLbCX4d",
        "outputId": "b18619f9-3425-4823-e4c3-a39b5fc38732"
      },
      "outputs": [
        {
          "data": {
            "text/plain": [
              "{'d': {'b', 'c'}, 'b': {'a', 'c', 'd'}, 'c': {'a', 'b', 'd'}, 'a': {'b', 'c'}}"
            ]
          },
          "execution_count": 23,
          "metadata": {},
          "output_type": "execute_result"
        }
      ],
      "source": [
        "G.adjacency_list()"
      ]
    },
    {
      "cell_type": "code",
      "execution_count": 50,
      "metadata": {
        "colab": {
          "base_uri": "https://localhost:8080/"
        },
        "id": "ZWP9zu61Hm8i",
        "outputId": "ff21c775-b44f-4d33-cca9-b00d65839fa7"
      },
      "outputs": [
        {
          "name": "stdout",
          "output_type": "stream",
          "text": [
            "a set()\n",
            "{'c': None, 'b': None, 'd': None, 'a': None}\n",
            "3 c\n",
            "{'c': 'a', 'b': None, 'd': None, 'a': None}\n",
            "3 b\n",
            "b {'a'}\n",
            "{'c': 'a', 'b': 'a', 'd': None, 'a': None}\n",
            "1 c\n",
            "{'c': 'b', 'b': 'a', 'd': None, 'a': None}\n",
            "1 a\n",
            "{'c': 'b', 'b': 'a', 'd': None, 'a': None}\n",
            "1 d\n",
            "c {'b', 'a'}\n",
            "{'c': 'b', 'b': 'a', 'd': 'b', 'a': None}\n",
            "0 b\n",
            "{'c': 'b', 'b': 'a', 'd': 'b', 'a': None}\n",
            "0 a\n",
            "{'c': 'b', 'b': 'a', 'd': 'b', 'a': None}\n",
            "0 d\n",
            "c {'c', 'b', 'a'}\n",
            "c {'c', 'b', 'a'}\n"
          ]
        },
        {
          "data": {
            "text/plain": [
              "[(None, 'a', {'weight': 0.0}),\n",
              " ('a', 'b', {'weight': 4.0}),\n",
              " ('b', 'c', {'weight': 7.0})]"
            ]
          },
          "execution_count": 50,
          "metadata": {},
          "output_type": "execute_result"
        }
      ],
      "source": [
        "jax_prim(G,'a')"
      ]
    }
  ],
  "metadata": {
    "accelerator": "GPU",
    "colab": {
      "gpuType": "T4",
      "provenance": []
    },
    "kernelspec": {
      "display_name": "Python 3",
      "name": "python3"
    },
    "language_info": {
      "codemirror_mode": {
        "name": "ipython",
        "version": 3
      },
      "file_extension": ".py",
      "mimetype": "text/x-python",
      "name": "python",
      "nbconvert_exporter": "python",
      "pygments_lexer": "ipython3",
      "version": "3.11.3"
    },
    "orig_nbformat": 4
  },
  "nbformat": 4,
  "nbformat_minor": 0
}
