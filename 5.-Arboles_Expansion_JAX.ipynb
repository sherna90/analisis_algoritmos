{
 "cells": [
  {
   "cell_type": "code",
   "execution_count": 41,
   "metadata": {},
   "outputs": [
    {
     "name": "stdout",
     "output_type": "stream",
     "text": [
      "355 µs ± 1.36 µs per loop (mean ± std. dev. of 7 runs, 1,000 loops each)\n"
     ]
    }
   ],
   "source": [
    "import numpy as np\n",
    "\n",
    "size=8000\n",
    "x=np.random.normal(size=size).astype(np.float32)\n",
    "\n",
    "%timeit np.sort(x,kind='heapsort')"
   ]
  },
  {
   "cell_type": "code",
   "execution_count": 40,
   "metadata": {},
   "outputs": [
    {
     "name": "stdout",
     "output_type": "stream",
     "text": [
      "2.97 ms ± 11.5 µs per loop (mean ± std. dev. of 7 runs, 100 loops each)\n"
     ]
    }
   ],
   "source": [
    "import jax \n",
    "import jax.numpy as jnp\n",
    "\n",
    "key = jax.random.PRNGKey(0)\n",
    "x = jax.random.normal(key, (size,))\n",
    "%timeit jnp.sort(x,kind='heapsort').block_until_ready()"
   ]
  },
  {
   "cell_type": "code",
   "execution_count": 86,
   "metadata": {},
   "outputs": [],
   "source": [
    "class abstract_graph:\n",
    "    \n",
    "    def __init__(self,_edges):\n",
    "        self.edges=_edges\n",
    "        self.nodes={u for u,v in self.edges} | {v for u,v in self.edges}\n",
    "        \n",
    "    def adjacency_matrix(self):\n",
    "        pass\n",
    "    \n",
    "    def adjacency_list(self):\n",
    "        pass\n",
    "\n",
    "    \n",
    "class simple_graph(abstract_graph):\n",
    "    \n",
    "    def __init__(self,_edges):\n",
    "        tmp=[]\n",
    "        for (u,v) in _edges:\n",
    "            tmp.append((u,v))\n",
    "            if (v,u) not in tmp and v!=u:\n",
    "                tmp.append((v,u))\n",
    "        self.edges=tmp\n",
    "        self.nodes={u for u,v in _edges} | {v for u,v in _edges}\n",
    "     \n",
    "    def adjacency_matrix(self):\n",
    "        # completar\n",
    "        n=len(self.nodes)\n",
    "        mat=np.zeros((n,n))\n",
    "        for i,v in enumerate(self.nodes):\n",
    "            for j,k in enumerate(self.nodes):\n",
    "                if (v,k) in self.edges:\n",
    "                    mat[i,j]=1\n",
    "        return mat\n",
    "    \n",
    "    \n",
    "    def adjacency_list(self):\n",
    "        adjacent=lambda n : {v for u,v in self.edges if u==n } \n",
    "        return {v:adjacent(v) for v in self.nodes}\n",
    "\n",
    "  \n",
    "class weighted_graph(simple_graph):\n",
    "    \n",
    "    def __init__(self,_edges):\n",
    "        tmp=dict()\n",
    "        for (u,v),w in _edges.items():\n",
    "            tmp.update({(u,v):w})\n",
    "            if (v,u) not in tmp.keys() and v!=u:\n",
    "                tmp.update({(v,u):w})\n",
    "        self.edges=tmp\n",
    "        self.nodes={u for u,v in _edges} | {v for u,v in _edges}"
   ]
  },
  {
   "attachments": {},
   "cell_type": "markdown",
   "metadata": {},
   "source": [
    "1. Algoritmo Kruskal en JAX"
   ]
  },
  {
   "cell_type": "code",
   "execution_count": 84,
   "metadata": {},
   "outputs": [],
   "source": [
    "def find(C, u): \n",
    "    if C[u] != u:\n",
    "        C[u] = find(C, C[u])\n",
    "    return C[u]\n",
    "\n",
    "def union(C, R, u, v):\n",
    "    u, v = find(C, u), find(C, v)\n",
    "    if R[u] > R[v]:\n",
    "        C[v] = u \n",
    "    else:\n",
    "        C[u] = v\n",
    "    if R[u] == R[v]:\n",
    "        R[v] += 1\n",
    "        \n",
    "def jax_kruskal(G):\n",
    "    E = G.edges\n",
    "    T=[]\n",
    "    values=jnp.array([*E.values()])\n",
    "    items=[*E.keys()]\n",
    "    C,R = {u:u for u in G.nodes}, {u:0 for u in G.nodes}\n",
    "    sorted_edges=[(items[c.item()],w.item()) for c,w in zip(jnp.argsort(values),jnp.sort(values))] \n",
    "    for (u,v),weight in sorted_edges:\n",
    "        if find(C, u) != find(C, v): \n",
    "            T.append((u, v))\n",
    "            union(C, R, u, v)\n",
    "    return T"
   ]
  },
  {
   "cell_type": "code",
   "execution_count": 87,
   "metadata": {},
   "outputs": [
    {
     "name": "stdout",
     "output_type": "stream",
     "text": [
      "aristas :  {('a', 'b'): 4, ('b', 'a'): 4, ('b', 'c'): 7, ('c', 'b'): 7, ('b', 'd'): 8, ('d', 'b'): 8, ('c', 'd'): 10, ('d', 'c'): 10, ('a', 'c'): 9, ('c', 'a'): 9}\n"
     ]
    }
   ],
   "source": [
    "E={('a','b'):4,('b','c'):7,('b','d'):8,('c','d'):10,('a','c'):9}\n",
    "G=weighted_graph(E)\n",
    "print('aristas : ',G.edges)"
   ]
  },
  {
   "cell_type": "code",
   "execution_count": 89,
   "metadata": {},
   "outputs": [],
   "source": [
    "T=jax_kruskal(G)"
   ]
  },
  {
   "cell_type": "code",
   "execution_count": 90,
   "metadata": {},
   "outputs": [
    {
     "data": {
      "text/plain": [
       "[('a', 'b'), ('b', 'c'), ('b', 'd')]"
      ]
     },
     "execution_count": 90,
     "metadata": {},
     "output_type": "execute_result"
    }
   ],
   "source": [
    "T"
   ]
  }
 ],
 "metadata": {
  "kernelspec": {
   "display_name": "jax",
   "language": "python",
   "name": "python3"
  },
  "language_info": {
   "codemirror_mode": {
    "name": "ipython",
    "version": 3
   },
   "file_extension": ".py",
   "mimetype": "text/x-python",
   "name": "python",
   "nbconvert_exporter": "python",
   "pygments_lexer": "ipython3",
   "version": "3.11.3"
  },
  "orig_nbformat": 4
 },
 "nbformat": 4,
 "nbformat_minor": 2
}
