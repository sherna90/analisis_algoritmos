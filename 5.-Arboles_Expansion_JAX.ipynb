{
  "cells": [
    {
      "cell_type": "markdown",
      "metadata": {},
      "source": [
        "# Arboles de Expansion\n",
        "\n",
        "Tanto el algoritmo de Kruskal como el de Prim son algoritmos voraces utilizados para encontrar un Árbol de Expansión Mínima (MST) en un grafo conexo y ponderado. Un MST es un subconjunto de aristas que conecta todos los vértices del grafo sin crear ciclos, y la suma de los pesos de las aristas en el AEM es la mínima posible entre todos los MST del grafo."
      ]
    },
    {
      "cell_type": "code",
      "execution_count": null,
      "metadata": {},
      "outputs": [],
      "source": [
        "class abstract_graph:\n",
        "    \n",
        "    def __init__(self,_edges):\n",
        "        self.edges=_edges\n",
        "        self.nodes={u for u,v in self.edges} | {v for u,v in self.edges}\n",
        "        \n",
        "    def adjacency_matrix(self):\n",
        "        pass\n",
        "    \n",
        "    def adjacency_list(self):\n",
        "        pass\n",
        "\n",
        "    \n",
        "import numpy as np\n",
        "\n",
        "class simple_graph(abstract_graph):\n",
        "    \n",
        "    def __init__(self,_edges):\n",
        "        tmp=[]\n",
        "        for (u,v) in _edges:\n",
        "            tmp.append((u,v))\n",
        "            if (v,u) not in tmp and v!=u:\n",
        "                tmp.append((v,u))\n",
        "        self.edges=tmp\n",
        "        self.nodes={u for u,v in _edges} | {v for u,v in _edges}\n",
        "     \n",
        "    def adjacency_matrix(self):\n",
        "        # completar\n",
        "        n=len(self.nodes)\n",
        "        mat=np.zeros((n,n))\n",
        "        for i,v in enumerate(self.nodes):\n",
        "            for j,k in enumerate(self.nodes):\n",
        "                if (v,k) in self.edges:\n",
        "                    mat[i,j]=1\n",
        "        return mat\n",
        "    \n",
        "    \n",
        "    def adjacency_list(self):\n",
        "        adjacent=lambda n : {v for u,v in self.edges if u==n } \n",
        "        return {v:adjacent(v) for v in self.nodes}\n",
        "\n",
        "  \n",
        "class weighted_graph(simple_graph):\n",
        "    \n",
        "    def __init__(self,_edges):\n",
        "        tmp=dict()\n",
        "        for (u,v),w in _edges.items():\n",
        "            tmp.update({(u,v):w})\n",
        "            if (v,u) not in tmp.keys() and v!=u:\n",
        "                tmp.update({(v,u):w})\n",
        "        self.edges=tmp\n",
        "        self.nodes={u for u,v in _edges} | {v for u,v in _edges}\n",
        "\n",
        "    def adjacency_matrix(self):\n",
        "        # completar\n",
        "        n=len(self.nodes)\n",
        "        mat=np.zeros((n,n))\n",
        "        for i,v in enumerate(self.nodes):\n",
        "            for j,k in enumerate(self.nodes):\n",
        "                if (v,k) in self.edges:\n",
        "                    mat[i,j]=self.edges[(v,k)]\n",
        "        return mat"
      ]
    },
    {
      "attachments": {},
      "cell_type": "markdown",
      "metadata": {
        "id": "EgqHLT7j82ZS"
      },
      "source": [
        "# Algoritmo Kruskal\n",
        "\n",
        "\n",
        "1. Ordenar las aristas: Se ordenan todas las aristas del grafo de menor a mayor peso.\n",
        "\n",
        "2. Inicializar un bosque: Se crea un bosque $C$, donde cada vértice del grafo es un árbol separado.\n",
        "\n",
        "3. Recorrer las aristas ordenadas: Se recorren las aristas ordenadas por peso. \n",
        "\n",
        "4. Para cada arista:\n",
        "    1. Si la arista no crea un ciclo en el bosque $C$:\n",
        "        - Se agrega la arista al bosque $C$.\n",
        "        - Se unen los dos árboles que contenían los extremos de la arista en un solo árbol.\n",
        "    2. Si la arista crea un ciclo en el bosque $C$, se ignora.\n",
        "\n",
        "Retorno: El bosque $C$ final es el MST del grafo."
      ]
    },
    {
      "cell_type": "code",
      "execution_count": 99,
      "metadata": {
        "id": "ZXevcFYX82ZU"
      },
      "outputs": [],
      "source": [
        "def naive_find(C, u):\n",
        "    while C[u] != u:\n",
        "        u = C[u]\n",
        "    return u\n",
        "\n",
        "def naive_union(C, u, v):\n",
        "    u = naive_find(C, u)\n",
        "    v = naive_find(C, v)\n",
        "    C[u]=v\n",
        "        \n",
        "def kruskal(G):\n",
        "    E = G.edges\n",
        "    T=[]\n",
        "    C= {u:u for u in G.nodes}\n",
        "    for (u,v),weight in sorted(E.items(), key=lambda weighted_edge: weighted_edge[1]):\n",
        "        if naive_find(C, u) != naive_find(C, v): \n",
        "            T.append((u,v,{'weight':weight}))\n",
        "            naive_union(C, u, v)\n",
        "    return T"
      ]
    },
    {
      "cell_type": "code",
      "execution_count": 68,
      "metadata": {
        "colab": {
          "base_uri": "https://localhost:8080/"
        },
        "id": "4vr-J6JO82ZW",
        "outputId": "23c8943f-7921-4ab9-8770-c29f58e26a96"
      },
      "outputs": [
        {
          "name": "stdout",
          "output_type": "stream",
          "text": [
            "aristas :  {(1, 2): 4, (2, 1): 4, (2, 3): 7, (3, 2): 7, (3, 4): 8, (4, 3): 8, (3, 5): 10, (5, 3): 10, (4, 5): 9, (5, 4): 9}\n"
          ]
        }
      ],
      "source": [
        "E={(1,2):4,(2,3):7,(3,4):8,(3,5):10,(4,5):9}\n",
        "G=weighted_graph(E)\n",
        "print('aristas : ',G.edges)"
      ]
    },
    {
      "cell_type": "code",
      "execution_count": 69,
      "metadata": {},
      "outputs": [
        {
          "data": {
            "text/plain": [
              "[(1, 2, {'weight': 4}),\n",
              " (2, 3, {'weight': 7}),\n",
              " (3, 4, {'weight': 8}),\n",
              " (4, 5, {'weight': 9})]"
            ]
          },
          "execution_count": 69,
          "metadata": {},
          "output_type": "execute_result"
        }
      ],
      "source": [
        "kruskal(G)"
      ]
    },
    {
      "cell_type": "code",
      "execution_count": 72,
      "metadata": {
        "id": "B13lyX6y9mVJ"
      },
      "outputs": [],
      "source": [
        "import networkx as nx\n",
        "\n",
        "G_nx=nx.Graph()\n",
        "G_nx.add_weighted_edges_from([(u,v,w) for ((u,v),w) in E.items()])\n",
        "T_nx=nx.minimum_spanning_tree(G_nx,algorithm='kruskal')"
      ]
    },
    {
      "cell_type": "code",
      "execution_count": 73,
      "metadata": {
        "colab": {
          "base_uri": "https://localhost:8080/"
        },
        "id": "VqUmmIMz-sxM",
        "outputId": "caac6187-fe33-429c-f3ac-e83d49c348ae"
      },
      "outputs": [
        {
          "data": {
            "text/plain": [
              "EdgeDataView([(1, 2, {'weight': 4}), (2, 3, {'weight': 7}), (3, 4, {'weight': 8}), (4, 5, {'weight': 9})])"
            ]
          },
          "execution_count": 73,
          "metadata": {},
          "output_type": "execute_result"
        }
      ],
      "source": [
        "T_nx.edges(data=True)"
      ]
    },
    {
      "attachments": {},
      "cell_type": "markdown",
      "metadata": {
        "id": "FFJY1P35_SO2"
      },
      "source": [
        "# Algoritmo Prim\n",
        "\n",
        "\n",
        "1. Elegir un vértice inicial: Se elige un vértice arbitrario del grafo como vértice inicial.\n",
        "\n",
        "2. Inicializar un conjunto $V$: El conjunto $V$ inicialmente contiene solo el vértice inicial.\n",
        "\n",
        "3. Recorrer los vértices no incluidos en $V$: \n",
        "\n",
        "    1. Se recorren los vértices del grafo que no están incluidos en $V$. \n",
        "    2. Para cada vértice v:\n",
        "        - Se encuentra la arista de menor peso que conecta un vértice de $V$ con $v$.\n",
        "        - Si la arista existe:\n",
        "            * Se agrega la arista a $V$.\n",
        "            * Se agrega el vértice $v$ a $V$.\n",
        "\n",
        "4. Retorno: El grafo inducido por los vértices y aristas de $V$ es el MST del grafo."
      ]
    },
    {
      "cell_type": "code",
      "execution_count": 74,
      "metadata": {
        "id": "f81y__Mg_Vbv"
      },
      "outputs": [],
      "source": [
        "from heapq import heappop, heappush\n",
        "\n",
        "def prim(G, s):\n",
        "    V, Q = {}, [(0, None, s)]\n",
        "    L=G.adjacency_list()\n",
        "    T=list()\n",
        "    while Q:\n",
        "        w, p, u = heappop(Q)\n",
        "        if u in V: continue\n",
        "        V[u] = p\n",
        "        T.append((p,u,{'weight':w}))\n",
        "        for v in L[u]:\n",
        "            weight=G.edges[(u,v)]\n",
        "            heappush(Q, (weight, u, v))\n",
        "    return T[1:]\n"
      ]
    },
    {
      "cell_type": "code",
      "execution_count": 76,
      "metadata": {},
      "outputs": [
        {
          "data": {
            "text/plain": [
              "[(1, 2, {'weight': 4}),\n",
              " (2, 3, {'weight': 7}),\n",
              " (3, 4, {'weight': 8}),\n",
              " (4, 5, {'weight': 9})]"
            ]
          },
          "execution_count": 76,
          "metadata": {},
          "output_type": "execute_result"
        }
      ],
      "source": [
        "prim(G,1)"
      ]
    },
    {
      "cell_type": "code",
      "execution_count": 77,
      "metadata": {},
      "outputs": [
        {
          "data": {
            "text/plain": [
              "EdgeDataView([(1, 2, {'weight': 4}), (2, 3, {'weight': 7}), (3, 4, {'weight': 8}), (4, 5, {'weight': 9})])"
            ]
          },
          "execution_count": 77,
          "metadata": {},
          "output_type": "execute_result"
        }
      ],
      "source": [
        "T_nx=nx.minimum_spanning_tree(G_nx,algorithm='prim')\n",
        "T_nx.edges(data=True)"
      ]
    },
    {
      "attachments": {},
      "cell_type": "markdown",
      "metadata": {},
      "source": [
        "# MST en Grafos Aleatorios"
      ]
    },
    {
      "cell_type": "code",
      "execution_count": 78,
      "metadata": {
        "id": "zjoAEMk9Ytc_"
      },
      "outputs": [],
      "source": [
        "import networkx as nx\n",
        "import numpy as np \n",
        "\n",
        "def gen_random_graph(n,p):\n",
        "    not_connected=True\n",
        "    while not_connected:\n",
        "        G_nx = nx.erdos_renyi_graph(int(n),p,directed=False)\n",
        "        not_connected=nx.is_connected(G_nx)\n",
        "        weights={edge:np.random.randint(1,10) for edge in G_nx.edges}\n",
        "        nx.set_edge_attributes(G_nx, values = weights, name = 'weight')\n",
        "        break\n",
        "    return G_nx"
      ]
    },
    {
      "cell_type": "code",
      "execution_count": 79,
      "metadata": {
        "id": "Wgfa051qcz5c"
      },
      "outputs": [],
      "source": [
        "G_nx=gen_random_graph(1e2,0.2)"
      ]
    },
    {
      "cell_type": "code",
      "execution_count": 80,
      "metadata": {
        "id": "Fnx8dGMle4bM"
      },
      "outputs": [],
      "source": [
        "E={(u,v):k['weight'] for (u,v,k) in G_nx.edges(data=True)}\n",
        "G=weighted_graph(E)"
      ]
    },
    {
      "cell_type": "code",
      "execution_count": 81,
      "metadata": {
        "colab": {
          "base_uri": "https://localhost:8080/"
        },
        "id": "5mAw6XBifhKV",
        "outputId": "e3a244bd-0212-4ad8-b3de-a9db1dcd4aaa"
      },
      "outputs": [
        {
          "name": "stdout",
          "output_type": "stream",
          "text": [
            "Algoritmo Kruskal NX Tiempo : 0.002881[s], Peso : 109\n"
          ]
        }
      ],
      "source": [
        "import time \n",
        "\n",
        "t1=time.time()\n",
        "T_nx_kruskal=nx.minimum_spanning_tree(G_nx,algorithm='kruskal')\n",
        "t2=time.time()\n",
        "print('Algoritmo Kruskal NX Tiempo : {0:2f}[s], Peso : {1}'.format(t2-t1,sum([k['weight'] for (u,v,k) in T_nx_kruskal.edges(data=True)])))"
      ]
    },
    {
      "cell_type": "code",
      "execution_count": 82,
      "metadata": {
        "colab": {
          "base_uri": "https://localhost:8080/"
        },
        "id": "10K-8LaKe6MY",
        "outputId": "0a79e477-ba58-4336-e2bf-06b3e674f1db"
      },
      "outputs": [
        {
          "name": "stdout",
          "output_type": "stream",
          "text": [
            "Algoritmo Kruskal Tiempo : 0.005255[s], Peso : 109\n"
          ]
        }
      ],
      "source": [
        "t1=time.time()\n",
        "T_jax_kruskal=kruskal(G)\n",
        "t2=time.time()\n",
        "print('Algoritmo Kruskal Tiempo : {0:2f}[s], Peso : {1}'.format(t2-t1,sum([k['weight'] for (u,v,k) in T_jax_kruskal])))"
      ]
    },
    {
      "cell_type": "code",
      "execution_count": 83,
      "metadata": {},
      "outputs": [
        {
          "name": "stdout",
          "output_type": "stream",
          "text": [
            "Algoritmo Prim Tiempo : 0.010802[s], Peso : 109\n"
          ]
        }
      ],
      "source": [
        "t1=time.time()\n",
        "T_jax_prim=prim(G,0)\n",
        "t2=time.time()\n",
        "print('Algoritmo Prim Tiempo : {0:2f}[s], Peso : {1}'.format(t2-t1,sum([k['weight'] for (u,v,k) in T_jax_prim])))"
      ]
    },
    {
      "cell_type": "code",
      "execution_count": 84,
      "metadata": {},
      "outputs": [
        {
          "name": "stdout",
          "output_type": "stream",
          "text": [
            "Algoritmo Kruskal SciPy Tiempo : 0.001608[s], Peso : 109.0\n"
          ]
        }
      ],
      "source": [
        "import scipy as sp\n",
        "from scipy.sparse.csgraph import minimum_spanning_tree\n",
        "from scipy.sparse import csr_matrix\n",
        "\n",
        "M = nx.adjacency_matrix(G_nx)\n",
        "t1=time.time()\n",
        "T_sp=minimum_spanning_tree(csr_matrix(M))\n",
        "t2=time.time()\n",
        "print('Algoritmo Kruskal SciPy Tiempo : {0:2f}[s], Peso : {1}'.format(t2-t1,np.sum(T_sp)))"
      ]
    },
    {
      "cell_type": "markdown",
      "metadata": {},
      "source": [
        "# Cython MST"
      ]
    },
    {
      "cell_type": "code",
      "execution_count": 92,
      "metadata": {},
      "outputs": [],
      "source": [
        "import heapq \n",
        "import numpy as np \n",
        "import priority_queue as pq\n",
        "\n",
        "def test_heap_insert(randlist):\n",
        "    heap=list()\n",
        "    for item in randlist:\n",
        "        heapq.heappush(heap, (item, item))\n",
        "    for _ in range(len(randlist)):\n",
        "        heapq.heappop(heap)\n",
        "\n",
        "def test_pq_insert(randlist):\n",
        "    Q=pq.PyPQ()\n",
        "    for item in randlist:\n",
        "       Q.insert((item, item))\n",
        "    for _ in range(len(randlist)):\n",
        "        Q.pop()\n"
      ]
    },
    {
      "cell_type": "code",
      "execution_count": 93,
      "metadata": {},
      "outputs": [],
      "source": [
        "randlist=np.random.permutation(range(10_000_000))"
      ]
    },
    {
      "cell_type": "code",
      "execution_count": 95,
      "metadata": {},
      "outputs": [
        {
          "name": "stdout",
          "output_type": "stream",
          "text": [
            "3.9868550300598145\n",
            " \n",
            "*** Profile printout saved to text file 'prun0'.\n"
          ]
        }
      ],
      "source": [
        "%%prun -s cumulative -q -l 10 -T prun0\n",
        "import time \n",
        "\n",
        "t1=time.time()\n",
        "test_pq(randlist)\n",
        "t2=time.time()\n",
        "print(t2-t1)"
      ]
    },
    {
      "cell_type": "code",
      "execution_count": 96,
      "metadata": {},
      "outputs": [
        {
          "name": "stdout",
          "output_type": "stream",
          "text": [
            "         31 function calls in 3.988 seconds\n",
            "\n",
            "   Ordered by: cumulative time\n",
            "   List reduced from 22 to 10 due to restriction <10>\n",
            "\n",
            "   ncalls  tottime  percall  cumtime  percall filename:lineno(function)\n",
            "        1    0.000    0.000    3.988    3.988 {built-in method builtins.exec}\n",
            "        1    0.123    0.123    3.988    3.988 <string>:1(<module>)\n",
            "        1    3.863    3.863    3.863    3.863 397704518.py:12(test_pq)\n",
            "        1    0.000    0.000    0.001    0.001 {built-in method builtins.print}\n",
            "        2    0.000    0.000    0.000    0.000 iostream.py:610(write)\n",
            "        2    0.000    0.000    0.000    0.000 iostream.py:532(_schedule_flush)\n",
            "        1    0.000    0.000    0.000    0.000 iostream.py:243(schedule)\n",
            "        1    0.000    0.000    0.000    0.000 socket.py:621(send)\n",
            "        1    0.000    0.000    0.000    0.000 threading.py:1185(is_alive)\n",
            "        2    0.000    0.000    0.000    0.000 iostream.py:505(_is_master_process)\n"
          ]
        }
      ],
      "source": [
        "print(open('prun0', 'r').read())"
      ]
    },
    {
      "cell_type": "code",
      "execution_count": 97,
      "metadata": {},
      "outputs": [
        {
          "name": "stdout",
          "output_type": "stream",
          "text": [
            "3.0764729976654053\n",
            " \n",
            "*** Profile printout saved to text file 'prun1'.\n"
          ]
        }
      ],
      "source": [
        "%%prun -s cumulative -q -l 10 -T prun1\n",
        "t1=time.time()\n",
        "test_heap(randlist)\n",
        "t2=time.time()\n",
        "print(t2-t1)"
      ]
    },
    {
      "cell_type": "code",
      "execution_count": 98,
      "metadata": {},
      "outputs": [
        {
          "name": "stdout",
          "output_type": "stream",
          "text": [
            "         10001031 function calls in 3.077 seconds\n",
            "\n",
            "   Ordered by: cumulative time\n",
            "   List reduced from 24 to 10 due to restriction <10>\n",
            "\n",
            "   ncalls  tottime  percall  cumtime  percall filename:lineno(function)\n",
            "        1    0.000    0.000    3.077    3.077 {built-in method builtins.exec}\n",
            "        1    0.335    0.335    3.077    3.077 <string>:1(<module>)\n",
            "        1    1.811    1.811    2.742    2.742 397704518.py:5(test_heap)\n",
            " 10000000    0.915    0.000    0.915    0.000 {built-in method _heapq.heappush}\n",
            "     1000    0.016    0.000    0.016    0.000 {built-in method _heapq.heappop}\n",
            "        1    0.000    0.000    0.000    0.000 {built-in method builtins.print}\n",
            "        2    0.000    0.000    0.000    0.000 iostream.py:610(write)\n",
            "        2    0.000    0.000    0.000    0.000 iostream.py:532(_schedule_flush)\n",
            "        1    0.000    0.000    0.000    0.000 iostream.py:243(schedule)\n",
            "        1    0.000    0.000    0.000    0.000 socket.py:621(send)\n"
          ]
        }
      ],
      "source": [
        "print(open('prun1', 'r').read())"
      ]
    }
  ],
  "metadata": {
    "accelerator": "GPU",
    "colab": {
      "gpuType": "T4",
      "provenance": []
    },
    "kernelspec": {
      "display_name": "Python 3",
      "name": "python3"
    },
    "language_info": {
      "codemirror_mode": {
        "name": "ipython",
        "version": 3
      },
      "file_extension": ".py",
      "mimetype": "text/x-python",
      "name": "python",
      "nbconvert_exporter": "python",
      "pygments_lexer": "ipython3",
      "version": "3.11.5"
    },
    "orig_nbformat": 4
  },
  "nbformat": 4,
  "nbformat_minor": 0
}
